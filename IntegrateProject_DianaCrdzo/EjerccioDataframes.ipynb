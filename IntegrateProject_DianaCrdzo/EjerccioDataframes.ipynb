{
 "cells": [
  {
   "cell_type": "code",
   "execution_count": 1,
   "id": "e291dacf-dc00-4784-a61e-270f5333dbe3",
   "metadata": {},
   "outputs": [],
   "source": [
    "import findspark\n",
    "findspark.init()\n",
    "\n",
    "import pandas as pd\n",
    "import pyspark"
   ]
  },
  {
   "cell_type": "code",
   "execution_count": 2,
   "id": "cf58cc57-e59b-4f99-9bc3-21166a7471a0",
   "metadata": {},
   "outputs": [],
   "source": [
    "from pyspark.sql import SparkSession\n",
    "\n",
    "spark = SparkSession.builder\\\n",
    "        .master(\"local[*]\")\\\n",
    "        .appName('myDataFrame')\\\n",
    "        .getOrCreate()"
   ]
  },
  {
   "cell_type": "markdown",
   "id": "48a45de8-0c60-4cbb-bc45-7f69049cab2a",
   "metadata": {},
   "source": [
    "#### 1. Importar el csv de \"data/WorldCupPlayers.csv\"\n",
    "#### Visualizar los datos"
   ]
  },
  {
   "cell_type": "code",
   "execution_count": 11,
   "id": "6edfa543-630c-4aba-ae16-c4fdaef05755",
   "metadata": {},
   "outputs": [
    {
     "name": "stdout",
     "output_type": "stream",
     "text": [
      "+-------+-------+-------------+-------------------+-------+------------+----------------+--------+---------+\n",
      "|RoundID|MatchID|Team Initials|         Coach Name|Line-up|Shirt Number|     Player Name|Position|    Event|\n",
      "+-------+-------+-------------+-------------------+-------+------------+----------------+--------+---------+\n",
      "|    201|   1096|          FRA|CAUDRON Raoul (FRA)|      S|           0|     Alex THEPOT|      GK|     NULL|\n",
      "|    201|   1096|          MEX|   LUQUE Juan (MEX)|      S|           0| Oscar BONFIGLIO|      GK|     NULL|\n",
      "|    201|   1096|          FRA|CAUDRON Raoul (FRA)|      S|           0|Marcel LANGILLER|    NULL|     G40'|\n",
      "|    201|   1096|          MEX|   LUQUE Juan (MEX)|      S|           0|    Juan CARRENO|    NULL|     G70'|\n",
      "|    201|   1096|          FRA|CAUDRON Raoul (FRA)|      S|           0| Ernest LIBERATI|    NULL|     NULL|\n",
      "|    201|   1096|          MEX|   LUQUE Juan (MEX)|      S|           0|    Rafael GARZA|       C|     NULL|\n",
      "|    201|   1096|          FRA|CAUDRON Raoul (FRA)|      S|           0| Andre MASCHINOT|    NULL|G43' G87'|\n",
      "|    201|   1096|          MEX|   LUQUE Juan (MEX)|      S|           0|   Hilario LOPEZ|    NULL|     NULL|\n",
      "|    201|   1096|          FRA|CAUDRON Raoul (FRA)|      S|           0| Etienne MATTLER|    NULL|     NULL|\n",
      "|    201|   1096|          MEX|   LUQUE Juan (MEX)|      S|           0|  Dionisio MEJIA|    NULL|     NULL|\n",
      "+-------+-------+-------------+-------------------+-------+------------+----------------+--------+---------+\n",
      "only showing top 10 rows\n",
      "\n"
     ]
    }
   ],
   "source": [
    "cup_df = spark.read.csv (\"C:/data/WorldCupPlayers.csv\", \n",
    "                          inferSchema = True, \n",
    "                          header = True) \n",
    "cup_df.show (10)"
   ]
  },
  {
   "cell_type": "code",
   "execution_count": null,
   "id": "7b986927-1d59-4ade-b83c-2fe6bd7f0645",
   "metadata": {},
   "outputs": [],
   "source": [
    "## ¿que tipo de datos contiene cada variable?"
   ]
  },
  {
   "cell_type": "code",
   "execution_count": 12,
   "id": "f9cc5668-cc16-4fc9-99e3-02bb5e89e7fa",
   "metadata": {},
   "outputs": [
    {
     "name": "stdout",
     "output_type": "stream",
     "text": [
      "root\n",
      " |-- RoundID: integer (nullable = true)\n",
      " |-- MatchID: integer (nullable = true)\n",
      " |-- Team Initials: string (nullable = true)\n",
      " |-- Coach Name: string (nullable = true)\n",
      " |-- Line-up: string (nullable = true)\n",
      " |-- Shirt Number: integer (nullable = true)\n",
      " |-- Player Name: string (nullable = true)\n",
      " |-- Position: string (nullable = true)\n",
      " |-- Event: string (nullable = true)\n",
      "\n"
     ]
    }
   ],
   "source": [
    "cup_df.printSchema()"
   ]
  },
  {
   "cell_type": "code",
   "execution_count": null,
   "id": "a9a2d0e1-2244-4503-8dd9-e1c133d1b2b0",
   "metadata": {},
   "outputs": [],
   "source": [
    "## ¿Cuantos registros hay?"
   ]
  },
  {
   "cell_type": "code",
   "execution_count": 13,
   "id": "ccece09f-6ef3-402f-b46e-fe27e34885b9",
   "metadata": {},
   "outputs": [
    {
     "data": {
      "text/plain": [
       "37784"
      ]
     },
     "execution_count": 13,
     "metadata": {},
     "output_type": "execute_result"
    }
   ],
   "source": [
    "cup_df.count()"
   ]
  },
  {
   "cell_type": "code",
   "execution_count": null,
   "id": "34b773cc-691b-41ef-a78e-17b086c40d50",
   "metadata": {},
   "outputs": [],
   "source": [
    "## Obtén los principales estadísticos de Position"
   ]
  },
  {
   "cell_type": "code",
   "execution_count": 14,
   "id": "8871b68d-6128-45b5-ab86-e19f1d74d2ae",
   "metadata": {},
   "outputs": [
    {
     "name": "stdout",
     "output_type": "stream",
     "text": [
      "+-------+--------+\n",
      "|summary|Position|\n",
      "+-------+--------+\n",
      "|  count|    4143|\n",
      "|   mean|    NULL|\n",
      "| stddev|    NULL|\n",
      "|    min|       C|\n",
      "|    max|     GKC|\n",
      "+-------+--------+\n",
      "\n"
     ]
    }
   ],
   "source": [
    "cup_df.describe('Position').show()"
   ]
  },
  {
   "cell_type": "code",
   "execution_count": null,
   "id": "7c77bc28-2880-4042-b685-2b290a5c15c3",
   "metadata": {},
   "outputs": [],
   "source": [
    "## Slecciona y muestra los registros distintos de 'Player Name','Coach Name'"
   ]
  },
  {
   "cell_type": "code",
   "execution_count": 15,
   "id": "14bcda86-84c7-449e-b114-ac5b42665ac0",
   "metadata": {},
   "outputs": [
    {
     "name": "stdout",
     "output_type": "stream",
     "text": [
      "+--------------------+--------------------+\n",
      "|         Player Name|          Coach Name|\n",
      "+--------------------+--------------------+\n",
      "|    Arturo FERNANDEZ| BRU Francisco (ESP)|\n",
      "|Cayetano CARRERAS...|DURAND LAGUNA Jos...|\n",
      "|  Ernesto MASCHERONI|SUPPICI Alberto (...|\n",
      "|          Aziz FAHMY|   McREA James (SCO)|\n",
      "|        Gyula POLGAR|    NADAS Odon (HUN)|\n",
      "|  Ernesto ALBARRACIN|PASCUCCI Felipe (...|\n",
      "| Armando CASTELLAZZI|POZZO Vittorio (ITA)|\n",
      "|     Jaroslav BOUCEK|   PETRU Karel (TCH)|\n",
      "|           Erwin NYC|  KALUZA Jozef (POL)|\n",
      "|     Stanislaw BARAN|  KALUZA Jozef (POL)|\n",
      "|     Fernando ROLDAN|BUCCIARDI Arturo ...|\n",
      "|            Joe MACA|  JEFFREY Bill (SCO)|\n",
      "|               INDIO|  MOREIRA Zeze (BRA)|\n",
      "|      Rene DEREUDDRE|PIBAROT Pierre (FRA)|\n",
      "|    Anton MALATINSKY|    CEJP Josef (TCH)|\n",
      "|    Alberto MARIOTTI|LORENZO Juan Carl...|\n",
      "|  Alfredo DI STEFANO|HERRERA Helenio (...|\n",
      "|             FIDELIS| FEOLA Vicente (BRA)|\n",
      "|     Stoyan YORDANOV|BOZHKOV Stefan (BUL)|\n",
      "|      Wim RIJSBERGEN| MICHELS Rinus (NED)|\n",
      "+--------------------+--------------------+\n",
      "only showing top 20 rows\n",
      "\n"
     ]
    }
   ],
   "source": [
    "cup_df.select('Player Name','Coach Name').distinct().show()"
   ]
  },
  {
   "cell_type": "code",
   "execution_count": null,
   "id": "9a347a91-c723-4c88-bae6-19e6eeb266fc",
   "metadata": {},
   "outputs": [],
   "source": [
    "## ¿Cuantos partidos con el ID de 1096 ha habido?"
   ]
  },
  {
   "cell_type": "code",
   "execution_count": 16,
   "id": "6a2d5cd5-672f-4d70-ba0b-07aa32e3494f",
   "metadata": {},
   "outputs": [
    {
     "data": {
      "text/plain": [
       "33"
      ]
     },
     "execution_count": 16,
     "metadata": {},
     "output_type": "execute_result"
    }
   ],
   "source": [
    "cup_df.filter(cup_df.MatchID =='1096').count()"
   ]
  },
  {
   "cell_type": "code",
   "execution_count": null,
   "id": "5803f02d-97a0-4673-872c-98a2b36d5b67",
   "metadata": {},
   "outputs": [],
   "source": [
    "## Muestra los datos donde la posicion haya sido C y el evento sea G40"
   ]
  },
  {
   "cell_type": "code",
   "execution_count": 18,
   "id": "6748c3c9-6b6a-423b-96a2-d31e81d13bbe",
   "metadata": {},
   "outputs": [
    {
     "name": "stdout",
     "output_type": "stream",
     "text": [
      "+-------+-------+-------------+--------------------+-------+------------+----------------+--------+-----+\n",
      "|RoundID|MatchID|Team Initials|          Coach Name|Line-up|Shirt Number|     Player Name|Position|Event|\n",
      "+-------+-------+-------------+--------------------+-------+------------+----------------+--------+-----+\n",
      "|    201|   1089|          PAR|DURAND LAGUNA Jos...|      S|           0|Luis VARGAS PENA|       C| G40'|\n",
      "|    429|   1175|          HUN|  DIETZ Karoly (HUN)|      S|           0|   Gyorgy SAROSI|       C| G40'|\n",
      "+-------+-------+-------------+--------------------+-------+------------+----------------+--------+-----+\n",
      "\n"
     ]
    }
   ],
   "source": [
    "cup_df.filter((cup_df.Position == 'C') & (cup_df.Event==\"G40'\")).show()"
   ]
  },
  {
   "cell_type": "code",
   "execution_count": null,
   "id": "bac98eff-556b-4b00-bd0c-d16fb7af5da9",
   "metadata": {},
   "outputs": [],
   "source": [
    "## Utiliza Spark SQL para mostras los registros donde el MatchID sea mayor o igual a 20"
   ]
  },
  {
   "cell_type": "code",
   "execution_count": 19,
   "id": "f0fdda27-9d28-4e32-83e2-622f4859c0bc",
   "metadata": {},
   "outputs": [
    {
     "name": "stdout",
     "output_type": "stream",
     "text": [
      "+-------+-------+-------------+-------------------+-------+------------+-----------------+--------+---------+\n",
      "|RoundID|MatchID|Team Initials|         Coach Name|Line-up|Shirt Number|      Player Name|Position|    Event|\n",
      "+-------+-------+-------------+-------------------+-------+------------+-----------------+--------+---------+\n",
      "|    201|   1096|          FRA|CAUDRON Raoul (FRA)|      S|           0|      Alex THEPOT|      GK|     NULL|\n",
      "|    201|   1096|          MEX|   LUQUE Juan (MEX)|      S|           0|  Oscar BONFIGLIO|      GK|     NULL|\n",
      "|    201|   1096|          FRA|CAUDRON Raoul (FRA)|      S|           0| Marcel LANGILLER|    NULL|     G40'|\n",
      "|    201|   1096|          MEX|   LUQUE Juan (MEX)|      S|           0|     Juan CARRENO|    NULL|     G70'|\n",
      "|    201|   1096|          FRA|CAUDRON Raoul (FRA)|      S|           0|  Ernest LIBERATI|    NULL|     NULL|\n",
      "|    201|   1096|          MEX|   LUQUE Juan (MEX)|      S|           0|     Rafael GARZA|       C|     NULL|\n",
      "|    201|   1096|          FRA|CAUDRON Raoul (FRA)|      S|           0|  Andre MASCHINOT|    NULL|G43' G87'|\n",
      "|    201|   1096|          MEX|   LUQUE Juan (MEX)|      S|           0|    Hilario LOPEZ|    NULL|     NULL|\n",
      "|    201|   1096|          FRA|CAUDRON Raoul (FRA)|      S|           0|  Etienne MATTLER|    NULL|     NULL|\n",
      "|    201|   1096|          MEX|   LUQUE Juan (MEX)|      S|           0|   Dionisio MEJIA|    NULL|     NULL|\n",
      "|    201|   1096|          FRA|CAUDRON Raoul (FRA)|      S|           0|     Marcel PINEL|    NULL|     NULL|\n",
      "|    201|   1096|          MEX|   LUQUE Juan (MEX)|      S|           0|     Felipe ROSAS|    NULL|     NULL|\n",
      "|    201|   1096|          FRA|CAUDRON Raoul (FRA)|      S|           0|  Alex VILLAPLANE|       C|     NULL|\n",
      "|    201|   1096|          MEX|   LUQUE Juan (MEX)|      S|           0|     Manuel ROSAS|    NULL|     NULL|\n",
      "|    201|   1096|          FRA|CAUDRON Raoul (FRA)|      S|           0|   Lucien LAURENT|    NULL|     G19'|\n",
      "|    201|   1096|          MEX|   LUQUE Juan (MEX)|      S|           0|        Jose RUIZ|    NULL|     NULL|\n",
      "|    201|   1096|          FRA|CAUDRON Raoul (FRA)|      S|           0|   Marcel CAPELLE|    NULL|     NULL|\n",
      "|    201|   1096|          MEX|   LUQUE Juan (MEX)|      S|           0|  Alfredo SANCHEZ|    NULL|     NULL|\n",
      "|    201|   1096|          FRA|CAUDRON Raoul (FRA)|      S|           0|Augustin CHANTREL|    NULL|     NULL|\n",
      "|    201|   1096|          MEX|   LUQUE Juan (MEX)|      S|           0|   Efrain AMEZCUA|    NULL|     NULL|\n",
      "+-------+-------+-------------+-------------------+-------+------------+-----------------+--------+---------+\n",
      "only showing top 20 rows\n",
      "\n"
     ]
    }
   ],
   "source": [
    "cup_df.createOrReplaceTempView(\"temp_cuptable\")\n",
    "\n",
    "spark.sql(\"select * from temp_cuptable where MatchID >= 20\").show()"
   ]
  },
  {
   "cell_type": "code",
   "execution_count": null,
   "id": "35dbe69c-58db-4d6b-9748-2a39a0f5c4f0",
   "metadata": {},
   "outputs": [],
   "source": []
  }
 ],
 "metadata": {
  "kernelspec": {
   "display_name": "Python 3 (ipykernel)",
   "language": "python",
   "name": "python3"
  },
  "language_info": {
   "codemirror_mode": {
    "name": "ipython",
    "version": 3
   },
   "file_extension": ".py",
   "mimetype": "text/x-python",
   "name": "python",
   "nbconvert_exporter": "python",
   "pygments_lexer": "ipython3",
   "version": "3.11.9"
  }
 },
 "nbformat": 4,
 "nbformat_minor": 5
}
