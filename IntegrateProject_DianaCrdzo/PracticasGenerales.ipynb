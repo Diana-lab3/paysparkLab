{
 "cells": [
  {
   "cell_type": "code",
   "execution_count": null,
   "id": "68d04dad-00fd-43d4-950c-bf6ac0cbc9ce",
   "metadata": {},
   "outputs": [],
   "source": [
    "### verificar la instalación ###"
   ]
  },
  {
   "cell_type": "code",
   "execution_count": 1,
   "id": "218c4cae-b6a5-4401-9263-8476419d6cc6",
   "metadata": {},
   "outputs": [],
   "source": [
    "import findspark\n",
    "findspark.init()"
   ]
  },
  {
   "cell_type": "code",
   "execution_count": 12,
   "id": "b782dbbb-c473-46a3-8e17-81ab9b938bc9",
   "metadata": {},
   "outputs": [],
   "source": [
    "import pyspark\n",
    "from pyspark.sql import SparkSession"
   ]
  },
  {
   "cell_type": "code",
   "execution_count": 13,
   "id": "79ef5505-4d2c-4d22-ad3f-dbd62231b68a",
   "metadata": {},
   "outputs": [
    {
     "data": {
      "text/plain": [
       "<bound method DataFrame.show of DataFrame[hello: string]>"
      ]
     },
     "execution_count": 13,
     "metadata": {},
     "output_type": "execute_result"
    }
   ],
   "source": [
    "spark = SparkSession.builder.getOrCreate()\n",
    "\n",
    "df = spark.sql(\"select 'spark' as hello \")\n",
    "\n",
    "df.show"
   ]
  },
  {
   "cell_type": "markdown",
   "id": "9033e842-2102-4030-9337-ad8a24d67b54",
   "metadata": {},
   "source": [
    "## Probando la sesión de Spark"
   ]
  },
  {
   "cell_type": "code",
   "execution_count": 14,
   "id": "bc3bfc41-964b-4288-98fd-fee06a948364",
   "metadata": {},
   "outputs": [
    {
     "name": "stdout",
     "output_type": "stream",
     "text": [
      "+-----+\n",
      "|Hola |\n",
      "+-----+\n",
      "|Mundo|\n",
      "|Mundo|\n",
      "|Mundo|\n",
      "|Mundo|\n",
      "|Mundo|\n",
      "|Mundo|\n",
      "|Mundo|\n",
      "|Mundo|\n",
      "|Mundo|\n",
      "|Mundo|\n",
      "+-----+\n",
      "\n"
     ]
    }
   ],
   "source": [
    "df = spark.createDataFrame([{\"Hola\": \"Mundo\"} for x in range(10)])\n",
    "\n",
    "df.show(10, False)"
   ]
  },
  {
   "cell_type": "markdown",
   "id": "ca564aea-0663-44e8-8169-2629c081f3c5",
   "metadata": {},
   "source": [
    "# Ejercicio 2\n",
    "* Cree una sesión de Spark con nombre Cap2 y asegúrese de que emplea todos los cores disponibles para ejecutar en su ambiente de trabajo.\n",
    "* Cree dos RDD vacíos, uno de ellos no debe contener particiones y el otro debe tener 5 particiones. Utilice vías diferentes para crear cada RDD.\n",
    "* Cree un RDD que contenga los números primos que hay entre 1 y 20.\n",
    "* Cree un nuevo RDD a partir del RDD creado en el ejercicio anterior el cuál solo contenga los números primos mayores a 10.\n",
    "* Descargue el archivo de texto adjunto a esta lección como recurso y guárdelo en una carpeta llamada data en el ambiente de trabajo de Colab.\n",
    "* Cree un RDD a partir de este archivo de texto en donde todo el documento esté contenido en un solo registro. ¿Cómo podría saber la dirección donde está guardado el archivo de texto a partir del RDD creado?\n",
    "* Si necesitara crear un RDD a partir del archivo de texto cargado previamente en donde cada línea del archivo fuera un registro del RDD, ¿cómo lo haría?"
   ]
  },
  {
   "cell_type": "code",
   "execution_count": 15,
   "id": "5535589f-cb02-4cfc-ab0a-343d6f7eb3ef",
   "metadata": {},
   "outputs": [],
   "source": [
    "sc = spark.sparkContext\n",
    "rdd1 = sc.emptyRDD()"
   ]
  },
  {
   "cell_type": "code",
   "execution_count": 16,
   "id": "8f592ae1-feb7-4b84-b162-d1332fea0810",
   "metadata": {},
   "outputs": [],
   "source": [
    "rdd2 = sc.parallelize([],5)"
   ]
  },
  {
   "cell_type": "code",
   "execution_count": 17,
   "id": "f3942500-55bb-451d-accb-eb19eb3fee23",
   "metadata": {},
   "outputs": [
    {
     "data": {
      "text/plain": [
       "0"
      ]
     },
     "execution_count": 17,
     "metadata": {},
     "output_type": "execute_result"
    }
   ],
   "source": [
    "rdd1.getNumPartitions()"
   ]
  },
  {
   "cell_type": "code",
   "execution_count": 18,
   "id": "4f948cbd-3880-474c-b911-2b04632ad81b",
   "metadata": {},
   "outputs": [],
   "source": [
    "rdd_primo = sc.parallelize([2, 3, 5, 7, 11, 13, 17, 19])"
   ]
  },
  {
   "cell_type": "code",
   "execution_count": 19,
   "id": "90704c7d-faac-422d-9b99-7cc5edace429",
   "metadata": {},
   "outputs": [
    {
     "data": {
      "text/plain": [
       "[11, 13, 17, 19]"
      ]
     },
     "execution_count": 19,
     "metadata": {},
     "output_type": "execute_result"
    }
   ],
   "source": [
    "rdd_primo.filter(lambda x: x > 10).collect()"
   ]
  },
  {
   "cell_type": "code",
   "execution_count": 15,
   "id": "fc2b11a5-1343-4773-8926-86115ee32332",
   "metadata": {},
   "outputs": [],
   "source": [
    "rdd_texto = sc.wholeTextFiles(\"file:///C:/el_valor_del_big_data.txt\")"
   ]
  },
  {
   "cell_type": "code",
   "execution_count": 16,
   "id": "447ba190-f700-426a-8471-8ccbee77f49b",
   "metadata": {},
   "outputs": [
    {
     "data": {
      "text/plain": [
       "[('file:/C:/Users/diana.cardozo_blueta/Downloads/Recursos_cursoSpark/el_valor_del_big_data.txt',\n",
       "  'El valor y la realidad de big data\\r\\nEn los últimos años, han surgido otras \"dos V\": valor y veracidad. Los datos poseen un valor intrínseco. Sin embargo, no tienen ninguna utilidad hasta que dicho valor se descubre. Resulta igualmente importante: ¿cuál es la veracidad de sus datos y cuánto puede confiar en ellos?\\r\\n\\r\\nHoy en día, el big data se ha convertido en un activo crucial. Piense en algunas de las mayores empresas tecnológicas del mundo. Gran parte del valor que ofrecen procede de sus datos, que analizan constantemente para generar una mayor eficiencia y desarrollar nuevos productos.\\r\\n\\r\\nAvances tecnológicos recientes han reducido exponencialmente el coste del almacenamiento y la computación de datos, haciendo que almacenar datos resulte más fácil y barato que nunca. Actualmente, con un mayor volumen de big data más barato y accesible, puede tomar decisiones empresariales más acertadas y precisas.\\r\\n\\r\\nIdentificar el valor del big data no pasa solo por analizarlo (que es ya una ventaja en sí misma). Se trata de todo un proceso de descubrimiento que requiere que los analistas, usuarios empresariales y ejecutivos se planteen las preguntas correctas, identifiquen patrones, formulen hipótesis informadas y predigan comportamientos.')]"
      ]
     },
     "execution_count": 16,
     "metadata": {},
     "output_type": "execute_result"
    }
   ],
   "source": [
    "rdd_texto.collect()"
   ]
  },
  {
   "cell_type": "markdown",
   "id": "dec5e10b-aca8-43a2-9ed8-9180d5e3ca26",
   "metadata": {},
   "source": [
    "## Crear un RDD de una colección"
   ]
  },
  {
   "cell_type": "code",
   "execution_count": 16,
   "id": "b9a48318-f1b4-40c2-a482-6266e377df8c",
   "metadata": {},
   "outputs": [],
   "source": [
    "languajes = sc.parallelize(['Python', 'R', 'C', 'Scala','SQL'])"
   ]
  },
  {
   "cell_type": "code",
   "execution_count": 17,
   "id": "1c06c1ff-859f-4c32-ac12-5cbea408aa52",
   "metadata": {},
   "outputs": [
    {
     "data": {
      "text/plain": [
       "['Python', 'R', 'C', 'Scala', 'SQL']"
      ]
     },
     "execution_count": 17,
     "metadata": {},
     "output_type": "execute_result"
    }
   ],
   "source": [
    "languajes.collect()"
   ]
  },
  {
   "cell_type": "code",
   "execution_count": 19,
   "id": "688806cb-d726-43a3-8253-0db639bf9924",
   "metadata": {},
   "outputs": [],
   "source": [
    "rdd_may = languajes.map(lambda x: x.upper())\n",
    "rdd_min = languajes.map(lambda x: x.lower())"
   ]
  },
  {
   "cell_type": "code",
   "execution_count": 21,
   "id": "02f82330-2a9a-408a-806f-f3e13d161b43",
   "metadata": {},
   "outputs": [
    {
     "data": {
      "text/plain": [
       "['PYTHON', 'R', 'C', 'SCALA', 'SQL']"
      ]
     },
     "execution_count": 21,
     "metadata": {},
     "output_type": "execute_result"
    }
   ],
   "source": [
    "rdd_may.collect()"
   ]
  },
  {
   "cell_type": "code",
   "execution_count": 22,
   "id": "18e4fb8e-fabe-438e-9afd-25b274e88ec0",
   "metadata": {},
   "outputs": [
    {
     "data": {
      "text/plain": [
       "['python', 'r', 'c', 'scala', 'sql']"
      ]
     },
     "execution_count": 22,
     "metadata": {},
     "output_type": "execute_result"
    }
   ],
   "source": [
    "rdd_min.collect()"
   ]
  },
  {
   "cell_type": "code",
   "execution_count": 24,
   "id": "809888ae-b68e-4338-a7da-1d5ae6714b9c",
   "metadata": {},
   "outputs": [],
   "source": [
    "rdd_r = languajes.filter(lambda x: x.startswith('R'))"
   ]
  },
  {
   "cell_type": "code",
   "execution_count": 20,
   "id": "96cd6a6b-db9e-4cc4-ba55-ee790212b40a",
   "metadata": {},
   "outputs": [
    {
     "data": {
      "text/plain": [
       "[20, 22, 24, 26, 28, 30]"
      ]
     },
     "execution_count": 20,
     "metadata": {},
     "output_type": "execute_result"
    }
   ],
   "source": [
    "pares = sc.parallelize([20, 22, 24, 26, 28, 30])\n",
    "pares.collect()"
   ]
  },
  {
   "cell_type": "markdown",
   "id": "f58cf902-d42b-4672-8d8c-b3a9365cd9bf",
   "metadata": {},
   "source": [
    "## transformaciones "
   ]
  },
  {
   "cell_type": "markdown",
   "id": "2fc1b3c2-84fd-4baf-bd8d-bf46162cf4cf",
   "metadata": {},
   "source": [
    "* las transformaciones son de naturaleza \"perezosa\" y no se ejecutan hasta que se ejecute una accion sobre estas "
   ]
  },
  {
   "cell_type": "markdown",
   "id": "7279387a-fff8-4b36-a6c9-1517a3f7fd5e",
   "metadata": {},
   "source": [
    "## Map"
   ]
  },
  {
   "cell_type": "code",
   "execution_count": 21,
   "id": "fe77c8ac-0836-4ab9-a8c7-10fbdac2f2bf",
   "metadata": {},
   "outputs": [
    {
     "data": {
      "text/plain": [
       "[4.47213595499958,\n",
       " 4.69041575982343,\n",
       " 4.898979485566356,\n",
       " 5.0990195135927845,\n",
       " 5.291502622129181,\n",
       " 5.477225575051661]"
      ]
     },
     "execution_count": 21,
     "metadata": {},
     "output_type": "execute_result"
    }
   ],
   "source": [
    "import math\n",
    "sqrt = pares.map(lambda x: math.sqrt(x))\n",
    "sqrt.collect()"
   ]
  },
  {
   "cell_type": "markdown",
   "id": "f27edf38-7b19-4b36-991e-fe18b09fa1a3",
   "metadata": {},
   "source": [
    "## flatMap"
   ]
  },
  {
   "cell_type": "code",
   "execution_count": 24,
   "id": "00b985b1-cef7-47ea-8ffa-f4e17cb8a366",
   "metadata": {},
   "outputs": [
    {
     "name": "stdout",
     "output_type": "stream",
     "text": [
      "[20, 4.47213595499958, 22, 4.69041575982343, 24, 4.898979485566356, 26, 5.0990195135927845, 28, 5.291502622129181, 30, 5.477225575051661]\n"
     ]
    }
   ],
   "source": [
    "lista = pares.flatMap(lambda x: (x, math.sqrt(x))).collect()\n",
    "print(lista)"
   ]
  },
  {
   "cell_type": "markdown",
   "id": "ff3ac9f4-eaab-40f9-919e-b37e3b25736e",
   "metadata": {},
   "source": [
    "## Filtro"
   ]
  },
  {
   "cell_type": "code",
   "execution_count": 32,
   "id": "9d98bdb8-78a1-496b-88a6-19727dc7ad38",
   "metadata": {},
   "outputs": [
    {
     "data": {
      "text/plain": [
       "[24, 30]"
      ]
     },
     "execution_count": 32,
     "metadata": {},
     "output_type": "execute_result"
    }
   ],
   "source": [
    "even_rdd = pares.filter(lambda x: x % 3 == 0)\n",
    "even_rdd.collect()"
   ]
  },
  {
   "cell_type": "markdown",
   "id": "c2391c5c-4410-4ac1-bf16-d6f3df7b9138",
   "metadata": {},
   "source": [
    "## flatMap"
   ]
  },
  {
   "cell_type": "markdown",
   "id": "29baa0a7-4311-47e1-971c-4e2338f9921f",
   "metadata": {},
   "source": [
    "### distinct\n",
    "\n",
    "* Esto devolvera elementos diatintos a un RDD"
   ]
  },
  {
   "cell_type": "code",
   "execution_count": 35,
   "id": "3d92b80c-9fb9-4797-a1f0-500537c20301",
   "metadata": {},
   "outputs": [
    {
     "data": {
      "text/plain": [
       "[10, 11, 12]"
      ]
     },
     "execution_count": 35,
     "metadata": {},
     "output_type": "execute_result"
    }
   ],
   "source": [
    "rdd1 = sc.parallelize([10, 11, 10, 11, 12, 11])\n",
    "dist_rdd = rdd1.distinct()\n",
    "dist_rdd.collect()"
   ]
  },
  {
   "cell_type": "markdown",
   "id": "7c521f3a-a076-40cf-86bd-a3012a183b24",
   "metadata": {},
   "source": [
    "### reduceByKey\n",
    "* Esta función reduce los pares de valores clave en función de las claves y una función dterminada dentro de reduceBy Key"
   ]
  },
  {
   "cell_type": "code",
   "execution_count": 44,
   "id": "acfc811b-5fd3-4cc2-8ffb-b735c1b4adba",
   "metadata": {},
   "outputs": [
    {
     "name": "stdout",
     "output_type": "stream",
     "text": [
      "('c', 6)\n",
      "('a', 8)\n",
      "('b', 8)\n"
     ]
    }
   ],
   "source": [
    "pairs = [(\"a\", 5), (\"b\", 7), (\"c\", 2), (\"a\", 3), (\"b\",1), (\"c\", 4)]\n",
    "pair_rdd = sc.parallelize(pairs)\n",
    "\n",
    "output = pair_rdd.reduceByKey(lambda x, y: x + y)\n",
    "\n",
    "result = output.collect()\n",
    "print(*result, sep='\\n')"
   ]
  },
  {
   "cell_type": "markdown",
   "id": "7bea918b-4b97-45ee-a7e7-1c76d79ce7ab",
   "metadata": {},
   "source": [
    "### groupByKey\n",
    "* Esta funcion puede operar en un par(clave, valor) RDD pero esto solo agrupará los valores basadas en las claves."
   ]
  },
  {
   "cell_type": "code",
   "execution_count": 46,
   "id": "05bfbdd9-b2b2-4a82-a99d-91a734a75a6b",
   "metadata": {},
   "outputs": [
    {
     "data": {
      "text/plain": [
       "[('c', <pyspark.resultiterable.ResultIterable at 0x16a87831450>),\n",
       " ('a', <pyspark.resultiterable.ResultIterable at 0x16a877ac050>),\n",
       " ('b', <pyspark.resultiterable.ResultIterable at 0x16a867a5f90>)]"
      ]
     },
     "execution_count": 46,
     "metadata": {},
     "output_type": "execute_result"
    }
   ],
   "source": [
    "grp_out = pair_rdd.groupByKey()\n",
    "grp_out.collect()"
   ]
  },
  {
   "cell_type": "markdown",
   "id": "581d8e43-1a6c-4bd9-95ab-1667cbbcc1a4",
   "metadata": {},
   "source": [
    "### sortByKey\n",
    "* Clasificación en orden ascendente"
   ]
  },
  {
   "cell_type": "code",
   "execution_count": 47,
   "id": "3bbf894d-b681-4e4e-acd1-22107aaa4aaa",
   "metadata": {},
   "outputs": [
    {
     "name": "stdout",
     "output_type": "stream",
     "text": [
      "('a', 5)\n",
      "('b', 3)\n",
      "('c', 2)\n",
      "('d', 7)\n"
     ]
    }
   ],
   "source": [
    "pairs = [(\"a\", 5), (\"d\", 7), (\"c\", 2), (\"b\", 3)]\n",
    "raw_rdd = sc.parallelize(pairs)\n",
    "sortkey_rdd = raw_rdd.sortByKey()\n",
    "result = sortkey_rdd.collect()\n",
    "print(*result, sep='\\n')"
   ]
  },
  {
   "cell_type": "markdown",
   "id": "6d095332-1d12-4ce2-9ff3-17bc520fb556",
   "metadata": {},
   "source": [
    "## Ordenar por\n",
    "* otro criterio"
   ]
  },
  {
   "cell_type": "code",
   "execution_count": 22,
   "id": "91831e11-e626-4f6b-8358-824898d1ecac",
   "metadata": {},
   "outputs": [
    {
     "name": "stdout",
     "output_type": "stream",
     "text": [
      "('b', 3, 9)\n",
      "('a', 5, 10)\n",
      "('c', 2, 11)\n",
      "('d', 7, 12)\n"
     ]
    }
   ],
   "source": [
    "# Cramos el rdd\n",
    "pairs = [(\"a\", 5, 10), (\"d\", 7, 12), (\"c\", 2, 11), (\"b\", 3, 9)]\n",
    "raw_rdd = sc.parallelize(pairs)\n",
    "\n",
    "# Ordenación basada en le tercer elemento de la tupla\n",
    "sort_out = raw_rdd.sortBy(lambda x: x[2])\n",
    "result = sort_out.collect()\n",
    "print(*result, sep='\\n')"
   ]
  },
  {
   "cell_type": "code",
   "execution_count": null,
   "id": "26f45b53-9aff-408a-9aa3-f4698faf19d4",
   "metadata": {},
   "outputs": [],
   "source": []
  }
 ],
 "metadata": {
  "kernelspec": {
   "display_name": "Python 3 (ipykernel)",
   "language": "python",
   "name": "python3"
  },
  "language_info": {
   "codemirror_mode": {
    "name": "ipython",
    "version": 3
   },
   "file_extension": ".py",
   "mimetype": "text/x-python",
   "name": "python",
   "nbconvert_exporter": "python",
   "pygments_lexer": "ipython3",
   "version": "3.11.9"
  }
 },
 "nbformat": 4,
 "nbformat_minor": 5
}
