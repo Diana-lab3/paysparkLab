{
 "cells": [
  {
   "cell_type": "code",
   "execution_count": null,
   "id": "2e737e03-10bf-4a74-93b5-86edde65f1d6",
   "metadata": {},
   "outputs": [],
   "source": [
    "from pyspark.sql import SparkSession\n",
    "from pyspark.sql.types import StructType, StructField, StringType"
   ]
  },
  {
   "cell_type": "code",
   "execution_count": null,
   "id": "5a9debbf-02c3-4d64-bc1a-b02dac4eb1af",
   "metadata": {},
   "outputs": [],
   "source": [
    "spark = (SparkSession.builder.appName(\"SalesAnalytics\").getOrCreate())"
   ]
  },
  {
   "cell_type": "markdown",
   "id": "d6f60766-8f6d-436c-ac16-af49f155f690",
   "metadata": {},
   "source": [
    "# **Preparacion de los datos**"
   ]
  },
  {
   "cell_type": "code",
   "execution_count": null,
   "id": "1da356e6-4432-4dec-9673-b4745d170959",
   "metadata": {},
   "outputs": [],
   "source": [
    "schema = StructType([\n",
    "    StructField(\"Order ID\", StringType(), True),\n",
    "    StructField(\"Product\", StringType(), True),\n",
    "    StructField(\"Quantity Ordered\", StringType(), True),\n",
    "    StructField(\"Price Each\", StringType(), True),\n",
    "    StructField(\"Order Date\", StringType(), True),\n",
    "    StructField(\"Purchase Adress\", StringType(), True),\n",
    "])"
   ]
  },
  {
   "cell_type": "code",
   "execution_count": null,
   "id": "4417b2d6-1c28-4938-bc1a-a68f710c0fe7",
   "metadata": {},
   "outputs": [],
   "source": [
    "sales_data_fpath = \"./salesdata\"\n",
    "sales_raw_df = (\n",
    "spark.read.format(\"csv\")\n",
    "       .option(\"header\", True)\n",
    "       .schema(schema)\n",
    "       .load(sales_data_fpath)\n",
    ")"
   ]
  },
  {
   "cell_type": "code",
   "execution_count": null,
   "id": "2af3c813-9386-4dfa-adab-7f09e66ebbfe",
   "metadata": {},
   "outputs": [],
   "source": [
    "sales_raw_df.show(10)"
   ]
  },
  {
   "cell_type": "code",
   "execution_count": null,
   "id": "04183d44-bafb-45ff-916f-5c647437b873",
   "metadata": {},
   "outputs": [],
   "source": [
    "sales_raw_df.printSchema()"
   ]
  },
  {
   "cell_type": "markdown",
   "id": "f095d340-60b2-4895-8859-61d87aa13614",
   "metadata": {},
   "source": [
    "# **Trabajar con Operaciones Estrucuturadas**"
   ]
  },
  {
   "cell_type": "markdown",
   "id": "8bf25563-29df-4278-9a45-af28ea952568",
   "metadata": {},
   "source": [
    "#### Leer archivos JSON"
   ]
  },
  {
   "cell_type": "code",
   "execution_count": null,
   "id": "26eacd32-c091-4bba-aff8-cf93f51a473b",
   "metadata": {},
   "outputs": [],
   "source": [
    "from pyspark.sql.types import ArrayType, FloatType, DateType, BooleanType, IntegerType"
   ]
  },
  {
   "cell_type": "code",
   "execution_count": null,
   "id": "ab3d3174-cc0b-4e46-b039-6522b6b2a987",
   "metadata": {},
   "outputs": [],
   "source": [
    "persons_schema = StructType([\n",
    "    StructField(\"id\", IntegerType(),True),\n",
    "    StructField(\"first_name\", StringType(),True),\n",
    "    StructField(\"last_name\", StringType(),True),\n",
    "    StructField(\"fav_movies\", ArrayType(StringType()),True),\n",
    "    StructField(\"salary\", FloatType(),True),\n",
    "    StructField(\"image_url\", StringType(),True),\n",
    "    StructField(\"date_of_birth\", DateType(),True),\n",
    "    StructField(\"active\", BooleanType(),True)\n",
    "])"
   ]
  },
  {
   "cell_type": "code",
   "execution_count": null,
   "id": "6bfc5f42-d440-4e10-a4cc-63fb9b07fb7c",
   "metadata": {},
   "outputs": [],
   "source": [
    "json_file_path = './data/persons.json'\n",
    "persons_df = (spark.read.json(json_file_path, persons_schema, multiLine=\"True\"))"
   ]
  },
  {
   "cell_type": "code",
   "execution_count": null,
   "id": "d85eb4fd-396a-4b99-ba23-bfa1f9b958c2",
   "metadata": {},
   "outputs": [],
   "source": [
    "persons_df.printSchema()"
   ]
  },
  {
   "cell_type": "code",
   "execution_count": null,
   "id": "9608d115-ee14-4af4-8fd0-4898c2eb7c95",
   "metadata": {},
   "outputs": [],
   "source": [
    "persons_df.show(10)"
   ]
  },
  {
   "cell_type": "code",
   "execution_count": null,
   "id": "12fcbc0c-1636-4b28-92de-d7f6e214f776",
   "metadata": {},
   "outputs": [],
   "source": [
    "persons_df.show(10, truncate=False)"
   ]
  },
  {
   "cell_type": "markdown",
   "id": "a4a6424b-cd0a-4575-9147-d3a60981207e",
   "metadata": {},
   "source": [
    "#### **Columnas y expresiones**"
   ]
  },
  {
   "cell_type": "code",
   "execution_count": null,
   "id": "7026ac04-687f-4fbd-b9f0-196c38048471",
   "metadata": {},
   "outputs": [],
   "source": [
    "from pyspark.sql.functions import col, expr"
   ]
  },
  {
   "cell_type": "markdown",
   "id": "4e3c4191-6e80-4924-a6a6-a86ea8de1dc0",
   "metadata": {},
   "source": [
    "col()Es más eficiente y directo."
   ]
  },
  {
   "cell_type": "code",
   "execution_count": null,
   "id": "bf1bf231-b9c2-493d-b6e1-6e5b65707096",
   "metadata": {},
   "outputs": [],
   "source": [
    "persons_df.select(col(\"first_name\"), col(\"last_name\"), col(\"date_of_birth\")).show(5)"
   ]
  },
  {
   "cell_type": "code",
   "execution_count": null,
   "id": "dff73dca-278e-4ff1-bc17-5c865e120f2c",
   "metadata": {},
   "outputs": [],
   "source": [
    "persons_df.select(expr(\"first_name\"), expr(\"last_name\"), expr(\"date_of_birth\")).show(5)"
   ]
  },
  {
   "cell_type": "markdown",
   "id": "2b2e327f-a8eb-4095-ac0a-383ab35b4f8a",
   "metadata": {},
   "source": [
    "- Parsea la cadena como una expresión SQL\n",
    "- Menos eficiente quecol()\n",
    "- Útil cuando necesitas hacer transformaciones más complejas\n",
    "\n",
    "##### Concatenar, hacer cálculos, etc.\n",
    "df.select(\n",
    "    expr(\"first_name || ' ' || last_name AS full_name\"),\n",
    "    expr(\"age + 1 AS next_year_age\")\n",
    ")"
   ]
  },
  {
   "cell_type": "code",
   "execution_count": null,
   "id": "b32a2c36-76ad-46a4-b231-f9e53551ff13",
   "metadata": {},
   "outputs": [],
   "source": [
    "from pyspark.sql.functions import concat_ws, round"
   ]
  },
  {
   "cell_type": "code",
   "execution_count": 33,
   "id": "0488e244-acbf-47c6-b4f7-07c2dc93ac25",
   "metadata": {},
   "outputs": [
    {
     "name": "stdout",
     "output_type": "stream",
     "text": [
      "+---------------+-------+---------------+\n",
      "|      full_name| salary|salary_increase|\n",
      "+---------------+-------+---------------+\n",
      "|     DrucyPoppy|1463.36|       1609.696|\n",
      "|   EmelyneBlaza|3006.04|       3306.644|\n",
      "|      MaxRettie|1422.88|       1565.168|\n",
      "|     IlarioKean|3561.36|       3917.496|\n",
      "|    ToddyDrexel|4934.87|       5428.357|\n",
      "| OswaldPetrolli|1153.23|       1268.553|\n",
      "|   AdrianClarey|1044.73|       1149.203|\n",
      "|DominicaGoodnow|1147.76|       1262.536|\n",
      "|   EmorySlocomb|1082.11|       1190.321|\n",
      "|   JeremiasBode|3472.63|       3819.893|\n",
      "+---------------+-------+---------------+\n",
      "only showing top 10 rows\n",
      "\n"
     ]
    }
   ],
   "source": [
    "(persons_df.select(\n",
    "    col(\"first_name\"), \n",
    "    col(\"last_name\"),\n",
    "    concat_ws('', col(\"first_name\"), col(\"last_name\")).alias(\"full_name\"),\n",
    "    col(\"salary\"),\n",
    "    (col(\"salary\")* 0.10 + col(\"salary\")).alias(\"salary_calculate\")\n",
    ").withColumn(\"salary_increase\", round(col(\"salary_calculate\"), 3))\n",
    "                .select(\"full_name\", \"salary\", \"salary_increase\"\n",
    "                )).show(10) "
   ]
  },
  {
   "cell_type": "code",
   "execution_count": null,
   "id": "fde458d7-de9f-46b8-9cb0-8aa62f6e6cad",
   "metadata": {},
   "outputs": [],
   "source": [
    "pip install autopep8"
   ]
  },
  {
   "cell_type": "code",
   "execution_count": 32,
   "id": "2916b4a9-25f9-4ff5-a5ed-0fbb217d4726",
   "metadata": {},
   "outputs": [
    {
     "name": "stdout",
     "output_type": "stream",
     "text": [
      "+---------------+-------+---------------+\n",
      "|      full_name| salary|salary_increase|\n",
      "+---------------+-------+---------------+\n",
      "|     DrucyPoppy|1463.36|       1609.696|\n",
      "|   EmelyneBlaza|3006.04|       3306.644|\n",
      "|      MaxRettie|1422.88|       1565.168|\n",
      "|     IlarioKean|3561.36|       3917.496|\n",
      "|    ToddyDrexel|4934.87|       5428.357|\n",
      "| OswaldPetrolli|1153.23|       1268.553|\n",
      "|   AdrianClarey|1044.73|       1149.203|\n",
      "|DominicaGoodnow|1147.76|       1262.536|\n",
      "|   EmorySlocomb|1082.11|       1190.321|\n",
      "|   JeremiasBode|3472.63|       3819.893|\n",
      "+---------------+-------+---------------+\n",
      "only showing top 10 rows\n",
      "\n"
     ]
    }
   ],
   "source": [
    "(persons_df.select(\n",
    "    col(\"first_name\"), \n",
    "    col(\"last_name\"),\n",
    "    concat_ws('', col(\"first_name\"), col(\"last_name\")).alias(\"full_name\"),\n",
    "    col(\"salary\"),\n",
    "    expr(\"salary * 0.10 + salary\").alias(\"salary_calculate\")\n",
    ").withColumn(\"salary_increase\", round(col(\"salary_calculate\"), 3))\n",
    "                .select(\"full_name\", \"salary\", \"salary_increase\"\n",
    "                )).show(10)"
   ]
  },
  {
   "cell_type": "code",
   "execution_count": 34,
   "id": "fb01497f-6581-46df-80de-bca9b035f68c",
   "metadata": {},
   "outputs": [
    {
     "name": "stdout",
     "output_type": "stream",
     "text": [
      "+---+----------+-----------+--------------------+-------+--------------------+-------------+------+\n",
      "| id|first_name|  last_name|          fav_movies| salary|           image_url|date_of_birth|active|\n",
      "+---+----------+-----------+--------------------+-------+--------------------+-------------+------+\n",
      "|  1|     Drucy|      Poppy|  [I giorni contati]|1463.36|http://dummyimage...|   1991-02-16|  true|\n",
      "|  3|       Max|     Rettie|[The Forgotten Sp...|1422.88|http://dummyimage...|   1990-03-03| false|\n",
      "|  6|    Oswald|   Petrolli|[Wing and the Thi...|1153.23|http://dummyimage...|   1986-09-02| false|\n",
      "|  7|    Adrian|     Clarey|[Walking Tall, Pa...|1044.73|http://dummyimage...|   1971-08-24| false|\n",
      "|  8|  Dominica|    Goodnow|    [Hearts Divided]|1147.76|http://dummyimage...|   1973-08-27| false|\n",
      "|  9|     Emory|    Slocomb|[Snake and Crane ...|1082.11|http://dummyimage...|   1974-06-08|  true|\n",
      "| 11|   Timothy|     Ervine|[Land of the Lost...|1147.61|http://dummyimage...|   1971-06-02| false|\n",
      "| 12|   Leanora|     Gooder|[It's All About L...|1327.02|http://dummyimage...|   1981-12-17| false|\n",
      "| 13|  Claiborn|     Denham|[McCullin, Max Pa...|2623.33|http://dummyimage...|   1996-03-07| false|\n",
      "| 15|    Feodor|Nancekivell|   [Monsoon Wedding]|2218.46|http://dummyimage...|   2000-10-07| false|\n",
      "+---+----------+-----------+--------------------+-------+--------------------+-------------+------+\n",
      "only showing top 10 rows\n",
      "\n"
     ]
    }
   ],
   "source": [
    "persons_df.filter('salary <= 3000').show(10)"
   ]
  },
  {
   "cell_type": "code",
   "execution_count": 35,
   "id": "22ddbbb6-d99c-4096-b1fd-dec6c3258b4a",
   "metadata": {},
   "outputs": [
    {
     "name": "stdout",
     "output_type": "stream",
     "text": [
      "+---+----------+-----------+--------------------+-------+--------------------+-------------+------+\n",
      "| id|first_name|  last_name|          fav_movies| salary|           image_url|date_of_birth|active|\n",
      "+---+----------+-----------+--------------------+-------+--------------------+-------------+------+\n",
      "|  1|     Drucy|      Poppy|  [I giorni contati]|1463.36|http://dummyimage...|   1991-02-16|  true|\n",
      "|  3|       Max|     Rettie|[The Forgotten Sp...|1422.88|http://dummyimage...|   1990-03-03| false|\n",
      "|  6|    Oswald|   Petrolli|[Wing and the Thi...|1153.23|http://dummyimage...|   1986-09-02| false|\n",
      "|  7|    Adrian|     Clarey|[Walking Tall, Pa...|1044.73|http://dummyimage...|   1971-08-24| false|\n",
      "|  8|  Dominica|    Goodnow|    [Hearts Divided]|1147.76|http://dummyimage...|   1973-08-27| false|\n",
      "|  9|     Emory|    Slocomb|[Snake and Crane ...|1082.11|http://dummyimage...|   1974-06-08|  true|\n",
      "| 11|   Timothy|     Ervine|[Land of the Lost...|1147.61|http://dummyimage...|   1971-06-02| false|\n",
      "| 12|   Leanora|     Gooder|[It's All About L...|1327.02|http://dummyimage...|   1981-12-17| false|\n",
      "| 13|  Claiborn|     Denham|[McCullin, Max Pa...|2623.33|http://dummyimage...|   1996-03-07| false|\n",
      "| 15|    Feodor|Nancekivell|   [Monsoon Wedding]|2218.46|http://dummyimage...|   2000-10-07| false|\n",
      "+---+----------+-----------+--------------------+-------+--------------------+-------------+------+\n",
      "only showing top 10 rows\n",
      "\n"
     ]
    }
   ],
   "source": [
    "persons_df.where('salary <= 3000').show(10)"
   ]
  },
  {
   "cell_type": "code",
   "execution_count": 36,
   "id": "941abadf-9e13-4a80-ad88-dbb9aab0fcf3",
   "metadata": {},
   "outputs": [
    {
     "name": "stdout",
     "output_type": "stream",
     "text": [
      "+---+----------+---------+--------------------+-------+--------------------+-------------+------+\n",
      "| id|first_name|last_name|          fav_movies| salary|           image_url|date_of_birth|active|\n",
      "+---+----------+---------+--------------------+-------+--------------------+-------------+------+\n",
      "|  1|     Drucy|    Poppy|  [I giorni contati]|1463.36|http://dummyimage...|   1991-02-16|  true|\n",
      "|  9|     Emory|  Slocomb|[Snake and Crane ...|1082.11|http://dummyimage...|   1974-06-08|  true|\n",
      "| 16|   Margaux| Archbold|[And Now a Word f...|1013.75|http://dummyimage...|   1988-07-29|  true|\n",
      "| 26|     Clive|      Lax|             [Rabid]|2126.87|http://dummyimage...|   1981-10-26|  true|\n",
      "| 33|  Sherline|  Primett|   [Jungle Fighters]|2309.39|http://dummyimage...|   1972-07-23|  true|\n",
      "| 34|     Davis|    Pinks|          [Hounddog]|1337.14|http://dummyimage...|   1989-07-27|  true|\n",
      "| 37|    Carlen|  Sharply|[Dr. Jekyll and M...|2051.85|http://dummyimage...|   2002-06-01|  true|\n",
      "| 40|    Jordan|   Lorant|[Shockproof, Bach...|2183.91|http://dummyimage...|   1979-07-29|  true|\n",
      "| 49| Kendricks|      Kee|   [Flower & Garnet]|2304.39|http://dummyimage...|   1999-11-14|  true|\n",
      "| 57|   Krystle|  Shovell|[Doomsday, Flight...|2260.76|http://dummyimage...|   1987-09-01|  true|\n",
      "+---+----------+---------+--------------------+-------+--------------------+-------------+------+\n",
      "only showing top 10 rows\n",
      "\n"
     ]
    }
   ],
   "source": [
    "persons_df.where((col(\"salary\") <= 3000) & (col(\"active\") == True)).show(10)"
   ]
  },
  {
   "cell_type": "code",
   "execution_count": 38,
   "id": "46a90607-094a-46a4-9fbf-b170914df01b",
   "metadata": {},
   "outputs": [],
   "source": [
    "from pyspark.sql.functions import year"
   ]
  },
  {
   "cell_type": "code",
   "execution_count": 41,
   "id": "9c4d161a-981f-44c8-8251-915da8410fd4",
   "metadata": {},
   "outputs": [
    {
     "name": "stdout",
     "output_type": "stream",
     "text": [
      "+---+----------+-----------+--------------------+-------+--------------------+-------------+------+\n",
      "| id|first_name|  last_name|          fav_movies| salary|           image_url|date_of_birth|active|\n",
      "+---+----------+-----------+--------------------+-------+--------------------+-------------+------+\n",
      "| 14|   Ambrosi|   Vidineev|[Wall Street: Mon...|4550.88|http://dummyimage...|   1989-07-20|  true|\n",
      "| 15|    Feodor|Nancekivell|   [Monsoon Wedding]|2218.46|http://dummyimage...|   2000-10-07| false|\n",
      "| 18|     Alfie|   Hatliffe|     [Lord of Tears]| 3893.1|http://dummyimage...|   1989-06-21|  true|\n",
      "| 25|     Kelcy|     Wogdon|    [Iron Mask, The]|4512.51|http://dummyimage...|   2000-10-20|  true|\n",
      "| 32|      Redd|   Akenhead|[Century of the D...| 2470.9|http://dummyimage...|   2000-06-05| false|\n",
      "| 34|     Davis|      Pinks|          [Hounddog]|1337.14|http://dummyimage...|   1989-07-27|  true|\n",
      "| 61|    Shanna|    Samples|[Thomas in Love (...| 2703.0|http://dummyimage...|   1989-07-07| false|\n",
      "| 69|  Annabell|    Doughty|[Entertaining Ang...|2022.57|http://dummyimage...|   2000-09-03|  true|\n",
      "| 74|     Micky|     Umfrey|[Haunted House, T...|1271.82|http://dummyimage...|   1989-07-04| false|\n",
      "| 88|     Jobie|    Maughan|[Devils on the Do...| 3899.2|http://dummyimage...|   2000-02-07| false|\n",
      "+---+----------+-----------+--------------------+-------+--------------------+-------------+------+\n",
      "\n"
     ]
    }
   ],
   "source": [
    "persons_df.filter((year(\"date_of_birth\") == 2000) | (year(\"date_of_birth\") == 1989)).show()"
   ]
  },
  {
   "cell_type": "code",
   "execution_count": 42,
   "id": "f77cfe91-6933-4db0-bf8b-d4a98e753ac6",
   "metadata": {},
   "outputs": [],
   "source": [
    "from pyspark.sql.functions import array_contains"
   ]
  },
  {
   "cell_type": "code",
   "execution_count": 46,
   "id": "40ba83d9-c5da-413b-838e-34c6604870d8",
   "metadata": {},
   "outputs": [
    {
     "name": "stdout",
     "output_type": "stream",
     "text": [
      "+---+----------+---------+---------------+------+--------------------+-------------+------+\n",
      "| id|first_name|last_name|     fav_movies|salary|           image_url|date_of_birth|active|\n",
      "+---+----------+---------+---------------+------+--------------------+-------------+------+\n",
      "| 18|     Alfie| Hatliffe|[Lord of Tears]|3893.1|http://dummyimage...|   1989-06-21|  true|\n",
      "+---+----------+---------+---------------+------+--------------------+-------------+------+\n",
      "\n"
     ]
    }
   ],
   "source": [
    "persons_df.where(array_contains(persons_df.fav_movies, \"Lord of Tears\")).show()"
   ]
  },
  {
   "cell_type": "markdown",
   "id": "76070a92-355a-40b9-bbc6-31addfa63156",
   "metadata": {},
   "source": [
    "#### Distinct, Drop Duplicates, Order By"
   ]
  },
  {
   "cell_type": "code",
   "execution_count": 47,
   "id": "73ab356f-88cc-4338-af5d-4d772220b3a8",
   "metadata": {},
   "outputs": [],
   "source": [
    "from pyspark.sql.functions import count, desc"
   ]
  },
  {
   "cell_type": "code",
   "execution_count": 48,
   "id": "cc560f3c-1b84-491d-873d-bb801ca4aade",
   "metadata": {},
   "outputs": [
    {
     "name": "stdout",
     "output_type": "stream",
     "text": [
      "+------+\n",
      "|active|\n",
      "+------+\n",
      "|  true|\n",
      "| false|\n",
      "| false|\n",
      "|  true|\n",
      "|  true|\n",
      "| false|\n",
      "| false|\n",
      "| false|\n",
      "|  true|\n",
      "|  true|\n",
      "+------+\n",
      "only showing top 10 rows\n",
      "\n"
     ]
    }
   ],
   "source": [
    "persons_df.select(\"active\").show(10)"
   ]
  },
  {
   "cell_type": "code",
   "execution_count": 49,
   "id": "ce440067-6fa0-42e7-9833-e0439050fbc8",
   "metadata": {},
   "outputs": [
    {
     "name": "stdout",
     "output_type": "stream",
     "text": [
      "+------+\n",
      "|active|\n",
      "+------+\n",
      "|  true|\n",
      "| false|\n",
      "+------+\n",
      "\n"
     ]
    }
   ],
   "source": [
    "persons_df.select(\"active\").distinct().show()"
   ]
  },
  {
   "cell_type": "code",
   "execution_count": 50,
   "id": "88fb8ddf-9feb-4119-a51e-628fdc082261",
   "metadata": {},
   "outputs": [
    {
     "name": "stdout",
     "output_type": "stream",
     "text": [
      "+----------+----+------+\n",
      "|first_name|year|active|\n",
      "+----------+----+------+\n",
      "|    Adrian|1971| false|\n",
      "|   Feodora|1971|  true|\n",
      "|       Sky|1971| false|\n",
      "|   Timothy|1971| false|\n",
      "|    Lucita|1972|  true|\n",
      "|      Rodi|1972| false|\n",
      "|  Sherline|1972|  true|\n",
      "|     Toddy|1972|  true|\n",
      "|  Dominica|1973| false|\n",
      "|    Kelila|1973|  true|\n",
      "+----------+----+------+\n",
      "only showing top 10 rows\n",
      "\n"
     ]
    }
   ],
   "source": [
    "(persons_df.select(col(\"first_name\"),\n",
    "                  year(col(\"date_of_birth\")).alias(\"year\"),\n",
    "                  col(\"active\")).orderBy(\"year\", \"first_name\")).show(10)"
   ]
  },
  {
   "cell_type": "code",
   "execution_count": 51,
   "id": "118e3222-a7e1-46af-830c-08866aec1812",
   "metadata": {},
   "outputs": [],
   "source": [
    "dropped_df = (persons_df.select(col(\"first_name\"),\n",
    "                               year(col(\"date_of_birth\")).alias(\"year\"),\n",
    "                               col(\"active\")).dropDuplicates([\"year\",\"active\"])).orderBy(\"year\",\"first_name\")"
   ]
  },
  {
   "cell_type": "code",
   "execution_count": 52,
   "id": "f447d04a-1235-420b-8212-65249a9385fb",
   "metadata": {},
   "outputs": [
    {
     "name": "stdout",
     "output_type": "stream",
     "text": [
      "+----------+----+------+\n",
      "|first_name|year|active|\n",
      "+----------+----+------+\n",
      "|    Adrian|1971| false|\n",
      "|   Feodora|1971|  true|\n",
      "|      Rodi|1972| false|\n",
      "|  Sherline|1972|  true|\n",
      "|  Dominica|1973| false|\n",
      "|    Kelila|1973|  true|\n",
      "|   Balduin|1974| false|\n",
      "|     Emory|1974|  true|\n",
      "|    Janean|1975|  true|\n",
      "|       Bev|1976|  true|\n",
      "| Franciska|1976| false|\n",
      "|     Johny|1977| false|\n",
      "|    Daveta|1978| false|\n",
      "|   Guthrie|1978|  true|\n",
      "|      Maxi|1979| false|\n",
      "|   Melinda|1979|  true|\n",
      "|    Carter|1980| false|\n",
      "|   Loralyn|1980|  true|\n",
      "|     Clive|1981|  true|\n",
      "|   Leanora|1981| false|\n",
      "+----------+----+------+\n",
      "only showing top 20 rows\n",
      "\n"
     ]
    }
   ],
   "source": [
    "dropped_df.show()"
   ]
  },
  {
   "cell_type": "markdown",
   "id": "f17bce61-0eda-4fb1-8e6a-8d02c0fc4323",
   "metadata": {},
   "source": [
    "#### Uniones y Filas"
   ]
  },
  {
   "cell_type": "code",
   "execution_count": 53,
   "id": "7b49df1c-8782-4247-89ad-7da31ef34432",
   "metadata": {},
   "outputs": [],
   "source": [
    "from pyspark.sql import Row"
   ]
  },
  {
   "cell_type": "code",
   "execution_count": 73,
   "id": "6f6c1b4d-f207-40c5-9a1a-2d4d541d9649",
   "metadata": {},
   "outputs": [],
   "source": [
    "person_row = Row(101, \"Robert\", \"Ownes\", [\"Men in Black III\", \"Home Alone\"], 4300.64, \"http://someimage.com\", \"1964-08-18\", True)"
   ]
  },
  {
   "cell_type": "code",
   "execution_count": 74,
   "id": "c3bb1ddd-85cd-43b6-9762-c5ec7b8e3be3",
   "metadata": {},
   "outputs": [],
   "source": [
    "persons_row_list = [Row(102, \"Kenny\", \"Bobien\",[\"Men in Black III\", \"Home Alone\"],4300.64, \"http://someimage.com\", \"1964-08-18\", True),\n",
    "                      Row(103, \"Sara\", \"Devine\",[\"Men in Black III\", \"Home Alone\"],4300.64, \"http://someimage.com\", \"1964-08-18\", True)]"
   ]
  },
  {
   "cell_type": "code",
   "execution_count": 75,
   "id": "8a1f53b3-e034-45cb-93f4-4b0e301b29e8",
   "metadata": {},
   "outputs": [],
   "source": [
    "persons_row_list.append(person_row)"
   ]
  },
  {
   "cell_type": "code",
   "execution_count": 76,
   "id": "920a3a81-44b9-40a1-8496-ce10c26d5e2e",
   "metadata": {},
   "outputs": [
    {
     "name": "stdout",
     "output_type": "stream",
     "text": [
      "[<Row(102, 'Kenny', 'Bobien', ['Men in Black III', 'Home Alone'], 4300.64, 'http://someimage.com', '1964-08-18', True)>, <Row(103, 'Sara', 'Devine', ['Men in Black III', 'Home Alone'], 4300.64, 'http://someimage.com', '1964-08-18', True)>, <Row(101, 'Robert', 'Ownes', ['Men in Black III', 'Home Alone'], 4300.64, 'http://someimage.com', '1964-08-18', True)>]\n"
     ]
    }
   ],
   "source": [
    "print(persons_row_list)"
   ]
  },
  {
   "cell_type": "code",
   "execution_count": 77,
   "id": "8d8b1e80-2fc1-4b1f-b856-3e90e9328200",
   "metadata": {},
   "outputs": [
    {
     "data": {
      "text/plain": [
       "'Robert'"
      ]
     },
     "execution_count": 77,
     "metadata": {},
     "output_type": "execute_result"
    }
   ],
   "source": [
    "person_row[1]"
   ]
  },
  {
   "cell_type": "code",
   "execution_count": 78,
   "id": "359a6016-48cd-482b-ada2-cb895e1b036b",
   "metadata": {},
   "outputs": [],
   "source": [
    "new_persons_df = spark.createDataFrame(persons_row_list, [\"id\", \"first_name\", \"last_name\", \"fav_movies\", \"salary\", \"image_url\", \"date_of_birth\", \"active\"])"
   ]
  },
  {
   "cell_type": "code",
   "execution_count": 79,
   "id": "88f73a4c-55f1-4802-8a80-fbd5741b12e0",
   "metadata": {},
   "outputs": [
    {
     "name": "stdout",
     "output_type": "stream",
     "text": [
      "+---+----------+---------+--------------------+------------------+--------------------+-------------+------+\n",
      "| id|first_name|last_name|          fav_movies|            salary|           image_url|date_of_birth|active|\n",
      "+---+----------+---------+--------------------+------------------+--------------------+-------------+------+\n",
      "|103|      Sara|   Devine|[Men in Black III...|           4300.64|http://someimage.com|   1964-08-18|  true|\n",
      "|102|     Kenny|   Bobien|[Men in Black III...|           4300.64|http://someimage.com|   1964-08-18|  true|\n",
      "|101|    Robert|    Ownes|[Men in Black III...|           4300.64|http://someimage.com|   1964-08-18|  true|\n",
      "|100|    Virgie| Domanski|[Horseman, The, S...| 2165.929931640625|http://dummyimage...|   2002-01-05|  true|\n",
      "| 99|   Rozalie|   Wannop|[Suddenly, The No...|1259.6400146484375|http://dummyimage...|   1997-03-25| false|\n",
      "| 98|     Davin|     Labb|[Viva Riva!, Kill...| 1452.739990234375|http://dummyimage...|   1988-01-27|  true|\n",
      "| 97|      Rodi|   Farnan|[Code, The (Menta...|   2325.8798828125|http://dummyimage...|   1972-01-04| false|\n",
      "| 96|       Dew| Coopland|              [Rush]|  2725.56005859375|http://dummyimage...|   1986-11-14| false|\n",
      "| 95|      Cobb|  MacLure|[Storage 24, His ...|1621.1700439453125|http://dummyimage...|   1994-06-28| false|\n",
      "| 94|    Bennie|   Knight|[House on Carroll...| 2370.239990234375|http://dummyimage...|   1977-08-27| false|\n",
      "| 93|    Janean|     Pelz|              [Once]|    4906.919921875|http://dummyimage...|   1975-09-23|  true|\n",
      "| 92|     Daron|  Briance|[Train on the Bra...|  4226.35009765625|http://dummyimage...|   2002-02-22|  true|\n",
      "| 91|   Stanley|Sargeaunt|[Blow Out, Ashes,...| 2958.639892578125|http://dummyimage...|   1986-09-12| false|\n",
      "| 90|      Josy|   Pellew|[Dominion: Preque...|   2791.5400390625|http://dummyimage...|   1981-01-14| false|\n",
      "| 89|      Tish|   Machon|  [Arrowhead, Simon]|  4830.06005859375|http://dummyimage...|   1995-06-08|  true|\n",
      "| 88|     Jobie|  Maughan|[Devils on the Do...| 3899.199951171875|http://dummyimage...|   2000-02-07| false|\n",
      "| 87| Margareta|  Marusik|[Eyjafjallajökull...| 3416.969970703125|http://dummyimage...|   1983-10-01| false|\n",
      "| 86|    Welbie|  Crackel|[All That Heaven ...| 2720.280029296875|http://dummyimage...|   1990-10-24|  true|\n",
      "| 85|    Maxine|  Ewenson|[Savior, Beaver T...|            3363.5|http://dummyimage...|   2001-01-24| false|\n",
      "| 84|     Ricca| Newgrosh|[Documentarian, D...|  3412.06005859375|http://dummyimage...|   1984-07-27| false|\n",
      "+---+----------+---------+--------------------+------------------+--------------------+-------------+------+\n",
      "only showing top 20 rows\n",
      "\n"
     ]
    }
   ],
   "source": [
    "add_persons_df = persons_df.union(new_persons_df)\n",
    "add_persons_df.sort(desc(\"id\")).show()"
   ]
  },
  {
   "cell_type": "code",
   "execution_count": 80,
   "id": "ad5d6fe1-f2c8-4661-a3e8-948cf6b08762",
   "metadata": {},
   "outputs": [],
   "source": [
    "from pyspark.sql.functions import round"
   ]
  },
  {
   "cell_type": "code",
   "execution_count": 83,
   "id": "4d6d91c9-d25c-4cd7-b657-7a6c130041c8",
   "metadata": {},
   "outputs": [
    {
     "name": "stdout",
     "output_type": "stream",
     "text": [
      "+---+----------+---------+--------------------+-------+--------------------+-------------+------+------------------+\n",
      "| id|first_name|last_name|          fav_movies| salary|           image_url|date_of_birth|active|   salary_increase|\n",
      "+---+----------+---------+--------------------+-------+--------------------+-------------+------+------------------+\n",
      "|  1|     Drucy|    Poppy|  [I giorni contati]|1463.36|http://dummyimage...|   1991-02-16|  true|1609.6959838867188|\n",
      "|  2|   Emelyne|    Blaza|[Musketeer, The, ...|3006.04|http://dummyimage...|   1991-11-02| false|  3306.64404296875|\n",
      "|  3|       Max|   Rettie|[The Forgotten Sp...|1422.88|http://dummyimage...|   1990-03-03| false|1565.1680053710938|\n",
      "|  4|    Ilario|     Kean|[Up Close and Per...|3561.36|http://dummyimage...|   1987-06-09|  true|3917.4961181640624|\n",
      "|  5|     Toddy|   Drexel|[Walk in the Clou...|4934.87|http://dummyimage...|   1992-10-28|  true|  5428.35712890625|\n",
      "|  6|    Oswald| Petrolli|[Wing and the Thi...|1153.23|http://dummyimage...|   1986-09-02| false| 1268.552978515625|\n",
      "|  7|    Adrian|   Clarey|[Walking Tall, Pa...|1044.73|http://dummyimage...|   1971-08-24| false| 1149.202978515625|\n",
      "|  8|  Dominica|  Goodnow|    [Hearts Divided]|1147.76|http://dummyimage...|   1973-08-27| false|1262.5360107421875|\n",
      "|  9|     Emory|  Slocomb|[Snake and Crane ...|1082.11|http://dummyimage...|   1974-06-08|  true|1190.3209838867188|\n",
      "| 10|  Jeremias|     Bode|[Farewell to Arms...|3472.63|http://dummyimage...|   1997-08-02|  true|  3819.89287109375|\n",
      "+---+----------+---------+--------------------+-------+--------------------+-------------+------+------------------+\n",
      "only showing top 10 rows\n",
      "\n"
     ]
    }
   ],
   "source": [
    "aug_persons_df1 = persons_df.withColumn(\"salary_increase\", expr(\"salary * 0.10 + salary\"))\n",
    "aug_persons_df1.show(10)"
   ]
  },
  {
   "cell_type": "code",
   "execution_count": 85,
   "id": "7a6a1477-71d0-43b1-a062-ad422f83e12b",
   "metadata": {},
   "outputs": [
    {
     "data": {
      "text/plain": [
       "['id',\n",
       " 'first_name',\n",
       " 'last_name',\n",
       " 'fav_movies',\n",
       " 'salary',\n",
       " 'image_url',\n",
       " 'date_of_birth',\n",
       " 'active',\n",
       " 'salary_increase']"
      ]
     },
     "execution_count": 85,
     "metadata": {},
     "output_type": "execute_result"
    }
   ],
   "source": [
    "aug_persons_df1.columns"
   ]
  },
  {
   "cell_type": "code",
   "execution_count": 93,
   "id": "ef2e7394-fa44-4dd1-898d-bb6844fca41e",
   "metadata": {},
   "outputs": [],
   "source": [
    "aug_persons_df2 = (aug_persons_df1\n",
    "                   .withColumn(\"birth_year\", year(\"date_of_birth\"))\n",
    "                   .withColumnRenamed(\"fav_movies\", \"movies\")\n",
    "                   .withColumn(\"salary_x10\", round(col(\"salary_increase\"),3))\n",
    "                   .drop(\"salary_increase\"))"
   ]
  },
  {
   "cell_type": "code",
   "execution_count": 94,
   "id": "5ec02d33-f392-45c5-b888-9f712bca6075",
   "metadata": {},
   "outputs": [
    {
     "name": "stdout",
     "output_type": "stream",
     "text": [
      "+---+----------+---------+--------------------+-------+--------------------+-------------+------+----------+----------+\n",
      "| id|first_name|last_name|              movies| salary|           image_url|date_of_birth|active|birth_year|salary_x10|\n",
      "+---+----------+---------+--------------------+-------+--------------------+-------------+------+----------+----------+\n",
      "|  1|     Drucy|    Poppy|  [I giorni contati]|1463.36|http://dummyimage...|   1991-02-16|  true|      1991|  1609.696|\n",
      "|  2|   Emelyne|    Blaza|[Musketeer, The, ...|3006.04|http://dummyimage...|   1991-11-02| false|      1991|  3306.644|\n",
      "|  3|       Max|   Rettie|[The Forgotten Sp...|1422.88|http://dummyimage...|   1990-03-03| false|      1990|  1565.168|\n",
      "|  4|    Ilario|     Kean|[Up Close and Per...|3561.36|http://dummyimage...|   1987-06-09|  true|      1987|  3917.496|\n",
      "|  5|     Toddy|   Drexel|[Walk in the Clou...|4934.87|http://dummyimage...|   1992-10-28|  true|      1992|  5428.357|\n",
      "|  6|    Oswald| Petrolli|[Wing and the Thi...|1153.23|http://dummyimage...|   1986-09-02| false|      1986|  1268.553|\n",
      "|  7|    Adrian|   Clarey|[Walking Tall, Pa...|1044.73|http://dummyimage...|   1971-08-24| false|      1971|  1149.203|\n",
      "|  8|  Dominica|  Goodnow|    [Hearts Divided]|1147.76|http://dummyimage...|   1973-08-27| false|      1973|  1262.536|\n",
      "|  9|     Emory|  Slocomb|[Snake and Crane ...|1082.11|http://dummyimage...|   1974-06-08|  true|      1974|  1190.321|\n",
      "| 10|  Jeremias|     Bode|[Farewell to Arms...|3472.63|http://dummyimage...|   1997-08-02|  true|      1997|  3819.893|\n",
      "+---+----------+---------+--------------------+-------+--------------------+-------------+------+----------+----------+\n",
      "only showing top 10 rows\n",
      "\n"
     ]
    }
   ],
   "source": [
    "aug_persons_df2.show(10)"
   ]
  },
  {
   "cell_type": "code",
   "execution_count": null,
   "id": "07c1e4d3-febb-43e4-bc07-2fa5e9421a61",
   "metadata": {},
   "outputs": [],
   "source": []
  }
 ],
 "metadata": {
  "kernelspec": {
   "display_name": "Python 3 (ipykernel)",
   "language": "python",
   "name": "python3"
  },
  "language_info": {
   "codemirror_mode": {
    "name": "ipython",
    "version": 3
   },
   "file_extension": ".py",
   "mimetype": "text/x-python",
   "name": "python",
   "nbconvert_exporter": "python",
   "pygments_lexer": "ipython3",
   "version": "3.11.9"
  }
 },
 "nbformat": 4,
 "nbformat_minor": 5
}
