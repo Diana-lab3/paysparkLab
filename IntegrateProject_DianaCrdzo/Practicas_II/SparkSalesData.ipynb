{
 "cells": [
  {
   "cell_type": "code",
   "execution_count": 1,
   "id": "4547e75f-7d89-40be-b92f-8bed7f29f778",
   "metadata": {},
   "outputs": [],
   "source": [
    "from pyspark.sql import SparkSession\n",
    "from pyspark.sql.types import StructType, StructField, StringType"
   ]
  },
  {
   "cell_type": "code",
   "execution_count": 2,
   "id": "903a864d-5af2-44ac-9672-a94239d9e3f4",
   "metadata": {},
   "outputs": [],
   "source": [
    "spark = (SparkSession.builder.appName(\"SalesAnalytics\").getOrCreate())"
   ]
  },
  {
   "cell_type": "markdown",
   "id": "b6f3fe93-a173-47d5-920e-8fff3f8e500c",
   "metadata": {},
   "source": [
    "# **Preparacion de los datos**"
   ]
  },
  {
   "cell_type": "code",
   "execution_count": 3,
   "id": "120b87bb-8906-45f6-8843-afc64a14872e",
   "metadata": {},
   "outputs": [],
   "source": [
    "schema = StructType([\n",
    "    StructField(\"Order ID\", StringType(), True),\n",
    "    StructField(\"Product\", StringType(), True),\n",
    "    StructField(\"Quantity Ordered\", StringType(), True),\n",
    "    StructField(\"Price Each\", StringType(), True),\n",
    "    StructField(\"Order Date\", StringType(), True),\n",
    "    StructField(\"Purchase Adress\", StringType(), True),\n",
    "])"
   ]
  },
  {
   "cell_type": "code",
   "execution_count": 4,
   "id": "15c71516-dfcb-4df5-a192-a4d4c7106e13",
   "metadata": {},
   "outputs": [],
   "source": [
    "sales_data_fpath = \"./salesdata\"\n",
    "sales_raw_df = (\n",
    "spark.read.format(\"csv\")\n",
    "       .option(\"header\", True)\n",
    "       .schema(schema)\n",
    "       .load(sales_data_fpath)\n",
    ")"
   ]
  },
  {
   "cell_type": "code",
   "execution_count": 5,
   "id": "afd63648-cf01-4b5a-bcd3-044301bbdc3f",
   "metadata": {},
   "outputs": [
    {
     "name": "stdout",
     "output_type": "stream",
     "text": [
      "+--------+--------------------+----------------+----------+--------------+--------------------+\n",
      "|Order ID|             Product|Quantity Ordered|Price Each|    Order Date|     Purchase Adress|\n",
      "+--------+--------------------+----------------+----------+--------------+--------------------+\n",
      "|  295665|  Macbook Pro Laptop|               1|      1700|12/30/19 00:01|136 Church St, Ne...|\n",
      "|  295666|  LG Washing Machine|               1|     600.0|12/29/19 07:03|562 2nd St, New Y...|\n",
      "|  295667|USB-C Charging Cable|               1|     11.95|12/12/19 18:21|277 Main St, New ...|\n",
      "|  295668|    27in FHD Monitor|               1|    149.99|12/22/19 15:13|410 6th St, San F...|\n",
      "|  295669|USB-C Charging Cable|               1|     11.95|12/18/19 12:38|43 Hill St, Atlan...|\n",
      "|  295670|AA Batteries (4-p...|               1|      3.84|12/31/19 22:58|200 Jefferson St,...|\n",
      "|  295671|USB-C Charging Cable|               1|     11.95|12/16/19 15:10|928 12th St, Port...|\n",
      "|  295672|USB-C Charging Cable|               2|     11.95|12/13/19 09:29|813 Hickory St, D...|\n",
      "|  295673|Bose SoundSport H...|               1|     99.99|12/15/19 23:26|718 Wilson St, Da...|\n",
      "|  295674|AAA Batteries (4-...|               4|      2.99|12/28/19 11:51|77 7th St, Dallas...|\n",
      "+--------+--------------------+----------------+----------+--------------+--------------------+\n",
      "only showing top 10 rows\n",
      "\n"
     ]
    }
   ],
   "source": [
    "sales_raw_df.show(10)"
   ]
  },
  {
   "cell_type": "code",
   "execution_count": 6,
   "id": "d6b2c3d3-0a77-429a-9f12-5cc7d4c8e6d2",
   "metadata": {},
   "outputs": [
    {
     "name": "stdout",
     "output_type": "stream",
     "text": [
      "root\n",
      " |-- Order ID: string (nullable = true)\n",
      " |-- Product: string (nullable = true)\n",
      " |-- Quantity Ordered: string (nullable = true)\n",
      " |-- Price Each: string (nullable = true)\n",
      " |-- Order Date: string (nullable = true)\n",
      " |-- Purchase Adress: string (nullable = true)\n",
      "\n"
     ]
    }
   ],
   "source": [
    "sales_raw_df.printSchema()"
   ]
  },
  {
   "cell_type": "markdown",
   "id": "c9f723f8-6324-475a-a252-3f0e83382f0e",
   "metadata": {},
   "source": [
    "## **Limpeza de los datos**"
   ]
  },
  {
   "cell_type": "markdown",
   "id": "c2bbc009-d053-4cd6-8945-f74553e2d9e8",
   "metadata": {},
   "source": [
    "- Imperfeccciones de la data y registros null"
   ]
  },
  {
   "cell_type": "code",
   "execution_count": 7,
   "id": "0a5324a8-5b69-4220-9490-1c4ccb0e0ac6",
   "metadata": {},
   "outputs": [],
   "source": [
    "from pyspark.sql.functions import col"
   ]
  },
  {
   "cell_type": "code",
   "execution_count": 8,
   "id": "51e3ca41-ff84-4131-840b-86056b54542d",
   "metadata": {},
   "outputs": [
    {
     "name": "stdout",
     "output_type": "stream",
     "text": [
      "+--------+-------+----------------+----------+----------+---------------+\n",
      "|Order ID|Product|Quantity Ordered|Price Each|Order Date|Purchase Adress|\n",
      "+--------+-------+----------------+----------+----------+---------------+\n",
      "|    NULL|   NULL|            NULL|      NULL|      NULL|           NULL|\n",
      "|    NULL|   NULL|            NULL|      NULL|      NULL|           NULL|\n",
      "|    NULL|   NULL|            NULL|      NULL|      NULL|           NULL|\n",
      "|    NULL|   NULL|            NULL|      NULL|      NULL|           NULL|\n",
      "|    NULL|   NULL|            NULL|      NULL|      NULL|           NULL|\n",
      "|    NULL|   NULL|            NULL|      NULL|      NULL|           NULL|\n",
      "|    NULL|   NULL|            NULL|      NULL|      NULL|           NULL|\n",
      "|    NULL|   NULL|            NULL|      NULL|      NULL|           NULL|\n",
      "|    NULL|   NULL|            NULL|      NULL|      NULL|           NULL|\n",
      "|    NULL|   NULL|            NULL|      NULL|      NULL|           NULL|\n",
      "+--------+-------+----------------+----------+----------+---------------+\n",
      "only showing top 10 rows\n",
      "\n"
     ]
    }
   ],
   "source": [
    "sales_raw_df.filter(col(\"Order ID\").isNull() == True).show(10)"
   ]
  },
  {
   "cell_type": "code",
   "execution_count": 9,
   "id": "c03366ad-dd21-4fa6-b62a-6fb25b9d6038",
   "metadata": {},
   "outputs": [],
   "source": [
    "sales_raw_df = sales_raw_df.na.drop(\"any\")"
   ]
  },
  {
   "cell_type": "code",
   "execution_count": 10,
   "id": "0c6e42d2-8d3f-4379-a8f3-e8ae0a225d61",
   "metadata": {},
   "outputs": [
    {
     "name": "stdout",
     "output_type": "stream",
     "text": [
      "+--------+-------+----------------+----------+----------+---------------+\n",
      "|Order ID|Product|Quantity Ordered|Price Each|Order Date|Purchase Adress|\n",
      "+--------+-------+----------------+----------+----------+---------------+\n",
      "+--------+-------+----------------+----------+----------+---------------+\n",
      "\n"
     ]
    }
   ],
   "source": [
    "sales_raw_df.filter(col(\"Order ID\").isNull() == True).show(10)"
   ]
  },
  {
   "cell_type": "code",
   "execution_count": 10,
   "id": "428ed790-d52e-4847-a853-52369a92c2a2",
   "metadata": {},
   "outputs": [
    {
     "name": "stdout",
     "output_type": "stream",
     "text": [
      "+-------+------------------+-----------------+\n",
      "|summary|  Quantity Ordered|       Price Each|\n",
      "+-------+------------------+-----------------+\n",
      "|  count|            186305|           186305|\n",
      "|   mean|1.1243828986286637|184.3997347674861|\n",
      "| stddev|0.4427926240286694|332.7313298843445|\n",
      "|    min|                 1|           109.99|\n",
      "|    max|  Quantity Ordered|       Price Each|\n",
      "+-------+------------------+-----------------+\n",
      "\n"
     ]
    }
   ],
   "source": [
    "sales_raw_df.describe(\"Quantity Ordered\", \"Price Each\").show()"
   ]
  },
  {
   "cell_type": "code",
   "execution_count": 11,
   "id": "d7d6ed71-fdca-47f8-a314-8992fc07a81a",
   "metadata": {},
   "outputs": [
    {
     "name": "stdout",
     "output_type": "stream",
     "text": [
      "+--------+-------+----------------+----------+----------+----------------+\n",
      "|Order ID|Product|Quantity Ordered|Price Each|Order Date| Purchase Adress|\n",
      "+--------+-------+----------------+----------+----------+----------------+\n",
      "|Order ID|Product|Quantity Ordered|Price Each|Order Date|Purchase Address|\n",
      "|Order ID|Product|Quantity Ordered|Price Each|Order Date|Purchase Address|\n",
      "|Order ID|Product|Quantity Ordered|Price Each|Order Date|Purchase Address|\n",
      "|Order ID|Product|Quantity Ordered|Price Each|Order Date|Purchase Address|\n",
      "|Order ID|Product|Quantity Ordered|Price Each|Order Date|Purchase Address|\n",
      "|Order ID|Product|Quantity Ordered|Price Each|Order Date|Purchase Address|\n",
      "|Order ID|Product|Quantity Ordered|Price Each|Order Date|Purchase Address|\n",
      "|Order ID|Product|Quantity Ordered|Price Each|Order Date|Purchase Address|\n",
      "|Order ID|Product|Quantity Ordered|Price Each|Order Date|Purchase Address|\n",
      "|Order ID|Product|Quantity Ordered|Price Each|Order Date|Purchase Address|\n",
      "+--------+-------+----------------+----------+----------+----------------+\n",
      "only showing top 10 rows\n",
      "\n"
     ]
    }
   ],
   "source": [
    "sales_raw_df.filter(col(\"Order ID\") == \"Order ID\").show(10)"
   ]
  },
  {
   "cell_type": "code",
   "execution_count": 12,
   "id": "6e501d6c-a232-4abe-9624-ff0584cc89ea",
   "metadata": {},
   "outputs": [],
   "source": [
    "sales_temp_df = sales_raw_df.distinct()"
   ]
  },
  {
   "cell_type": "code",
   "execution_count": 13,
   "id": "43a9318c-6406-4c47-9090-422a527b8132",
   "metadata": {
    "scrolled": true
   },
   "outputs": [
    {
     "name": "stdout",
     "output_type": "stream",
     "text": [
      "+--------+--------------------+----------------+----------+--------------+--------------------+\n",
      "|Order ID|             Product|Quantity Ordered|Price Each|    Order Date|     Purchase Adress|\n",
      "+--------+--------------------+----------------+----------+--------------+--------------------+\n",
      "|  295710|AAA Batteries (4-...|               1|      2.99|12/26/19 19:09|729 Pine St, Atla...|\n",
      "|  295749|    Wired Headphones|               2|     11.99|12/04/19 05:24|983 Highland St, ...|\n",
      "|  296168|     ThinkPad Laptop|               1|    999.99|12/29/19 07:26|810 Lincoln St, B...|\n",
      "|  296698|    Wired Headphones|               1|     11.99|12/13/19 22:02|676 13th St, Atla...|\n",
      "|  297024|  Macbook Pro Laptop|               1|      1700|12/15/19 15:16|869 9th St, San F...|\n",
      "+--------+--------------------+----------------+----------+--------------+--------------------+\n",
      "only showing top 5 rows\n",
      "\n"
     ]
    }
   ],
   "source": [
    "sales_temp_df.show(5)"
   ]
  },
  {
   "cell_type": "code",
   "execution_count": 14,
   "id": "675ff37e-e87c-483c-b16e-25bd4e678843",
   "metadata": {},
   "outputs": [
    {
     "name": "stdout",
     "output_type": "stream",
     "text": [
      "+--------+-------+----------------+----------+----------+----------------+\n",
      "|Order ID|Product|Quantity Ordered|Price Each|Order Date| Purchase Adress|\n",
      "+--------+-------+----------------+----------+----------+----------------+\n",
      "|Order ID|Product|Quantity Ordered|Price Each|Order Date|Purchase Address|\n",
      "+--------+-------+----------------+----------+----------+----------------+\n",
      "\n"
     ]
    }
   ],
   "source": [
    "sales_temp_df.filter(col(\"Order ID\") == \"Order ID\").show()"
   ]
  },
  {
   "cell_type": "markdown",
   "id": "2788bae3-f0ed-44ed-95ed-4f6aab41a0c9",
   "metadata": {},
   "source": [
    "## **Probar la solución al porblema**"
   ]
  },
  {
   "cell_type": "code",
   "execution_count": 15,
   "id": "0acaca5f-af48-4335-aef1-f6a8dce26ed7",
   "metadata": {},
   "outputs": [],
   "source": [
    "sales_temp_df = sales_temp_df.filter(col(\"Order ID\") != \"Order ID\")"
   ]
  },
  {
   "cell_type": "code",
   "execution_count": 16,
   "id": "b78a417a-3544-406d-b36b-1e991c820cce",
   "metadata": {},
   "outputs": [
    {
     "name": "stdout",
     "output_type": "stream",
     "text": [
      "+--------+-------+----------------+----------+----------+---------------+\n",
      "|Order ID|Product|Quantity Ordered|Price Each|Order Date|Purchase Adress|\n",
      "+--------+-------+----------------+----------+----------+---------------+\n",
      "+--------+-------+----------------+----------+----------+---------------+\n",
      "\n"
     ]
    }
   ],
   "source": [
    "sales_temp_df.filter(col(\"Order ID\") == \"Order ID\").show(10)"
   ]
  },
  {
   "cell_type": "code",
   "execution_count": 17,
   "id": "710476aa-37d7-4c60-9ecb-c9122581090e",
   "metadata": {},
   "outputs": [
    {
     "name": "stdout",
     "output_type": "stream",
     "text": [
      "+--------+------------------------+----------------+----------+--------------+--------------------------------------+\n",
      "|Order ID|Product                 |Quantity Ordered|Price Each|Order Date    |Purchase Adress                       |\n",
      "+--------+------------------------+----------------+----------+--------------+--------------------------------------+\n",
      "|295710  |AAA Batteries (4-pack)  |1               |2.99      |12/26/19 19:09|729 Pine St, Atlanta, GA 30301        |\n",
      "|295749  |Wired Headphones        |2               |11.99     |12/04/19 05:24|983 Highland St, Los Angeles, CA 90001|\n",
      "|296168  |ThinkPad Laptop         |1               |999.99    |12/29/19 07:26|810 Lincoln St, Boston, MA 02215      |\n",
      "|296698  |Wired Headphones        |1               |11.99     |12/13/19 22:02|676 13th St, Atlanta, GA 30301        |\n",
      "|297024  |Macbook Pro Laptop      |1               |1700      |12/15/19 15:16|869 9th St, San Francisco, CA 94016   |\n",
      "|297128  |ThinkPad Laptop         |1               |999.99    |12/04/19 23:25|90 14th St, Los Angeles, CA 90001     |\n",
      "|297253  |Lightning Charging Cable|1               |14.95     |12/24/19 13:18|357 13th St, Atlanta, GA 30301        |\n",
      "|297880  |AAA Batteries (4-pack)  |2               |2.99      |12/20/19 07:49|949 Adams St, Atlanta, GA 30301       |\n",
      "|298455  |20in Monitor            |1               |109.99    |12/22/19 09:19|702 Wilson St, New York City, NY 10001|\n",
      "|298823  |Apple Airpods Headphones|1               |150       |12/28/19 20:22|151 14th St, Boston, MA 02215         |\n",
      "+--------+------------------------+----------------+----------+--------------+--------------------------------------+\n",
      "only showing top 10 rows\n",
      "\n"
     ]
    }
   ],
   "source": [
    "sales_temp_df.show(10, truncate=False)"
   ]
  },
  {
   "cell_type": "code",
   "execution_count": 18,
   "id": "1e81e6d2-2e70-4e7d-87c6-3cad2ad3c394",
   "metadata": {},
   "outputs": [
    {
     "name": "stdout",
     "output_type": "stream",
     "text": [
      "+-------+------------------+------------+------------------+------------------+--------------+--------------------+\n",
      "|summary|          Order ID|     Product|  Quantity Ordered|        Price Each|    Order Date|     Purchase Adress|\n",
      "+-------+------------------+------------+------------------+------------------+--------------+--------------------+\n",
      "|  count|            185686|      185686|            185686|            185686|        185686|              185686|\n",
      "|   mean|230411.37622653297|        NULL|1.1245435843305365|184.51925546358373|          NULL|                NULL|\n",
      "| stddev| 51511.71718332089|        NULL|0.4430687383832877|332.84383839005267|          NULL|                NULL|\n",
      "|    min|            141234|20in Monitor|                 1|            109.99|01/01/19 03:07|1 11th St, Atlant...|\n",
      "|    max|            319670|      iPhone|                 9|            999.99|12/31/19 23:53|999 Wilson St, Sa...|\n",
      "+-------+------------------+------------+------------------+------------------+--------------+--------------------+\n",
      "\n"
     ]
    }
   ],
   "source": [
    "sales_temp_df.describe().show()"
   ]
  },
  {
   "cell_type": "markdown",
   "id": "c8434d97-cd01-456f-8e00-730878bb206e",
   "metadata": {},
   "source": [
    "# **Transformaciones**"
   ]
  },
  {
   "cell_type": "markdown",
   "id": "8ed9ada3-c043-4dba-b247-8872cdaeb483",
   "metadata": {},
   "source": [
    "## **Extraer la ciudad con la dirección**"
   ]
  },
  {
   "cell_type": "code",
   "execution_count": 19,
   "id": "8fb3b315-66e7-4611-9767-2a4250ea992a",
   "metadata": {},
   "outputs": [],
   "source": [
    "from pyspark.sql.functions import split"
   ]
  },
  {
   "cell_type": "code",
   "execution_count": 20,
   "id": "d4997f6c-033b-4b31-a876-0ca06129ec46",
   "metadata": {},
   "outputs": [
    {
     "name": "stdout",
     "output_type": "stream",
     "text": [
      "+--------------------------------------+\n",
      "|Purchase Adress                       |\n",
      "+--------------------------------------+\n",
      "|729 Pine St, Atlanta, GA 30301        |\n",
      "|983 Highland St, Los Angeles, CA 90001|\n",
      "|810 Lincoln St, Boston, MA 02215      |\n",
      "|676 13th St, Atlanta, GA 30301        |\n",
      "|869 9th St, San Francisco, CA 94016   |\n",
      "|90 14th St, Los Angeles, CA 90001     |\n",
      "|357 13th St, Atlanta, GA 30301        |\n",
      "|949 Adams St, Atlanta, GA 30301       |\n",
      "|702 Wilson St, New York City, NY 10001|\n",
      "|151 14th St, Boston, MA 02215         |\n",
      "+--------------------------------------+\n",
      "only showing top 10 rows\n",
      "\n"
     ]
    }
   ],
   "source": [
    "sales_temp_df.select(\"Purchase Adress\").show(10, False)"
   ]
  },
  {
   "cell_type": "code",
   "execution_count": 21,
   "id": "ad4fcaaf-eb75-4374-8093-c2f719e2d2cc",
   "metadata": {},
   "outputs": [
    {
     "name": "stdout",
     "output_type": "stream",
     "text": [
      "+--------------------------------------+------------------------------------------+\n",
      "|Purchase Adress                       |split(Purchase Adress, ,, -1)             |\n",
      "+--------------------------------------+------------------------------------------+\n",
      "|729 Pine St, Atlanta, GA 30301        |[729 Pine St,  Atlanta,  GA 30301]        |\n",
      "|983 Highland St, Los Angeles, CA 90001|[983 Highland St,  Los Angeles,  CA 90001]|\n",
      "|810 Lincoln St, Boston, MA 02215      |[810 Lincoln St,  Boston,  MA 02215]      |\n",
      "|676 13th St, Atlanta, GA 30301        |[676 13th St,  Atlanta,  GA 30301]        |\n",
      "|869 9th St, San Francisco, CA 94016   |[869 9th St,  San Francisco,  CA 94016]   |\n",
      "|90 14th St, Los Angeles, CA 90001     |[90 14th St,  Los Angeles,  CA 90001]     |\n",
      "|357 13th St, Atlanta, GA 30301        |[357 13th St,  Atlanta,  GA 30301]        |\n",
      "|949 Adams St, Atlanta, GA 30301       |[949 Adams St,  Atlanta,  GA 30301]       |\n",
      "|702 Wilson St, New York City, NY 10001|[702 Wilson St,  New York City,  NY 10001]|\n",
      "|151 14th St, Boston, MA 02215         |[151 14th St,  Boston,  MA 02215]         |\n",
      "+--------------------------------------+------------------------------------------+\n",
      "only showing top 10 rows\n",
      "\n"
     ]
    }
   ],
   "source": [
    "sales_temp_df.select(\"Purchase Adress\", split(col(\"Purchase Adress\"), \",\")).show(10, False)"
   ]
  },
  {
   "cell_type": "code",
   "execution_count": 22,
   "id": "73127a73-28ed-4db5-9b15-4be663d0bab1",
   "metadata": {},
   "outputs": [
    {
     "name": "stdout",
     "output_type": "stream",
     "text": [
      "+--------------------------------------+--------------------------------+\n",
      "|Purchase Adress                       |split(Purchase Adress, ,, -1)[1]|\n",
      "+--------------------------------------+--------------------------------+\n",
      "|729 Pine St, Atlanta, GA 30301        | Atlanta                        |\n",
      "|983 Highland St, Los Angeles, CA 90001| Los Angeles                    |\n",
      "|810 Lincoln St, Boston, MA 02215      | Boston                         |\n",
      "|676 13th St, Atlanta, GA 30301        | Atlanta                        |\n",
      "|869 9th St, San Francisco, CA 94016   | San Francisco                  |\n",
      "|90 14th St, Los Angeles, CA 90001     | Los Angeles                    |\n",
      "|357 13th St, Atlanta, GA 30301        | Atlanta                        |\n",
      "|949 Adams St, Atlanta, GA 30301       | Atlanta                        |\n",
      "|702 Wilson St, New York City, NY 10001| New York City                  |\n",
      "|151 14th St, Boston, MA 02215         | Boston                         |\n",
      "+--------------------------------------+--------------------------------+\n",
      "only showing top 10 rows\n",
      "\n"
     ]
    }
   ],
   "source": [
    "sales_temp_df.select(\"Purchase Adress\", split(col(\"Purchase Adress\"), \",\").getItem(1)).show(10, False)"
   ]
  },
  {
   "cell_type": "code",
   "execution_count": 23,
   "id": "cca72426-60f4-4043-a5e0-9382312fe4f5",
   "metadata": {},
   "outputs": [
    {
     "name": "stdout",
     "output_type": "stream",
     "text": [
      "+--------------------------------------+--------------------------------+\n",
      "|Purchase Adress                       |split(Purchase Adress, ,, -1)[2]|\n",
      "+--------------------------------------+--------------------------------+\n",
      "|729 Pine St, Atlanta, GA 30301        | GA 30301                       |\n",
      "|983 Highland St, Los Angeles, CA 90001| CA 90001                       |\n",
      "|810 Lincoln St, Boston, MA 02215      | MA 02215                       |\n",
      "|676 13th St, Atlanta, GA 30301        | GA 30301                       |\n",
      "|869 9th St, San Francisco, CA 94016   | CA 94016                       |\n",
      "|90 14th St, Los Angeles, CA 90001     | CA 90001                       |\n",
      "|357 13th St, Atlanta, GA 30301        | GA 30301                       |\n",
      "|949 Adams St, Atlanta, GA 30301       | GA 30301                       |\n",
      "|702 Wilson St, New York City, NY 10001| NY 10001                       |\n",
      "|151 14th St, Boston, MA 02215         | MA 02215                       |\n",
      "+--------------------------------------+--------------------------------+\n",
      "only showing top 10 rows\n",
      "\n"
     ]
    }
   ],
   "source": [
    "sales_temp_df.select(\"Purchase Adress\", split(col(\"Purchase Adress\"), \",\").getItem(2)).show(10, False)"
   ]
  },
  {
   "cell_type": "code",
   "execution_count": 24,
   "id": "4832ab11-262d-48df-91fe-5fd6e90e584f",
   "metadata": {},
   "outputs": [],
   "source": [
    "sales_temp_df = (sales_temp_df.withColumn(\"City\", split(col(\"Purchase Adress\"), \",\").getItem(1))\n",
    "                              .withColumn(\"State\", split(split(col(\"Purchase Adress\"), \",\").getItem(2),' ').getItem(1)))"
   ]
  },
  {
   "cell_type": "code",
   "execution_count": 25,
   "id": "58d44362-1ca6-499f-a1f4-614432f8d736",
   "metadata": {},
   "outputs": [
    {
     "name": "stdout",
     "output_type": "stream",
     "text": [
      "+--------+------------------------+----------------+----------+--------------+--------------------------------------+--------------+-----+\n",
      "|Order ID|Product                 |Quantity Ordered|Price Each|Order Date    |Purchase Adress                       |City          |State|\n",
      "+--------+------------------------+----------------+----------+--------------+--------------------------------------+--------------+-----+\n",
      "|295710  |AAA Batteries (4-pack)  |1               |2.99      |12/26/19 19:09|729 Pine St, Atlanta, GA 30301        | Atlanta      |GA   |\n",
      "|295749  |Wired Headphones        |2               |11.99     |12/04/19 05:24|983 Highland St, Los Angeles, CA 90001| Los Angeles  |CA   |\n",
      "|296168  |ThinkPad Laptop         |1               |999.99    |12/29/19 07:26|810 Lincoln St, Boston, MA 02215      | Boston       |MA   |\n",
      "|296698  |Wired Headphones        |1               |11.99     |12/13/19 22:02|676 13th St, Atlanta, GA 30301        | Atlanta      |GA   |\n",
      "|297024  |Macbook Pro Laptop      |1               |1700      |12/15/19 15:16|869 9th St, San Francisco, CA 94016   | San Francisco|CA   |\n",
      "|297128  |ThinkPad Laptop         |1               |999.99    |12/04/19 23:25|90 14th St, Los Angeles, CA 90001     | Los Angeles  |CA   |\n",
      "|297253  |Lightning Charging Cable|1               |14.95     |12/24/19 13:18|357 13th St, Atlanta, GA 30301        | Atlanta      |GA   |\n",
      "|297880  |AAA Batteries (4-pack)  |2               |2.99      |12/20/19 07:49|949 Adams St, Atlanta, GA 30301       | Atlanta      |GA   |\n",
      "|298455  |20in Monitor            |1               |109.99    |12/22/19 09:19|702 Wilson St, New York City, NY 10001| New York City|NY   |\n",
      "|298823  |Apple Airpods Headphones|1               |150       |12/28/19 20:22|151 14th St, Boston, MA 02215         | Boston       |MA   |\n",
      "+--------+------------------------+----------------+----------+--------------+--------------------------------------+--------------+-----+\n",
      "only showing top 10 rows\n",
      "\n"
     ]
    }
   ],
   "source": [
    "sales_temp_df.show(10, False)"
   ]
  },
  {
   "cell_type": "markdown",
   "id": "a94a9c45-7983-4bd2-a499-21ed96f70982",
   "metadata": {},
   "source": [
    "## **Renombrar y cambiar tipos**"
   ]
  },
  {
   "cell_type": "code",
   "execution_count": 26,
   "id": "e1fbb0f5-886f-4a20-87f8-a7799376d6e6",
   "metadata": {},
   "outputs": [],
   "source": [
    "from pyspark.sql.functions import to_timestamp\n",
    "from pyspark.sql.types import IntegerType, FloatType"
   ]
  },
  {
   "cell_type": "code",
   "execution_count": 27,
   "id": "ce216492-6702-40d6-a137-8f6b04de2d94",
   "metadata": {},
   "outputs": [],
   "source": [
    "sales_temp_df = (sales_temp_df.withColumn(\"OrderId\", col(\"Order ID\").cast(IntegerType()))\n",
    "                              .withColumn(\"Quantity\", col(\"Quantity Ordered\").cast(IntegerType()))\n",
    "                              .withColumn(\"Price\", col(\"Price Each\").cast(FloatType()))\n",
    "                              .withColumn(\"OrderDate\", to_timestamp(col(\"Order date\"), \"MM/dd/yy HH:mm\"))\n",
    "                              .withColumnRenamed(\"Purchase Adress\", \"StoreAdress\")\n",
    "                              .drop(\"Order Id\")\n",
    "                              .drop(\"Quantity Ordered\")\n",
    "                              .drop(\"Price Each\")\n",
    "                              .drop(\"Purchase Adress\"))"
   ]
  },
  {
   "cell_type": "code",
   "execution_count": 28,
   "id": "1c4a9e96-1fbf-4ff3-bf62-f50e959afaf8",
   "metadata": {},
   "outputs": [
    {
     "name": "stdout",
     "output_type": "stream",
     "text": [
      "+------------------------+--------------+--------------------------------------+--------------+-----+-------+--------+------+-------------------+\n",
      "|Product                 |Order Date    |StoreAdress                           |City          |State|OrderId|Quantity|Price |OrderDate          |\n",
      "+------------------------+--------------+--------------------------------------+--------------+-----+-------+--------+------+-------------------+\n",
      "|AAA Batteries (4-pack)  |12/26/19 19:09|729 Pine St, Atlanta, GA 30301        | Atlanta      |GA   |295710 |1       |2.99  |2019-12-26 19:09:00|\n",
      "|Wired Headphones        |12/04/19 05:24|983 Highland St, Los Angeles, CA 90001| Los Angeles  |CA   |295749 |2       |11.99 |2019-12-04 05:24:00|\n",
      "|ThinkPad Laptop         |12/29/19 07:26|810 Lincoln St, Boston, MA 02215      | Boston       |MA   |296168 |1       |999.99|2019-12-29 07:26:00|\n",
      "|Wired Headphones        |12/13/19 22:02|676 13th St, Atlanta, GA 30301        | Atlanta      |GA   |296698 |1       |11.99 |2019-12-13 22:02:00|\n",
      "|Macbook Pro Laptop      |12/15/19 15:16|869 9th St, San Francisco, CA 94016   | San Francisco|CA   |297024 |1       |1700.0|2019-12-15 15:16:00|\n",
      "|ThinkPad Laptop         |12/04/19 23:25|90 14th St, Los Angeles, CA 90001     | Los Angeles  |CA   |297128 |1       |999.99|2019-12-04 23:25:00|\n",
      "|Lightning Charging Cable|12/24/19 13:18|357 13th St, Atlanta, GA 30301        | Atlanta      |GA   |297253 |1       |14.95 |2019-12-24 13:18:00|\n",
      "|AAA Batteries (4-pack)  |12/20/19 07:49|949 Adams St, Atlanta, GA 30301       | Atlanta      |GA   |297880 |2       |2.99  |2019-12-20 07:49:00|\n",
      "|20in Monitor            |12/22/19 09:19|702 Wilson St, New York City, NY 10001| New York City|NY   |298455 |1       |109.99|2019-12-22 09:19:00|\n",
      "|Apple Airpods Headphones|12/28/19 20:22|151 14th St, Boston, MA 02215         | Boston       |MA   |298823 |1       |150.0 |2019-12-28 20:22:00|\n",
      "+------------------------+--------------+--------------------------------------+--------------+-----+-------+--------+------+-------------------+\n",
      "only showing top 10 rows\n",
      "\n"
     ]
    }
   ],
   "source": [
    "sales_temp_df.show(10, False)"
   ]
  },
  {
   "cell_type": "code",
   "execution_count": 29,
   "id": "8695d822-826e-467d-b5f7-424ec35e46a1",
   "metadata": {},
   "outputs": [
    {
     "name": "stdout",
     "output_type": "stream",
     "text": [
      "root\n",
      " |-- Product: string (nullable = true)\n",
      " |-- Order Date: string (nullable = true)\n",
      " |-- StoreAdress: string (nullable = true)\n",
      " |-- City: string (nullable = true)\n",
      " |-- State: string (nullable = true)\n",
      " |-- OrderId: integer (nullable = true)\n",
      " |-- Quantity: integer (nullable = true)\n",
      " |-- Price: float (nullable = true)\n",
      " |-- OrderDate: timestamp (nullable = true)\n",
      "\n"
     ]
    }
   ],
   "source": [
    "sales_temp_df.printSchema()"
   ]
  },
  {
   "cell_type": "markdown",
   "id": "36734493-3b84-4b6c-ad0b-b4056839b935",
   "metadata": {},
   "source": [
    "## **Agragar nuevas columnas: mes y año**"
   ]
  },
  {
   "cell_type": "code",
   "execution_count": 30,
   "id": "14760a80-f2fc-4340-a770-f0d093690f5d",
   "metadata": {},
   "outputs": [],
   "source": [
    "from pyspark.sql.functions import year,month"
   ]
  },
  {
   "cell_type": "code",
   "execution_count": 35,
   "id": "43563046-b057-491f-8f44-c0ec82dd600a",
   "metadata": {},
   "outputs": [],
   "source": [
    "sales_temp_df = (sales_temp_df.withColumn(\"ReportYear\", year(col(\"OrderDate\")))\n",
    "                              .withColumn(\"Month\", month(col(\"OrderDate\"))))"
   ]
  },
  {
   "cell_type": "code",
   "execution_count": 36,
   "id": "60d3b9bf-1999-4528-b587-2fd132064661",
   "metadata": {},
   "outputs": [
    {
     "name": "stdout",
     "output_type": "stream",
     "text": [
      "+--------------------+--------------+--------------------+--------------+-----+-------+--------+------+-------------------+----------+----+-----+\n",
      "|             Product|    Order Date|         StoreAdress|          City|State|OrderId|Quantity| Price|          OrderDate|ReportYear|Mont|Month|\n",
      "+--------------------+--------------+--------------------+--------------+-----+-------+--------+------+-------------------+----------+----+-----+\n",
      "|AAA Batteries (4-...|12/26/19 19:09|729 Pine St, Atla...|       Atlanta|   GA| 295710|       1|  2.99|2019-12-26 19:09:00|      2019|  12|   12|\n",
      "|    Wired Headphones|12/04/19 05:24|983 Highland St, ...|   Los Angeles|   CA| 295749|       2| 11.99|2019-12-04 05:24:00|      2019|  12|   12|\n",
      "|     ThinkPad Laptop|12/29/19 07:26|810 Lincoln St, B...|        Boston|   MA| 296168|       1|999.99|2019-12-29 07:26:00|      2019|  12|   12|\n",
      "|    Wired Headphones|12/13/19 22:02|676 13th St, Atla...|       Atlanta|   GA| 296698|       1| 11.99|2019-12-13 22:02:00|      2019|  12|   12|\n",
      "|  Macbook Pro Laptop|12/15/19 15:16|869 9th St, San F...| San Francisco|   CA| 297024|       1|1700.0|2019-12-15 15:16:00|      2019|  12|   12|\n",
      "|     ThinkPad Laptop|12/04/19 23:25|90 14th St, Los A...|   Los Angeles|   CA| 297128|       1|999.99|2019-12-04 23:25:00|      2019|  12|   12|\n",
      "|Lightning Chargin...|12/24/19 13:18|357 13th St, Atla...|       Atlanta|   GA| 297253|       1| 14.95|2019-12-24 13:18:00|      2019|  12|   12|\n",
      "|AAA Batteries (4-...|12/20/19 07:49|949 Adams St, Atl...|       Atlanta|   GA| 297880|       2|  2.99|2019-12-20 07:49:00|      2019|  12|   12|\n",
      "|        20in Monitor|12/22/19 09:19|702 Wilson St, Ne...| New York City|   NY| 298455|       1|109.99|2019-12-22 09:19:00|      2019|  12|   12|\n",
      "|Apple Airpods Hea...|12/28/19 20:22|151 14th St, Bost...|        Boston|   MA| 298823|       1| 150.0|2019-12-28 20:22:00|      2019|  12|   12|\n",
      "+--------------------+--------------+--------------------+--------------+-----+-------+--------+------+-------------------+----------+----+-----+\n",
      "only showing top 10 rows\n",
      "\n"
     ]
    }
   ],
   "source": [
    "sales_temp_df.show(10)"
   ]
  },
  {
   "cell_type": "markdown",
   "id": "5585904b-2b08-4891-898e-4dfc3b945e17",
   "metadata": {},
   "source": [
    "## **Escribir el dataFrame en un parquet**"
   ]
  },
  {
   "cell_type": "code",
   "execution_count": 37,
   "id": "fcfea5e9-6ebc-4480-ba5c-85030a1c3238",
   "metadata": {},
   "outputs": [],
   "source": [
    "sales_final_df = sales_temp_df.select(\"OrderId\", \"Product\", \"Quantity\", \"Price\", \"OrderDate\", \"StoreAdress\", \"City\", \"Reportyear\", \"Month\")"
   ]
  },
  {
   "cell_type": "code",
   "execution_count": 38,
   "id": "2e1769c6-727e-4e8c-9850-7e1d477adbfb",
   "metadata": {},
   "outputs": [
    {
     "name": "stdout",
     "output_type": "stream",
     "text": [
      "+-------+--------------------+--------+------+-------------------+--------------------+--------------+----------+-----+\n",
      "|OrderId|             Product|Quantity| Price|          OrderDate|         StoreAdress|          City|Reportyear|Month|\n",
      "+-------+--------------------+--------+------+-------------------+--------------------+--------------+----------+-----+\n",
      "| 295710|AAA Batteries (4-...|       1|  2.99|2019-12-26 19:09:00|729 Pine St, Atla...|       Atlanta|      2019|   12|\n",
      "| 295749|    Wired Headphones|       2| 11.99|2019-12-04 05:24:00|983 Highland St, ...|   Los Angeles|      2019|   12|\n",
      "| 296168|     ThinkPad Laptop|       1|999.99|2019-12-29 07:26:00|810 Lincoln St, B...|        Boston|      2019|   12|\n",
      "| 296698|    Wired Headphones|       1| 11.99|2019-12-13 22:02:00|676 13th St, Atla...|       Atlanta|      2019|   12|\n",
      "| 297024|  Macbook Pro Laptop|       1|1700.0|2019-12-15 15:16:00|869 9th St, San F...| San Francisco|      2019|   12|\n",
      "| 297128|     ThinkPad Laptop|       1|999.99|2019-12-04 23:25:00|90 14th St, Los A...|   Los Angeles|      2019|   12|\n",
      "| 297253|Lightning Chargin...|       1| 14.95|2019-12-24 13:18:00|357 13th St, Atla...|       Atlanta|      2019|   12|\n",
      "| 297880|AAA Batteries (4-...|       2|  2.99|2019-12-20 07:49:00|949 Adams St, Atl...|       Atlanta|      2019|   12|\n",
      "| 298455|        20in Monitor|       1|109.99|2019-12-22 09:19:00|702 Wilson St, Ne...| New York City|      2019|   12|\n",
      "| 298823|Apple Airpods Hea...|       1| 150.0|2019-12-28 20:22:00|151 14th St, Bost...|        Boston|      2019|   12|\n",
      "+-------+--------------------+--------+------+-------------------+--------------------+--------------+----------+-----+\n",
      "only showing top 10 rows\n",
      "\n"
     ]
    }
   ],
   "source": [
    "sales_final_df.show(10)"
   ]
  },
  {
   "cell_type": "code",
   "execution_count": 39,
   "id": "2a9556ae-fae2-4785-b50d-eac97715c46d",
   "metadata": {},
   "outputs": [],
   "source": [
    "output_path = './data/output/sales'\n",
    "sales_final_df.write.mode(\"overwrite\").partitionBy(\"ReportYear\", \"Month\").parquet(output_path)"
   ]
  },
  {
   "cell_type": "code",
   "execution_count": null,
   "id": "3a2e0118-334a-45fd-8b0e-96d9811d3efc",
   "metadata": {},
   "outputs": [],
   "source": []
  }
 ],
 "metadata": {
  "kernelspec": {
   "display_name": "Python 3 (ipykernel)",
   "language": "python",
   "name": "python3"
  },
  "language_info": {
   "codemirror_mode": {
    "name": "ipython",
    "version": 3
   },
   "file_extension": ".py",
   "mimetype": "text/x-python",
   "name": "python",
   "nbconvert_exporter": "python",
   "pygments_lexer": "ipython3",
   "version": "3.11.9"
  }
 },
 "nbformat": 4,
 "nbformat_minor": 5
}
