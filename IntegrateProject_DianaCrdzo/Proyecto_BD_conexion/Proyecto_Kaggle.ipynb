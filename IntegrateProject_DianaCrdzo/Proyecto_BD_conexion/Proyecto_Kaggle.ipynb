{
  "nbformat": 4,
  "nbformat_minor": 0,
  "metadata": {
    "colab": {
      "provenance": []
    },
    "kernelspec": {
      "name": "python3",
      "display_name": "Python 3"
    },
    "language_info": {
      "name": "python"
    }
  },
  "cells": [
    {
      "cell_type": "markdown",
      "source": [
        "# Instalar librerías"
      ],
      "metadata": {
        "id": "EZtgcA-5teLW"
      }
    },
    {
      "cell_type": "code",
      "source": [
        "# Instalar librerias\n",
        "!pip install pyspark\n",
        "!pip install -q kaggle"
      ],
      "metadata": {
        "colab": {
          "base_uri": "https://localhost:8080/"
        },
        "id": "WqFE4QnAtf-B",
        "outputId": "df91833a-a138-4609-d68c-8a77aed72c96"
      },
      "execution_count": 1,
      "outputs": [
        {
          "output_type": "stream",
          "name": "stdout",
          "text": [
            "Requirement already satisfied: pyspark in /usr/local/lib/python3.10/dist-packages (3.5.3)\n",
            "Requirement already satisfied: py4j==0.10.9.7 in /usr/local/lib/python3.10/dist-packages (from pyspark) (0.10.9.7)\n"
          ]
        }
      ]
    },
    {
      "cell_type": "markdown",
      "source": [
        "# Importar librerías"
      ],
      "metadata": {
        "id": "aMWLxtQHtaVN"
      }
    },
    {
      "cell_type": "code",
      "source": [
        "from pyspark.sql import functions as F\n",
        "from pyspark.sql import SparkSession\n",
        "from pyspark.sql.types import *\n",
        "import zipfile\n",
        "import os\n",
        "import pandas as pd"
      ],
      "metadata": {
        "id": "115qZSlnvUq_"
      },
      "execution_count": 7,
      "outputs": []
    },
    {
      "cell_type": "markdown",
      "source": [
        "## Creación de una sesión con Spark"
      ],
      "metadata": {
        "id": "mL1lntmj80dy"
      }
    },
    {
      "cell_type": "code",
      "source": [
        "#Iniciar conexión de spark\n",
        "spark = SparkSession.builder\\\n",
        "        .master(\"local\")\\\n",
        "        .appName(\"Colabpractica\")\\\n",
        "        .config('spark.ui.port', '4050')\\\n",
        "        .getOrCreate()"
      ],
      "metadata": {
        "id": "jC1Jw3SE84Pu"
      },
      "execution_count": 8,
      "outputs": []
    },
    {
      "cell_type": "markdown",
      "source": [
        "**Preparacion del ambiete y los datos**"
      ],
      "metadata": {
        "id": "ut9LreFq6ByZ"
      }
    },
    {
      "cell_type": "code",
      "source": [
        "# Creamos la carpeta oculta en ambiente de linux sobre colab\n",
        "!mkdir ~/.kaggle"
      ],
      "metadata": {
        "id": "ZDIvWoUT2dth"
      },
      "execution_count": 4,
      "outputs": []
    },
    {
      "cell_type": "code",
      "source": [
        "# Copiar el archivo JSON  a la carpeta oculta que creamos\n",
        "!cp kaggle.json ~/.kaggle/"
      ],
      "metadata": {
        "colab": {
          "base_uri": "https://localhost:8080/"
        },
        "id": "G4seSBjQ2kh8",
        "outputId": "b3dd4eda-1214-42a2-b545-a73f78df8fe2"
      },
      "execution_count": 8,
      "outputs": [
        {
          "output_type": "stream",
          "name": "stdout",
          "text": [
            "cp: cannot stat 'kaggle.json': No such file or directory\n"
          ]
        }
      ]
    },
    {
      "cell_type": "code",
      "source": [
        "# Cambiamos los permisos para permitir lectura de las credenciales\n",
        "!chmod 600 ~/.kaggle/kaggle.json"
      ],
      "metadata": {
        "id": "Hi6gJBtr3u-r"
      },
      "execution_count": 9,
      "outputs": []
    },
    {
      "cell_type": "code",
      "source": [
        "# Descargamos archivos indicando el usuario del propietario de los datos en kaggle y el nombre de dataset\n",
        "! kaggle datasets download arevel/chess-games --force"
      ],
      "metadata": {
        "colab": {
          "base_uri": "https://localhost:8080/"
        },
        "id": "H2_tf66W345s",
        "outputId": "e7ee180d-fd57-4861-bb49-0cea68c2493e"
      },
      "execution_count": 5,
      "outputs": [
        {
          "output_type": "stream",
          "name": "stdout",
          "text": [
            "Dataset URL: https://www.kaggle.com/datasets/arevel/chess-games\n",
            "License(s): CC0-1.0\n",
            "Downloading chess-games.zip to /content\n",
            " 99% 1.43G/1.45G [00:14<00:00, 203MB/s]\n",
            "100% 1.45G/1.45G [00:14<00:00, 105MB/s]\n"
          ]
        }
      ]
    },
    {
      "cell_type": "code",
      "source": [
        "# Descomprimir el archivo\n",
        "for file in os.listdir():\n",
        "    if file.endswith('.zip'):\n",
        "      zip_ref = zipfile.ZipFile(file, 'r')\n",
        "      zip_ref.extractall()\n",
        "      zip_ref.close()"
      ],
      "metadata": {
        "id": "YZyR_cQL6JG_"
      },
      "execution_count": 9,
      "outputs": []
    },
    {
      "cell_type": "markdown",
      "source": [
        "# **Lectura de datos**"
      ],
      "metadata": {
        "id": "zfaaP5gs7k-7"
      }
    },
    {
      "cell_type": "markdown",
      "source": [
        "# Lectura de datos con Pandas"
      ],
      "metadata": {
        "id": "ZnPrAiYj7qAP"
      }
    },
    {
      "cell_type": "code",
      "source": [
        "df_pandas =pd.read_csv('/content/chess_games.csv')"
      ],
      "metadata": {
        "id": "UpzYIaiO7yE0"
      },
      "execution_count": 12,
      "outputs": []
    },
    {
      "cell_type": "markdown",
      "source": [
        "# Lectura datos con PySpark"
      ],
      "metadata": {
        "id": "wr0JA3468W8W"
      }
    },
    {
      "cell_type": "code",
      "source": [
        "df = spark.read.csv('/content/chess_games.csv', header=True)"
      ],
      "metadata": {
        "id": "EHAKeX048c-y"
      },
      "execution_count": null,
      "outputs": []
    },
    {
      "cell_type": "markdown",
      "source": [
        "### **Procesamiento de datos**"
      ],
      "metadata": {
        "id": "K9oFGqHl9Y0b"
      }
    },
    {
      "cell_type": "markdown",
      "source": [
        "### Número de filas y columnas"
      ],
      "metadata": {
        "id": "eS-fLg2U9eg6"
      }
    },
    {
      "cell_type": "markdown",
      "source": [
        "En pandas usabamos este método:\n",
        "\n",
        "df.shape"
      ],
      "metadata": {
        "id": "LzDTE0xr-NQX"
      }
    },
    {
      "cell_type": "code",
      "source": [
        "print((df.count(), len (df.columns)))"
      ],
      "metadata": {
        "colab": {
          "base_uri": "https://localhost:8080/"
        },
        "id": "-Y1sgPRZ-UQA",
        "outputId": "024b1315-6102-456e-83f3-51b6a267f5a2"
      },
      "execution_count": 9,
      "outputs": [
        {
          "output_type": "stream",
          "name": "stdout",
          "text": [
            "(6256184, 15)\n"
          ]
        }
      ]
    },
    {
      "cell_type": "markdown",
      "source": [
        "Si queremos ver una muestra de los datos con pandas usamos la función:\n",
        "\n",
        "df.head()"
      ],
      "metadata": {
        "id": "AINBFxUeCMoE"
      }
    },
    {
      "cell_type": "markdown",
      "source": [
        "Para ver la misma muestra en Spark usemos la función:"
      ],
      "metadata": {
        "id": "iYB_u-0yChPE"
      }
    },
    {
      "cell_type": "code",
      "source": [
        "df.show(10)"
      ],
      "metadata": {
        "colab": {
          "base_uri": "https://localhost:8080/"
        },
        "id": "OazS40yuCRu4",
        "outputId": "093f3480-97a2-4e71-c870-4940e643b57f"
      },
      "execution_count": 15,
      "outputs": [
        {
          "output_type": "stream",
          "name": "stdout",
          "text": [
            "+------------------+---------------+---------------+------+----------+--------+--------+--------+---------------+---------------+---+--------------------+-----------+------------+--------------------+\n",
            "|             Event|          White|          Black|Result|   UTCDate| UTCTime|WhiteElo|BlackElo|WhiteRatingDiff|BlackRatingDiff|ECO|             Opening|TimeControl| Termination|                  AN|\n",
            "+------------------+---------------+---------------+------+----------+--------+--------+--------+---------------+---------------+---+--------------------+-----------+------------+--------------------+\n",
            "|        Classical |        eisaaaa|       HAMID449|   1-0|2016.06.30|22:00:01|    1901|    1896|           11.0|          -11.0|D10|        Slav Defense|      300+5|Time forfeit|1. d4 d5 2. c4 c6...|\n",
            "|            Blitz |         go4jas|     Sergei1973|   0-1|2016.06.30|22:00:01|    1641|    1627|          -11.0|           12.0|C20|King's Pawn Openi...|      300+0|      Normal|1. e4 e5 2. b3 Nf...|\n",
            "| Blitz tournament |Evangelistaizac|         kafune|   1-0|2016.06.30|22:00:02|    1647|    1688|           13.0|          -13.0|B01|Scandinavian Defe...|      180+0|Time forfeit|1. e4 d5 2. exd5 ...|\n",
            "|   Correspondence |         Jvayne|       Wsjvayne|   1-0|2016.06.30|22:00:02|    1706|    1317|           27.0|          -25.0|A00|Van't Kruijs Opening|          -|      Normal|1. e3 Nf6 2. Bc4 ...|\n",
            "| Blitz tournament |         kyoday|      BrettDale|   0-1|2016.06.30|22:00:02|    1945|    1900|          -14.0|           13.0|B90|Sicilian Defense:...|      180+0|Time forfeit|1. e4 c5 2. Nf3 d...|\n",
            "| Blitz tournament | lucaseixasouza|         diguim|   0-1|2016.06.30|22:00:02|    1773|    1809|          -10.0|           10.0|C27|         Vienna Game|      180+0|      Normal|1. e4 e5 2. Nc3 d...|\n",
            "| Blitz tournament |       RENZZO77|HeadlessChicken|   0-1|2016.06.30|22:00:02|    1895|    1886|          -12.0|           12.0|B10|Caro-Kann Defense...|      180+0|Time forfeit|1. e4 c6 2. Nf3 d...|\n",
            "| Blitz tournament |          ipero|      Bayern123|   1-0|2016.06.30|22:00:02|    2155|    2356|           20.0|          -20.0|D02|Queen's Pawn Game...|      180+0|      Normal|1. d4 d5 2. Nf3 N...|\n",
            "| Blitz tournament |Loginov19510410|        Kereshu|   0-1|2016.06.30|22:00:02|    2010|    2111|           -9.0|            9.0|A45|         Indian Game|      300+0|      Normal|1. d4 Nf6 2. Bf4 ...|\n",
            "| Blitz tournament |     Shambobala|     cernunnoss|   1-0|2016.06.30|22:00:02|    1764|    1773|           12.0|          -12.0|B01|Scandinavian Defe...|      180+0|Time forfeit|1. e4 d5 2. exd5 ...|\n",
            "+------------------+---------------+---------------+------+----------+--------+--------+--------+---------------+---------------+---+--------------------+-----------+------------+--------------------+\n",
            "only showing top 10 rows\n",
            "\n"
          ]
        }
      ]
    },
    {
      "cell_type": "markdown",
      "source": [
        "##### El Esquema de los datos lo vemos en pandas asi:\n",
        "\n",
        "df.info()"
      ],
      "metadata": {
        "id": "2dU3f-R_C2m-"
      }
    },
    {
      "cell_type": "markdown",
      "source": [
        "Ahora si lo vemos en spark hacemos lo siguiente:"
      ],
      "metadata": {
        "id": "R16-OqnhC_iM"
      }
    },
    {
      "cell_type": "code",
      "source": [
        "df.printSchema()"
      ],
      "metadata": {
        "colab": {
          "base_uri": "https://localhost:8080/"
        },
        "id": "aRo7kesnDEcB",
        "outputId": "307dbb6c-0c2d-4945-8d28-625c0d9ab1a8"
      },
      "execution_count": 11,
      "outputs": [
        {
          "output_type": "stream",
          "name": "stdout",
          "text": [
            "root\n",
            " |-- Event: string (nullable = true)\n",
            " |-- White: string (nullable = true)\n",
            " |-- Black: string (nullable = true)\n",
            " |-- Result: string (nullable = true)\n",
            " |-- UTCDate: string (nullable = true)\n",
            " |-- UTCTime: string (nullable = true)\n",
            " |-- WhiteElo: string (nullable = true)\n",
            " |-- BlackElo: string (nullable = true)\n",
            " |-- WhiteRatingDiff: string (nullable = true)\n",
            " |-- BlackRatingDiff: string (nullable = true)\n",
            " |-- ECO: string (nullable = true)\n",
            " |-- Opening: string (nullable = true)\n",
            " |-- TimeControl: string (nullable = true)\n",
            " |-- Termination: string (nullable = true)\n",
            " |-- AN: string (nullable = true)\n",
            "\n"
          ]
        }
      ]
    },
    {
      "cell_type": "markdown",
      "source": [
        "Estadística descriptiva\n",
        "pandas:\n",
        "\n",
        "df.describe()"
      ],
      "metadata": {
        "id": "nuWDMpFQDW8A"
      }
    },
    {
      "cell_type": "code",
      "source": [
        "df.describe().show()"
      ],
      "metadata": {
        "colab": {
          "base_uri": "https://localhost:8080/"
        },
        "id": "SeHo43t9DYgV",
        "outputId": "0bb55770-476d-41ba-b0c2-150fae4ce165"
      },
      "execution_count": 12,
      "outputs": [
        {
          "output_type": "stream",
          "name": "stdout",
          "text": [
            "+-------+--------------------+--------------------+--------------------+-------+----------+--------+------------------+-----------------+------------------+--------------------+-------+--------------------+-----------+------------+--------------------+\n",
            "|summary|               Event|               White|               Black| Result|   UTCDate| UTCTime|          WhiteElo|         BlackElo|   WhiteRatingDiff|     BlackRatingDiff|    ECO|             Opening|TimeControl| Termination|                  AN|\n",
            "+-------+--------------------+--------------------+--------------------+-------+----------+--------+------------------+-----------------+------------------+--------------------+-------+--------------------+-----------+------------+--------------------+\n",
            "|  count|             6256184|             6256184|             6256184|6256184|   6256184| 6256184|           6256184|          6256184|           6251516|             6251516|6256184|             6256184|    6256184|     6256184|             6256184|\n",
            "|   mean|                NULL| 3.782330196990727E9| 3.354604044919762E9|   NULL|      NULL|    NULL|1741.9453049974234|1740.390282638746|0.5802621316173548|-0.36767321718443974|   NULL|                NULL|       NULL|        NULL|                NULL|\n",
            "| stddev|                NULL|5.801731265753314E10|4.802665283683308...|   NULL|      NULL|    NULL| 265.7170528378767|266.8938055381729|22.851855195181912|  21.820123820447357|   NULL|                NULL|       NULL|        NULL|                NULL|\n",
            "|    min|              Blitz |           --o-o-o--|           --o-o-o--|      *|2016.06.30|00:00:00|              1000|             1000|                +2|                  +3|    A00|    Alekhine Defense|          -|   Abandoned|1. Na3 Na6 2. Nh3...|\n",
            "|    max|Classical tournam...|             zzzzzzr|             zzzzzzr|1/2-1/2|2016.07.31|23:59:59|               999|              999|              99.0|                99.0|    E99|Zukertort Opening...|     960+90|Unterminated|1. h4?! { [%eval ...|\n",
            "+-------+--------------------+--------------------+--------------------+-------+----------+--------+------------------+-----------------+------------------+--------------------+-------+--------------------+-----------+------------+--------------------+\n",
            "\n"
          ]
        }
      ]
    },
    {
      "cell_type": "markdown",
      "source": [
        "**Filtrar el dataset**"
      ],
      "metadata": {
        "id": "cXUHg2y1PNP0"
      }
    },
    {
      "cell_type": "code",
      "source": [
        "df.filter(df.Event == \"Classical \").show()"
      ],
      "metadata": {
        "colab": {
          "base_uri": "https://localhost:8080/"
        },
        "id": "PQaiYz1RPTyM",
        "outputId": "46f7ec64-9493-4122-8759-bea1772669d1"
      },
      "execution_count": 21,
      "outputs": [
        {
          "output_type": "stream",
          "name": "stdout",
          "text": [
            "+----------+---------------+----------------+------+----------+--------+--------+--------+---------------+---------------+---+--------------------+-----------+------------+--------------------+\n",
            "|     Event|          White|           Black|Result|   UTCDate| UTCTime|WhiteElo|BlackElo|WhiteRatingDiff|BlackRatingDiff|ECO|             Opening|TimeControl| Termination|                  AN|\n",
            "+----------+---------------+----------------+------+----------+--------+--------+--------+---------------+---------------+---+--------------------+-----------+------------+--------------------+\n",
            "|Classical |          Rokki|     solibalsara|   0-1|2016.07.02|23:16:20|    1868|    2123|           -4.0|            5.0|D08|Queen's Gambit Re...|     780+12|Time forfeit|1. d4 d5 2. c4 e5...|\n",
            "|Classical |  DieAffeninsel|          AtitDJ|   0-1|2016.07.05|11:40:16|    1415|    1610|           -5.0|            6.0|A07|King's Indian Attack|     1200+0|      Normal|1. Nf3 d5 2. g3 N...|\n",
            "|Classical |         Firhad|          h6HuXu|   1-0|2016.07.07|19:40:13|    1740|    1807|           14.0|          -12.0|B01|Scandinavian Defe...|     300+10|      Normal|1. e4 { [%eval 0....|\n",
            "|Classical |    Kaiser-Sose|Throw_In_The_Tal|   1-0|2016.07.10|15:27:44|    1471|    1503|           12.0|          -13.0|C50|        Italian Game|     1800+0|      Normal|1. e4 e5 2. Nf3 N...|\n",
            "|Classical |      asemanabi|        amateurd|   1-0|2016.07.11|23:59:51|    1856|    2105|           18.0|          -19.0|C01|French Defense: E...|      600+0|      Normal|1. d4 d5 2. c4 e5...|\n",
            "|Classical |       Abel4865|       Alabama24|   1-0|2016.07.14|12:24:00|    1695|    1567|            7.0|           -7.0|A00|Hungarian Opening...|      600+2|      Normal|1. g3 e6 2. Bg2 d...|\n",
            "|Classical |playforpleasure|       Moslem555|   1-0|2016.07.23|11:32:05|    1910|    1775|            7.0|           -8.0|D00|   Queen's Pawn Game|      480+0|      Normal|1. d4 d5 2. c3 c5...|\n",
            "+----------+---------------+----------------+------+----------+--------+--------+--------+---------------+---------------+---+--------------------+-----------+------------+--------------------+\n",
            "\n"
          ]
        }
      ]
    },
    {
      "cell_type": "markdown",
      "source": [
        "##### **`Ordenar el dataset`**"
      ],
      "metadata": {
        "id": "_7JQV3f_a5AK"
      }
    },
    {
      "cell_type": "code",
      "source": [
        "df.sort(F.col(\"UTCDate\").desc()).show(10)"
      ],
      "metadata": {
        "colab": {
          "base_uri": "https://localhost:8080/"
        },
        "id": "lV2bt4gFbGGa",
        "outputId": "cb1c0261-454f-4339-aca1-a453959b8f25"
      },
      "execution_count": 13,
      "outputs": [
        {
          "output_type": "stream",
          "name": "stdout",
          "text": [
            "+--------------------+-------------+-------------------+------+----------+--------+--------+--------+---------------+---------------+---+--------------------+-----------+------------+--------------------+\n",
            "|               Event|        White|              Black|Result|   UTCDate| UTCTime|WhiteElo|BlackElo|WhiteRatingDiff|BlackRatingDiff|ECO|             Opening|TimeControl| Termination|                  AN|\n",
            "+--------------------+-------------+-------------------+------+----------+--------+--------+--------+---------------+---------------+---+--------------------+-----------+------------+--------------------+\n",
            "| Classical tourna...|   aeapmestre|Carrascodamadrugada|   1-0|2016.07.31|00:00:03|    2108|    2067|           11.0|          -26.0|A01|Nimzo-Larsen Atta...|      600+0|      Normal|1. b3 d5 2. Bb2 N...|\n",
            "|              Blitz |        jfa41|              NoJob|   0-1|2016.07.31|12:02:13|    1738|    1894|           -7.0|            7.0|D94|Gruenfeld Defense...|      300+3|      Normal|1. d4 Nf6 2. e3 g...|\n",
            "|   Blitz tournament |         Tr3x|          Timothase|   1-0|2016.07.31|00:00:03|    1853|    1911|           24.0|          -13.0|C54|Italian Game: Cla...|      300+0|Time forfeit|1. e4 e5 2. d4 ex...|\n",
            "|          Classical |       Shkipp|          savio1288|   1-0|2016.07.31|12:02:11|    1626|    1367|            4.0|          -13.0|B21|Sicilian Defense:...|      900+0|      Normal|1. e4 { [%eval 0....|\n",
            "| Classical tourna...|Scouting4reds|          Adriano95|   0-1|2016.07.31|00:00:03|    1812|    1862|           -9.0|            9.0|D04|Queen's Pawn Game...|      600+0|      Normal|1. d4 Nf6 2. e3 d...|\n",
            "|          Classical | price_fisher|      andreslbrossi|   1-0|2016.07.31|12:02:14|    1723|    1459|            4.0|           -7.0|C65|Ruy Lopez: Berlin...|      300+8|      Normal|1. e4 e5 2. Nf3 N...|\n",
            "| Classical tourna...|     alexalad|          badcattie|   1-0|2016.07.31|00:00:03|    1580|    1548|           98.0|          -12.0|B50|    Sicilian Defense|      600+0|      Normal|1. e4 c5 2. Nf3 d...|\n",
            "|             Bullet |      pslinus|       chessboy2800|   0-1|2016.07.31|12:02:13|    1676|    1632|          -12.0|           12.0|A40|        Queen's Pawn|       60+0|      Normal|1. d4 a6 2. d5 h6...|\n",
            "|   Blitz tournament |   tranquilin|       dreamingflow|   1-0|2016.07.31|00:00:03|    1772|    1792|           12.0|          -13.0|B00|         King's Pawn|      300+0|   Abandoned|           1. e4 1-0|\n",
            "|   Blitz tournament |        krysu|              lotis|   1-0|2016.07.31|12:02:14|    1931|    1565|            2.0|           -3.0|C00|French Defense: N...|      300+0|      Normal|1. e4 e6 2. d4 c6...|\n",
            "+--------------------+-------------+-------------------+------+----------+--------+--------+--------+---------------+---------------+---+--------------------+-----------+------------+--------------------+\n",
            "only showing top 10 rows\n",
            "\n"
          ]
        }
      ]
    },
    {
      "cell_type": "markdown",
      "source": [
        "**Eliminar una columna:**"
      ],
      "metadata": {
        "id": "O607dBGCvF-b"
      }
    },
    {
      "cell_type": "code",
      "source": [
        "df = df.drop(\"AN\")\n",
        "df.show(10)"
      ],
      "metadata": {
        "colab": {
          "base_uri": "https://localhost:8080/"
        },
        "id": "iyMUghb1vMU7",
        "outputId": "cf90ff40-d3ca-4a1f-a4a0-ce24da9df941"
      },
      "execution_count": 16,
      "outputs": [
        {
          "output_type": "stream",
          "name": "stdout",
          "text": [
            "+------------------+---------------+---------------+------+----------+--------+--------+--------+---------------+---------------+---+--------------------+-----------+------------+\n",
            "|             Event|          White|          Black|Result|   UTCDate| UTCTime|WhiteElo|BlackElo|WhiteRatingDiff|BlackRatingDiff|ECO|             Opening|TimeControl| Termination|\n",
            "+------------------+---------------+---------------+------+----------+--------+--------+--------+---------------+---------------+---+--------------------+-----------+------------+\n",
            "|        Classical |        eisaaaa|       HAMID449|   1-0|2016.06.30|22:00:01|    1901|    1896|           11.0|          -11.0|D10|        Slav Defense|      300+5|Time forfeit|\n",
            "|            Blitz |         go4jas|     Sergei1973|   0-1|2016.06.30|22:00:01|    1641|    1627|          -11.0|           12.0|C20|King's Pawn Openi...|      300+0|      Normal|\n",
            "| Blitz tournament |Evangelistaizac|         kafune|   1-0|2016.06.30|22:00:02|    1647|    1688|           13.0|          -13.0|B01|Scandinavian Defe...|      180+0|Time forfeit|\n",
            "|   Correspondence |         Jvayne|       Wsjvayne|   1-0|2016.06.30|22:00:02|    1706|    1317|           27.0|          -25.0|A00|Van't Kruijs Opening|          -|      Normal|\n",
            "| Blitz tournament |         kyoday|      BrettDale|   0-1|2016.06.30|22:00:02|    1945|    1900|          -14.0|           13.0|B90|Sicilian Defense:...|      180+0|Time forfeit|\n",
            "| Blitz tournament | lucaseixasouza|         diguim|   0-1|2016.06.30|22:00:02|    1773|    1809|          -10.0|           10.0|C27|         Vienna Game|      180+0|      Normal|\n",
            "| Blitz tournament |       RENZZO77|HeadlessChicken|   0-1|2016.06.30|22:00:02|    1895|    1886|          -12.0|           12.0|B10|Caro-Kann Defense...|      180+0|Time forfeit|\n",
            "| Blitz tournament |          ipero|      Bayern123|   1-0|2016.06.30|22:00:02|    2155|    2356|           20.0|          -20.0|D02|Queen's Pawn Game...|      180+0|      Normal|\n",
            "| Blitz tournament |Loginov19510410|        Kereshu|   0-1|2016.06.30|22:00:02|    2010|    2111|           -9.0|            9.0|A45|         Indian Game|      300+0|      Normal|\n",
            "| Blitz tournament |     Shambobala|     cernunnoss|   1-0|2016.06.30|22:00:02|    1764|    1773|           12.0|          -12.0|B01|Scandinavian Defe...|      180+0|Time forfeit|\n",
            "+------------------+---------------+---------------+------+----------+--------+--------+--------+---------------+---------------+---+--------------------+-----------+------------+\n",
            "only showing top 10 rows\n",
            "\n"
          ]
        }
      ]
    },
    {
      "cell_type": "markdown",
      "source": [
        "**Eliminemos los datos nulos:**"
      ],
      "metadata": {
        "id": "sROq1VVr9AEM"
      }
    },
    {
      "cell_type": "code",
      "source": [
        "df = df.na.drop()\n",
        "df.show()"
      ],
      "metadata": {
        "colab": {
          "base_uri": "https://localhost:8080/"
        },
        "id": "4GhBLpor8t6S",
        "outputId": "68d9447e-2cc9-442c-8626-95b99d793827"
      },
      "execution_count": 17,
      "outputs": [
        {
          "output_type": "stream",
          "name": "stdout",
          "text": [
            "+------------------+---------------+---------------+------+----------+--------+--------+--------+---------------+---------------+---+--------------------+-----------+------------+\n",
            "|             Event|          White|          Black|Result|   UTCDate| UTCTime|WhiteElo|BlackElo|WhiteRatingDiff|BlackRatingDiff|ECO|             Opening|TimeControl| Termination|\n",
            "+------------------+---------------+---------------+------+----------+--------+--------+--------+---------------+---------------+---+--------------------+-----------+------------+\n",
            "|        Classical |        eisaaaa|       HAMID449|   1-0|2016.06.30|22:00:01|    1901|    1896|           11.0|          -11.0|D10|        Slav Defense|      300+5|Time forfeit|\n",
            "|            Blitz |         go4jas|     Sergei1973|   0-1|2016.06.30|22:00:01|    1641|    1627|          -11.0|           12.0|C20|King's Pawn Openi...|      300+0|      Normal|\n",
            "| Blitz tournament |Evangelistaizac|         kafune|   1-0|2016.06.30|22:00:02|    1647|    1688|           13.0|          -13.0|B01|Scandinavian Defe...|      180+0|Time forfeit|\n",
            "|   Correspondence |         Jvayne|       Wsjvayne|   1-0|2016.06.30|22:00:02|    1706|    1317|           27.0|          -25.0|A00|Van't Kruijs Opening|          -|      Normal|\n",
            "| Blitz tournament |         kyoday|      BrettDale|   0-1|2016.06.30|22:00:02|    1945|    1900|          -14.0|           13.0|B90|Sicilian Defense:...|      180+0|Time forfeit|\n",
            "| Blitz tournament | lucaseixasouza|         diguim|   0-1|2016.06.30|22:00:02|    1773|    1809|          -10.0|           10.0|C27|         Vienna Game|      180+0|      Normal|\n",
            "| Blitz tournament |       RENZZO77|HeadlessChicken|   0-1|2016.06.30|22:00:02|    1895|    1886|          -12.0|           12.0|B10|Caro-Kann Defense...|      180+0|Time forfeit|\n",
            "| Blitz tournament |          ipero|      Bayern123|   1-0|2016.06.30|22:00:02|    2155|    2356|           20.0|          -20.0|D02|Queen's Pawn Game...|      180+0|      Normal|\n",
            "| Blitz tournament |Loginov19510410|        Kereshu|   0-1|2016.06.30|22:00:02|    2010|    2111|           -9.0|            9.0|A45|         Indian Game|      300+0|      Normal|\n",
            "| Blitz tournament |     Shambobala|     cernunnoss|   1-0|2016.06.30|22:00:02|    1764|    1773|           12.0|          -12.0|B01|Scandinavian Defe...|      180+0|Time forfeit|\n",
            "|        Classical |        DARDELU|   chess4life54|   0-1|2016.06.30|22:00:01|    1649|    1638|          -13.0|           11.0|C57|Italian Game: Two...|      900+3|      Normal|\n",
            "|        Classical |        fabikim|         sereno|   1-0|2016.06.30|22:00:02|    1630|    1500|            7.0|           -7.0|C41| Philidor Defense #3|      420+5|      Normal|\n",
            "| Blitz tournament |      IZDenisZI|         BoBo93|   1-0|2016.06.30|22:00:02|    1833|    1837|           11.0|          -12.0|C36|King's Gambit Acc...|      300+0|      Normal|\n",
            "| Blitz tournament |     lasha-fero| ildivinojohnny|   1-0|2016.06.30|22:00:02|    2020|    1979|           10.0|          -11.0|A00|      Polish Opening|      180+0|Time forfeit|\n",
            "| Blitz tournament |       arkadyNa|     sofianet06|   0-1|2016.06.30|22:00:02|    1581|    1616|          -12.0|           11.0|B01|Scandinavian Defe...|      180+0|Time forfeit|\n",
            "| Blitz tournament |    mayconchess|        trend19|   0-1|2016.06.30|22:00:02|    1879|    1868|          -13.0|           12.0|B01|Scandinavian Defe...|      180+0|      Normal|\n",
            "| Blitz tournament |         lj1983|        plmnnnn|   1-0|2016.06.30|22:00:02|    1963|    1979|           12.0|          -13.0|B10|Caro-Kann Defense...|      180+0|      Normal|\n",
            "| Blitz tournament |         Inorem|       leymoral|   1-0|2016.06.30|22:00:02|    1751|    1712|           10.0|          -10.0|C62|Ruy Lopez: Steini...|      180+0|      Normal|\n",
            "| Blitz tournament |     Torres2300| Trabelsi-Wajdi|   0-1|2016.06.30|22:00:02|    1795|    1800|          -14.0|           11.0|B32|Sicilian Defense:...|      300+0|      Normal|\n",
            "| Blitz tournament |         Igor76|          dancg|   1-0|2016.06.30|22:00:02|    1913|    1925|           11.0|          -13.0|B12|Caro-Kann Defense...|      300+0|      Normal|\n",
            "+------------------+---------------+---------------+------+----------+--------+--------+--------+---------------+---------------+---+--------------------+-----------+------------+\n",
            "only showing top 20 rows\n",
            "\n"
          ]
        }
      ]
    },
    {
      "cell_type": "code",
      "source": [],
      "metadata": {
        "id": "mfxhjnsoB5kB"
      },
      "execution_count": null,
      "outputs": []
    },
    {
      "cell_type": "markdown",
      "source": [],
      "metadata": {
        "id": "FRS-zxDsBn2o"
      }
    },
    {
      "cell_type": "markdown",
      "source": [
        "**Agrupar los datos:**"
      ],
      "metadata": {
        "id": "E8LcGNBj_-hg"
      }
    },
    {
      "cell_type": "code",
      "source": [
        "df_group = df.groupBy('Event').count()\n",
        "df_group.show()"
      ],
      "metadata": {
        "colab": {
          "base_uri": "https://localhost:8080/"
        },
        "id": "rtMrhlhIAP0i",
        "outputId": "9fb4db6e-f7d7-4f28-af13-5e2292f5e3b4"
      },
      "execution_count": 18,
      "outputs": [
        {
          "output_type": "stream",
          "name": "stdout",
          "text": [
            "+--------------------+-------+\n",
            "|               Event|  count|\n",
            "+--------------------+-------+\n",
            "|          Classical |1509068|\n",
            "|  Bullet tournament | 546617|\n",
            "|   Blitz tournament | 472071|\n",
            "| Classical tourna...| 165506|\n",
            "|             Bullet |1197654|\n",
            "|             Bullet |      2|\n",
            "|     Correspondence |  22211|\n",
            "|              Blitz |2338364|\n",
            "|          Classical |      7|\n",
            "|              Blitz |     12|\n",
            "|   Blitz tournament |      1|\n",
            "|  Bullet tournament |      2|\n",
            "|Classical tournam...|      1|\n",
            "+--------------------+-------+\n",
            "\n"
          ]
        }
      ]
    },
    {
      "cell_type": "markdown",
      "source": [
        "**Renombrar una columna:**"
      ],
      "metadata": {
        "id": "Qa01r0g_BZk8"
      }
    },
    {
      "cell_type": "code",
      "source": [
        "df = df.withColumnRenamed(\"Opening\", \"Opening Type\")"
      ],
      "metadata": {
        "id": "O_DZgSRHBcPD"
      },
      "execution_count": 19,
      "outputs": []
    },
    {
      "cell_type": "code",
      "source": [
        "df.show(3)"
      ],
      "metadata": {
        "colab": {
          "base_uri": "https://localhost:8080/"
        },
        "id": "-YrpDgRKBiDh",
        "outputId": "e8814f9b-7a9a-48a5-b4b9-cf1bd39746a4"
      },
      "execution_count": 20,
      "outputs": [
        {
          "output_type": "stream",
          "name": "stdout",
          "text": [
            "+------------------+---------------+----------+------+----------+--------+--------+--------+---------------+---------------+---+--------------------+-----------+------------+\n",
            "|             Event|          White|     Black|Result|   UTCDate| UTCTime|WhiteElo|BlackElo|WhiteRatingDiff|BlackRatingDiff|ECO|        Opening Type|TimeControl| Termination|\n",
            "+------------------+---------------+----------+------+----------+--------+--------+--------+---------------+---------------+---+--------------------+-----------+------------+\n",
            "|        Classical |        eisaaaa|  HAMID449|   1-0|2016.06.30|22:00:01|    1901|    1896|           11.0|          -11.0|D10|        Slav Defense|      300+5|Time forfeit|\n",
            "|            Blitz |         go4jas|Sergei1973|   0-1|2016.06.30|22:00:01|    1641|    1627|          -11.0|           12.0|C20|King's Pawn Openi...|      300+0|      Normal|\n",
            "| Blitz tournament |Evangelistaizac|    kafune|   1-0|2016.06.30|22:00:02|    1647|    1688|           13.0|          -13.0|B01|Scandinavian Defe...|      180+0|Time forfeit|\n",
            "+------------------+---------------+----------+------+----------+--------+--------+--------+---------------+---------------+---+--------------------+-----------+------------+\n",
            "only showing top 3 rows\n",
            "\n"
          ]
        }
      ]
    },
    {
      "cell_type": "code",
      "source": [
        "from pyspark.sql import functions as F  # Assuming you've imported it earlier\n",
        "\n",
        "df.groupBy(\"Event\").agg(\n",
        "    F.count(\"WhiteElo\").alias(\"count\"),\n",
        "    F.sum(\"WhiteElo\").alias(\"sum\"),\n",
        "    F.max(\"WhiteElo\").alias(\"max\"),\n",
        "    F.min(\"WhiteElo\").alias(\"min\"),\n",
        "    F.avg(\"WhiteElo\").alias(\"avg\")\n",
        ").show(10)"
      ],
      "metadata": {
        "colab": {
          "base_uri": "https://localhost:8080/"
        },
        "id": "CA7dg7XwB7H3",
        "outputId": "73e5b817-9499-4aff-9768-07e860fcaf38"
      },
      "execution_count": 21,
      "outputs": [
        {
          "output_type": "stream",
          "name": "stdout",
          "text": [
            "+--------------------+-------+-------------+----+----+------------------+\n",
            "|               Event|  count|          sum| max| min|               avg|\n",
            "+--------------------+-------+-------------+----+----+------------------+\n",
            "|              Blitz |2338364|4.035988081E9| 999|1000|1725.9879475564967|\n",
            "|   Blitz tournament | 472071| 8.50283189E8| 999|1000|1801.1764946374592|\n",
            "|             Bullet |1197654|2.112519592E9| 999|1000| 1763.881381434037|\n",
            "|  Bullet tournament | 546617|1.013198446E9| 999|1000|1853.5801960056126|\n",
            "|          Classical |1509068|2.545148201E9| 999|1000|1686.5695919600707|\n",
            "| Classical tourna...| 165506|   2.959576E8| 995|1000| 1788.198615155946|\n",
            "|     Correspondence |  22211|  3.6530627E7|2510|1011| 1644.708792940435|\n",
            "|              Blitz |     12|      19904.0|2171|1391|1658.6666666666667|\n",
            "|   Blitz tournament |      1|       1939.0|1939|1939|            1939.0|\n",
            "|             Bullet |      2|       4277.0|2589|1688|            2138.5|\n",
            "+--------------------+-------+-------------+----+----+------------------+\n",
            "only showing top 10 rows\n",
            "\n"
          ]
        }
      ]
    }
  ]
}