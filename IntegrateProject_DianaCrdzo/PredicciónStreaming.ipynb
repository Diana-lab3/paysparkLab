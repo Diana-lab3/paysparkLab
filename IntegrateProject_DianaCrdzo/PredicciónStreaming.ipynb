{
 "cells": [
  {
   "cell_type": "markdown",
   "id": "9bfc7eb4-26cb-4f18-8a0d-24716227efe1",
   "metadata": {},
   "source": [
    "# **Predicciones en  Streaming con Spark**"
   ]
  },
  {
   "cell_type": "markdown",
   "id": "2c376911-306c-41e8-891d-e009a7a0294d",
   "metadata": {},
   "source": [
    "En este notebook se carga un pipeline que tiene un conjunto de fases de pre-procesamiento y un modelo de clasificacion que pretende predecir la probabilidad de un paciente de sufrir un ataque al corazón. La predicción se realizará sobre datos en streaming optenidos a partir de la BD de heart en Kaggle"
   ]
  },
  {
   "cell_type": "code",
   "execution_count": 3,
   "id": "fbcee898-3aba-49df-8616-3297034ae422",
   "metadata": {},
   "outputs": [],
   "source": [
    "import findspark\n",
    "findspark.init()"
   ]
  },
  {
   "cell_type": "code",
   "execution_count": 4,
   "id": "67085abb-2b24-462a-912e-76e94eba806e",
   "metadata": {},
   "outputs": [],
   "source": [
    "# trbajaremos con algunas herramietas disponibles en MLib\n",
    "from pyspark.ml.feature import OneHotEncoder   #transformar a datos categóricos\n",
    "from pyspark.ml.feature import MinMaxScaler    #Escala las características numéricas en un rango específico (por defecto entre 0 y 1)\n",
    "from pyspark.ml.feature import StringIndexer   #Convierte columnas categóricas en índices numéricos (enteros)\n",
    "from pyspark.ml.feature import VectorAssembler #Combinar múltiples columnas en un único vector\n",
    "from pyspark.ml.feature import OneHotEncoder   #transforma una columna con categorías en múltiples columnas binarias (0 o 1), donde cada columna representa una categoría única(datos categóricos)\n",
    "from pyspark.ml.classification import LogisticRegression  #Implementar el modelo de regresión logística para problemas de clasificación binaria o multiclase.\n",
    "from pyspark.sql.types import *               #Proporciona tipos de datos explícitos para definir los esquemas de las columnas de un DataFrame en PySpark"
   ]
  },
  {
   "cell_type": "code",
   "execution_count": 5,
   "id": "ee7f33f4-43b7-4633-8b7e-7316f049938f",
   "metadata": {},
   "outputs": [],
   "source": [
    "## Iniciar una sesion de Spark\n",
    "\n",
    "from pyspark.sql import SparkSession\n",
    "\n",
    "spark = SparkSession.builder.appName('UCI Heart disease').getOrCreate()"
   ]
  },
  {
   "cell_type": "code",
   "execution_count": 6,
   "id": "09db21f7-c342-4a30-a5ee-41cb2f249182",
   "metadata": {},
   "outputs": [
    {
     "name": "stdout",
     "output_type": "stream",
     "text": [
      "+---+---+---+--------+----+---+-------+-------+-----+-------+-----+---+----+------+\n",
      "|age|sex| cp|trestbps|chol|fbs|restecg|thalach|exang|oldpeak|slope| ca|thal|target|\n",
      "+---+---+---+--------+----+---+-------+-------+-----+-------+-----+---+----+------+\n",
      "| 63|  1|  3|     145| 233|  1|      0|    150|    0|    2.3|    0|  0|   1|     1|\n",
      "| 37|  1|  2|     130| 250|  0|      1|    187|    0|    3.5|    0|  0|   2|     1|\n",
      "| 41|  0|  1|     130| 204|  0|      0|    172|    0|    1.4|    2|  0|   2|     1|\n",
      "| 56|  1|  1|     120| 236|  0|      1|    178|    0|    0.8|    2|  0|   2|     1|\n",
      "| 57|  0|  0|     120| 354|  0|      1|    163|    1|    0.6|    2|  0|   2|     1|\n",
      "+---+---+---+--------+----+---+-------+-------+-----+-------+-----+---+----+------+\n",
      "only showing top 5 rows\n",
      "\n"
     ]
    }
   ],
   "source": [
    "## Cargar y visualizar el csv de Ejercicios\\data\\heart.csv con el nombre de heart\n",
    "heart = spark.read.csv('C:/data/heart.csv', \n",
    "                       inferSchema = True, \n",
    "                       header = True)\n",
    "heart.show(5)"
   ]
  },
  {
   "cell_type": "code",
   "execution_count": 7,
   "id": "053b182e-77b2-4998-bed4-6e5cbaab01dd",
   "metadata": {},
   "outputs": [],
   "source": [
    "##Definamos el schema\n",
    "schema = StructType( \\\n",
    "                     [StructField(\"age\", LongType(),True), \\\n",
    "                      StructField(\"sex\", LongType(), True), \\\n",
    "                      StructField(\"cp\", LongType(), True), \\\n",
    "                      StructField('trestbps', LongType(), True), \\\n",
    "                      StructField(\"chol\", LongType(), True), \\\n",
    "                      StructField(\"fbs\", LongType(), True), \\\n",
    "                      StructField(\"restecg\", LongType(), True), \\\n",
    "                      StructField(\"thalach\", LongType(), True),\\\n",
    "                      StructField(\"exang\", LongType(), True), \\\n",
    "                      StructField(\"oldpeak\", DoubleType(), True), \\\n",
    "                      StructField(\"slope\", LongType(),True), \\\n",
    "                      StructField(\"ca\", LongType(), True), \\\n",
    "                      StructField(\"thal\", LongType(), True), \\\n",
    "                      StructField(\"target\", LongType(), True), \\\n",
    "                        ])"
   ]
  },
  {
   "cell_type": "markdown",
   "id": "b786b46f-a435-4ebf-83f8-3764b94f8de4",
   "metadata": {},
   "source": [
    "# **PipeLine**\n",
    "En este caso el pipeline proporciona una forma de organizar y encadenar múltiples etapas del procesamiento y modelado de los datos en un flujo de trabajo secuencial.\n",
    "Etapas de ejemplo: transformación de datos, entrenamiento de modelo, escalamiento."
   ]
  },
  {
   "cell_type": "code",
   "execution_count": 8,
   "id": "45c4b65d-329a-4b7a-bf39-25815ea9732d",
   "metadata": {},
   "outputs": [
    {
     "name": "stdout",
     "output_type": "stream",
     "text": [
      "root\n",
      " |-- age: integer (nullable = true)\n",
      " |-- sex: integer (nullable = true)\n",
      " |-- cp: integer (nullable = true)\n",
      " |-- trestbps: integer (nullable = true)\n",
      " |-- chol: integer (nullable = true)\n",
      " |-- fbs: integer (nullable = true)\n",
      " |-- restecg: integer (nullable = true)\n",
      " |-- thalach: integer (nullable = true)\n",
      " |-- exang: integer (nullable = true)\n",
      " |-- oldpeak: double (nullable = true)\n",
      " |-- slope: integer (nullable = true)\n",
      " |-- ca: integer (nullable = true)\n",
      " |-- thal: integer (nullable = true)\n",
      " |-- label: integer (nullable = true)\n",
      "\n"
     ]
    }
   ],
   "source": [
    "from pyspark.ml import Pipeline\n",
    "from pyspark.sql.types import (\n",
    "    StructType,  # Para definir estructura de datos\n",
    "    StructField,  # Para definir campos en la estructura\n",
    "    LongType,     # Tipo de dato entero largo\n",
    "    StringType,   # Tipo de dato cadena de texto\n",
    "    DoubleType,   # Tipo de dato decimal de doble precisión\n",
    "    TimestampType # Tipo de dato para marcas de tiempo\n",
    ")\n",
    "\n",
    "df = heart.withColumnRenamed(\"target\",\"label\")\n",
    "df.printSchema()"
   ]
  },
  {
   "cell_type": "code",
   "execution_count": 9,
   "id": "c33092f4-3ff4-45e6-a882-e85e59e0dfee",
   "metadata": {},
   "outputs": [],
   "source": [
    "##Dividir el dataframe en dos subconjuntos\n",
    "testDF, trainDF = df.randomSplit([0.3, 0.7])"
   ]
  },
  {
   "cell_type": "code",
   "execution_count": 10,
   "id": "51153153-5ce9-4a2e-bde7-e0d86e108302",
   "metadata": {},
   "outputs": [
    {
     "name": "stdout",
     "output_type": "stream",
     "text": [
      "Registros en conjunto de entrenamiento: 213\n",
      "Registros en conjunto de prueba: 90\n"
     ]
    }
   ],
   "source": [
    "# Verificar que los DataFrames se hayan creado\n",
    "print(f\"Registros en conjunto de entrenamiento: {trainDF.count()}\")\n",
    "print(f\"Registros en conjunto de prueba: {testDF.count()}\")\n"
   ]
  },
  {
   "cell_type": "markdown",
   "id": "65132abc-88be-4d5e-9955-13f04beecedb",
   "metadata": {},
   "source": [
    "# **Cargar Pipeline**"
   ]
  },
  {
   "cell_type": "code",
   "execution_count": 11,
   "id": "4c2ea595-22a6-47e9-bfcc-32fc58dcce53",
   "metadata": {},
   "outputs": [
    {
     "name": "stdout",
     "output_type": "stream",
     "text": [
      "True\n"
     ]
    }
   ],
   "source": [
    "import os\n",
    "print(os.path.exists(\"C:/Ejercicios/pipelines\"))\n"
   ]
  },
  {
   "cell_type": "code",
   "execution_count": 12,
   "id": "1c68a1ea-a5d2-4e69-89f9-e2f29d5cce75",
   "metadata": {},
   "outputs": [],
   "source": [
    "from pyspark.ml import Pipeline\n",
    "\n",
    "# Configurar el pipeline (ejemplo)\n",
    "vector_assembler = VectorAssembler(\n",
    "    inputCols=['age', 'sex', 'cp', 'trestbps', 'chol', 'thalach', 'oldpeak'],\n",
    "    outputCol=\"features\"\n",
    ")\n",
    "scaler = MinMaxScaler(inputCol=\"features\", outputCol=\"scaled_features\")\n",
    "logistic_regression = LogisticRegression(featuresCol=\"scaled_features\", labelCol=\"label\")\n",
    "\n",
    "pipeline = Pipeline(stages=[vector_assembler, scaler, logistic_regression])\n",
    "model = pipeline.fit(trainDF)  # Ajustar el modelo\n",
    "\n",
    "# Guardar el modelo\n",
    "model.write().overwrite().save(\"C:/Ejercicios/pipelines\")\n"
   ]
  },
  {
   "cell_type": "markdown",
   "id": "65aa89cd-73f9-4d50-a5d3-82bf9d535013",
   "metadata": {},
   "source": [
    "Tomaremos estas variables para predecir el riesgo de infarto. Las variables seleccionadas, se consideró están directamente relacionadas con factores de riesgo cardiovascular. Vamos a desglosar por qué son importantes:\n",
    "\n",
    "* age: A mayor edad, mayor riesgo de infarto.\n",
    "* sex: Hombres y mujeres tienen diferentes perfiles de riesgo cardíaco.\n",
    "* cp(tipo de dolor en el pecho): El tipo de dolor torácico es un indicador clave.\n",
    "* trestbps: La presión arterial alta es un factor de riesgo significativo.\n",
    "* chol: Los niveles altos de colesterol aumentan el riesgo de obstrucción arterial.\n",
    "* thalach: La frecuencia cardíaca máxima puede indicar problemas cardíacos.\n",
    "* oldpeak: Depresión del segmento ST, un marcador de isquemia cardíaca."
   ]
  },
  {
   "cell_type": "code",
   "execution_count": 13,
   "id": "4e0f1c9c-0920-42e0-b07c-235a591fd428",
   "metadata": {},
   "outputs": [],
   "source": [
    "from pyspark.ml import PipelineModel\n",
    "\n",
    "\n",
    "pModel = PipelineModel.load(\"C:/Ejercicios/pipelines\")"
   ]
  },
  {
   "cell_type": "code",
   "execution_count": 14,
   "id": "cd1291e0-8424-4c3f-a7e0-f78f9775ceaa",
   "metadata": {},
   "outputs": [
    {
     "name": "stdout",
     "output_type": "stream",
     "text": [
      "root\n",
      " |-- age: integer (nullable = true)\n",
      " |-- sex: integer (nullable = true)\n",
      " |-- cp: integer (nullable = true)\n",
      " |-- trestbps: integer (nullable = true)\n",
      " |-- chol: integer (nullable = true)\n",
      " |-- fbs: integer (nullable = true)\n",
      " |-- restecg: integer (nullable = true)\n",
      " |-- thalach: integer (nullable = true)\n",
      " |-- exang: integer (nullable = true)\n",
      " |-- oldpeak: double (nullable = true)\n",
      " |-- slope: integer (nullable = true)\n",
      " |-- ca: integer (nullable = true)\n",
      " |-- thal: integer (nullable = true)\n",
      " |-- label: integer (nullable = true)\n",
      "\n"
     ]
    }
   ],
   "source": [
    "trainDF.printSchema()"
   ]
  },
  {
   "cell_type": "code",
   "execution_count": 15,
   "id": "6d8d6680-09d7-4981-af34-6b4e23db31af",
   "metadata": {},
   "outputs": [],
   "source": [
    "# We transform the data.\n",
    "trainingPred = pModel.transform(trainDF)"
   ]
  },
  {
   "cell_type": "code",
   "execution_count": 16,
   "id": "34549a5f-b33d-4ff6-86a4-48c47b4db7c7",
   "metadata": {},
   "outputs": [
    {
     "name": "stdout",
     "output_type": "stream",
     "text": [
      "+-----+--------------------+----------+\n",
      "|label|         probability|prediction|\n",
      "+-----+--------------------+----------+\n",
      "|    1|[0.01228453629417...|       1.0|\n",
      "|    1|[0.13827458951468...|       1.0|\n",
      "|    0|[0.87963049464408...|       0.0|\n",
      "|    0|[0.61285359449726...|       0.0|\n",
      "|    1|[0.12087201080686...|       1.0|\n",
      "|    1|[0.32896328319477...|       1.0|\n",
      "|    1|[0.06124965650513...|       1.0|\n",
      "|    1|[0.00271167137436...|       1.0|\n",
      "|    1|[0.02715076132558...|       1.0|\n",
      "|    0|[0.45476169167131...|       1.0|\n",
      "|    1|[0.05199769275755...|       1.0|\n",
      "|    1|[0.06146500217487...|       1.0|\n",
      "|    1|[0.06953707792234...|       1.0|\n",
      "|    1|[0.00836988363552...|       1.0|\n",
      "|    0|[0.35616968735951...|       1.0|\n",
      "|    1|[0.03901256328229...|       1.0|\n",
      "|    1|[0.40949511848392...|       1.0|\n",
      "|    1|[0.00718835308692...|       1.0|\n",
      "|    1|[0.28108397526770...|       1.0|\n",
      "|    1|[0.04264204993525...|       1.0|\n",
      "+-----+--------------------+----------+\n",
      "only showing top 20 rows\n",
      "\n"
     ]
    }
   ],
   "source": [
    "# # We select the actual label, probability and predictions\n",
    "trainingPred.select('label', 'probability', 'prediction').show()"
   ]
  },
  {
   "cell_type": "code",
   "execution_count": 20,
   "id": "091e61f8-8f7f-4959-a8f4-e48c51427544",
   "metadata": {},
   "outputs": [],
   "source": [
    "testData = testDF.repartition(10)\n",
    "testData\n",
    "\n",
    "#Create a directory\n",
    "testData.write.format(\"CSV\").option(\"header\",False).save(\"C:/Ejercicios/heart_streaming\", mode=\"overwrite\")"
   ]
  },
  {
   "cell_type": "markdown",
   "id": "b40b2b06-6089-4ebe-8161-3a07031aab11",
   "metadata": {},
   "source": [
    "# **Predicciones en Streaming**"
   ]
  },
  {
   "cell_type": "code",
   "execution_count": 22,
   "id": "628975d7-4ce4-4455-899d-7daa094881d4",
   "metadata": {},
   "outputs": [],
   "source": [
    "sourceStream = (\n",
    "    spark.readStream.schema(schema)\n",
    "    .option(\"maxFilesPerTrigger\", 1)\n",
    "    .csv(\"C:/Ejercicios/heart_streaming\")\n",
    "    .withColumnRenamed(\"output\",\"label\")\n",
    ")"
   ]
  },
  {
   "cell_type": "code",
   "execution_count": 24,
   "id": "90139193-91be-456e-a009-867771f5a0dd",
   "metadata": {},
   "outputs": [
    {
     "name": "stdout",
     "output_type": "stream",
     "text": [
      "root\n",
      " |-- age: long (nullable = true)\n",
      " |-- sex: long (nullable = true)\n",
      " |-- cp: long (nullable = true)\n",
      " |-- trestbps: long (nullable = true)\n",
      " |-- chol: long (nullable = true)\n",
      " |-- fbs: long (nullable = true)\n",
      " |-- restecg: long (nullable = true)\n",
      " |-- thalach: long (nullable = true)\n",
      " |-- exang: long (nullable = true)\n",
      " |-- oldpeak: double (nullable = true)\n",
      " |-- slope: long (nullable = true)\n",
      " |-- ca: long (nullable = true)\n",
      " |-- thal: long (nullable = true)\n",
      " |-- target: long (nullable = true)\n",
      "\n"
     ]
    }
   ],
   "source": [
    "sourceStream.printSchema()"
   ]
  },
  {
   "cell_type": "code",
   "execution_count": 26,
   "id": "c5a4a293-fbb0-4b41-96b8-d35409a9758f",
   "metadata": {},
   "outputs": [
    {
     "name": "stdout",
     "output_type": "stream",
     "text": [
      "root\n",
      " |-- age: long (nullable = true)\n",
      " |-- sex: long (nullable = true)\n",
      " |-- cp: long (nullable = true)\n",
      " |-- trestbps: long (nullable = true)\n",
      " |-- chol: long (nullable = true)\n",
      " |-- fbs: long (nullable = true)\n",
      " |-- restecg: long (nullable = true)\n",
      " |-- thalach: long (nullable = true)\n",
      " |-- exang: long (nullable = true)\n",
      " |-- oldpeak: double (nullable = true)\n",
      " |-- slope: long (nullable = true)\n",
      " |-- ca: long (nullable = true)\n",
      " |-- thal: long (nullable = true)\n",
      " |-- label: long (nullable = true)\n",
      "\n"
     ]
    }
   ],
   "source": [
    "sourceStream = sourceStream.withColumnRenamed(\"target\", \"label\")\n",
    "sourceStream.printSchema()"
   ]
  },
  {
   "cell_type": "code",
   "execution_count": 27,
   "id": "16ed61fd-de44-438f-a4c9-51dd87265b1f",
   "metadata": {},
   "outputs": [],
   "source": [
    "sourceStream = sourceStream.select('age', 'sex', 'cp', 'trestbps', 'chol', 'thalach', 'oldpeak', 'label')"
   ]
  },
  {
   "cell_type": "code",
   "execution_count": 28,
   "id": "7e5a0ea1-f6e8-4e8f-813e-4ce9eb27fc98",
   "metadata": {},
   "outputs": [],
   "source": [
    "prediction1 = pModel.transform(sourceStream).select('label',\n",
    "                                                   'probability',\n",
    "                                                   'prediction')"
   ]
  },
  {
   "cell_type": "code",
   "execution_count": 29,
   "id": "ad55a710-3022-4b07-94d3-d3105c610dff",
   "metadata": {},
   "outputs": [
    {
     "data": {
      "text/plain": [
       "DataFrame[label: bigint, probability: vector, prediction: double]"
      ]
     },
     "metadata": {},
     "output_type": "display_data"
    }
   ],
   "source": [
    "display(prediction1)"
   ]
  },
  {
   "cell_type": "markdown",
   "id": "cf3db424-89d3-42f7-90da-d020b6c15e8b",
   "metadata": {},
   "source": [
    "#### **Guardar una presentación en consola**"
   ]
  },
  {
   "cell_type": "code",
   "execution_count": 30,
   "id": "1ffe0262-f345-46a2-b3f2-552e28b90d9d",
   "metadata": {},
   "outputs": [],
   "source": [
    "query1 = prediction1.writeStream.queryName(\"prediction1\") \\\n",
    "            .format(\"console\")\\\n",
    "            .trigger(once=True)\\\n",
    "            .start()\\\n",
    "            .awaitTermination()"
   ]
  },
  {
   "cell_type": "markdown",
   "id": "f92f1b30-1c0a-426b-9ac4-590d1e91f8fa",
   "metadata": {},
   "source": [
    "#### **Guardar predicciones en memoria**"
   ]
  },
  {
   "cell_type": "code",
   "execution_count": 31,
   "id": "e3cc7da0-1f74-40d2-ab37-60981d77b8d3",
   "metadata": {},
   "outputs": [],
   "source": [
    "query2 = (\n",
    "            prediction1.writeStream.queryName(\"prediction4\") \n",
    "            .format(\"memory\")\n",
    "            .outputMode(\"append\")\n",
    "            .start())"
   ]
  },
  {
   "cell_type": "code",
   "execution_count": 32,
   "id": "41c61e9d-282a-452d-a08d-34f3313debed",
   "metadata": {},
   "outputs": [
    {
     "name": "stdout",
     "output_type": "stream",
     "text": [
      "+-----+--------------------+----------+\n",
      "|label|         probability|prediction|\n",
      "+-----+--------------------+----------+\n",
      "|    0|[0.92537591395097...|       0.0|\n",
      "|    0|[0.98779349779824...|       0.0|\n",
      "|    1|[0.09647543479485...|       1.0|\n",
      "|    1|[0.01478802363210...|       1.0|\n",
      "|    1|[0.08133834893628...|       1.0|\n",
      "|    1|[0.07263885386861...|       1.0|\n",
      "|    0|[0.42416996683704...|       1.0|\n",
      "|    0|[0.26581956847365...|       1.0|\n",
      "|    1|[0.26147699042864...|       1.0|\n",
      "|    0|[0.97262767497817...|       0.0|\n",
      "+-----+--------------------+----------+\n",
      "only showing top 10 rows\n",
      "\n",
      "+-----+--------------------+----------+\n",
      "|label|         probability|prediction|\n",
      "+-----+--------------------+----------+\n",
      "|    0|[0.92537591395097...|       0.0|\n",
      "|    0|[0.98779349779824...|       0.0|\n",
      "|    1|[0.09647543479485...|       1.0|\n",
      "|    1|[0.01478802363210...|       1.0|\n",
      "|    1|[0.08133834893628...|       1.0|\n",
      "|    1|[0.07263885386861...|       1.0|\n",
      "|    0|[0.42416996683704...|       1.0|\n",
      "|    0|[0.26581956847365...|       1.0|\n",
      "|    1|[0.26147699042864...|       1.0|\n",
      "|    0|[0.97262767497817...|       0.0|\n",
      "+-----+--------------------+----------+\n",
      "only showing top 10 rows\n",
      "\n"
     ]
    },
    {
     "data": {
      "text/plain": [
       "DataFrame[label: bigint, probability: vector, prediction: double]"
      ]
     },
     "execution_count": 32,
     "metadata": {},
     "output_type": "execute_result"
    }
   ],
   "source": [
    "for x in range(2):\n",
    "    df = spark.sql(\n",
    "        \"SELECT * FROM prediction4\")\n",
    "    df.show(10)\n",
    "df"
   ]
  },
  {
   "cell_type": "code",
   "execution_count": null,
   "id": "d805a682-9dd3-44ca-8f38-912ffc41267f",
   "metadata": {},
   "outputs": [],
   "source": [
    "pip install scikit-learn"
   ]
  },
  {
   "cell_type": "code",
   "execution_count": 40,
   "id": "6e44ea5a-e459-4d78-aa7d-4230c6c973c5",
   "metadata": {},
   "outputs": [
    {
     "data": {
      "image/png": "[encoded data removed]",
      "text/plain": [
       "<Figure size 1000x600 with 1 Axes>"
      ]
     },
     "metadata": {},
     "output_type": "display_data"
    }
   ],
   "source": [
    "import matplotlib.pyplot as plt\n",
    "from pyspark.ml.evaluation import BinaryClassificationEvaluator\n",
    "from sklearn.metrics import roc_curve\n",
    "\n",
    "# Seleccionamos las probabilidades y las etiquetas\n",
    "labels_and_scores = predictions.select(\"label\", \"rawPrediction\").rdd.map(lambda row: (row[0], row[1][1]))\n",
    "\n",
    "# Convertimos a un DataFrame para usarlo con scikit-learn\n",
    "labels_and_scores = labels_and_scores.collect()\n",
    "labels = [x[0] for x in labels_and_scores]\n",
    "scores = [x[1] for x in labels_and_scores]\n",
    "\n",
    "# Calculamos la curva ROC con scikit-learn\n",
    "fpr, tpr, thresholds = roc_curve(labels, scores)\n",
    "\n",
    "# Graficamos la curva ROC\n",
    "plt.figure(figsize=(10,6))\n",
    "plt.plot(fpr, tpr, color='darkorange', lw=2, label='ROC curve')\n",
    "plt.plot([0, 1], [0, 1], color='navy', lw=2, linestyle='--')\n",
    "plt.xlim([0.0, 1.0])\n",
    "plt.ylim([0.0, 1.05])\n",
    "plt.xlabel('False Positive Rate')\n",
    "plt.ylabel('True Positive Rate')\n",
    "plt.title('Receiver Operating Characteristic')\n",
    "plt.legend(loc='lower right')\n",
    "plt.show()"
   ]
  },
  {
   "cell_type": "code",
   "execution_count": null,
   "id": "f0a95a71-8b77-4097-978f-4d8707ade6c9",
   "metadata": {},
   "outputs": [],
   "source": []
  }
 ],
 "metadata": {
  "kernelspec": {
   "display_name": "Python 3 (ipykernel)",
   "language": "python",
   "name": "python3"
  },
  "language_info": {
   "codemirror_mode": {
    "name": "ipython",
    "version": 3
   },
   "file_extension": ".py",
   "mimetype": "text/x-python",
   "name": "python",
   "nbconvert_exporter": "python",
   "pygments_lexer": "ipython3",
   "version": "3.11.9"
  }
 },
 "nbformat": 4,
 "nbformat_minor": 5
}
