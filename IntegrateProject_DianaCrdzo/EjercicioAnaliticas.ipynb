{
 "cells": [
  {
   "cell_type": "markdown",
   "id": "2c5ee432-a9fd-4bb2-be0b-ffab6cbb0c9a",
   "metadata": {},
   "source": [
    "# Solucion Ejerccios Analíticas "
   ]
  },
  {
   "cell_type": "code",
   "execution_count": null,
   "id": "fbd3aa19-3a30-411e-8767-0996c2937a38",
   "metadata": {},
   "outputs": [],
   "source": [
    "# Nececitamos a Pandas entoces tremos esa libreria\n",
    "import findspark\n",
    "findspark.init()\n",
    "\n",
    "import pandas as pd\n",
    "import pyspark"
   ]
  },
  {
   "cell_type": "code",
   "execution_count": null,
   "id": "39f28a9a-ab5a-443e-8d0b-d7d8f14c2a89",
   "metadata": {},
   "outputs": [],
   "source": [
    "pip install seaborn"
   ]
  },
  {
   "cell_type": "code",
   "execution_count": null,
   "id": "abb11d1b-8162-4ba6-8a08-b9765b398ced",
   "metadata": {},
   "outputs": [],
   "source": [
    "pip install pyspark"
   ]
  },
  {
   "cell_type": "code",
   "execution_count": null,
   "id": "f4dcf1b3-194d-4b75-908d-1eaad10a21f4",
   "metadata": {},
   "outputs": [],
   "source": [
    "# Nececitamos los siguietes recursos\n",
    "from pyspark.sql import functions as f\n",
    "import pandas as pd\n",
    "import seaborn as sns\n",
    "import matplotlib.pyplot as plt\n",
    "\n",
    "get_ipython().run_line_magic('matplotlib', 'inline')\n",
    "# Cuando se ejecuta este comando, se configura la visualización de gráficos \n",
    "# generados por matplotlib para que muestren directamente dentro del cuaderno "
   ]
  },
  {
   "cell_type": "code",
   "execution_count": null,
   "id": "c8e81800-a5f9-467c-8c17-1427740bf241",
   "metadata": {},
   "outputs": [],
   "source": [
    "from pyspark.sql import SparkSession\n",
    "\n",
    "spark = SparkSession.builder\\\n",
    "        .master(\"local[*]\")\\\n",
    "        .appName('PySpark_Analiticas')\\\n",
    "        .getOrCreate()"
   ]
  },
  {
   "cell_type": "code",
   "execution_count": null,
   "id": "8c7f068f-b590-4e2f-ab7d-f44b04c8d617",
   "metadata": {},
   "outputs": [],
   "source": [
    "from pyspark.sql.types import *\n",
    "\n",
    "data_schema = [\n",
    "               StructField('_c0', IntegerType(), True),\n",
    "               StructField('symbol', StringType(), True),\n",
    "               StructField('data', DateType(), True),\n",
    "               StructField('open', DoubleType(), True),\n",
    "               StructField('high', DoubleType(), True),\n",
    "               StructField('low', DoubleType(), True),\n",
    "               StructField('close', DoubleType(), True),\n",
    "               StructField('volume', IntegerType(), True),\n",
    "               StructField('adjusted', DoubleType(), True),\n",
    "               StructField('market.cap', StringType(), True),\n",
    "               StructField('sector', StringType(), True),\n",
    "               StructField('industry', StringType(), True),\n",
    "               StructField('exchange', StringType(), True),\n",
    "            ]\n",
    "\n",
    "final_struc = StructType(fields=data_schema)"
   ]
  },
  {
   "cell_type": "code",
   "execution_count": null,
   "id": "f351a8bd-5851-4df7-8731-5a64e1caab94",
   "metadata": {},
   "outputs": [],
   "source": [
    "data = spark.read.csv(\n",
    "    'C:/data/stocks_price_final.csv',\n",
    "    sep = ',',\n",
    "    header = True,\n",
    "    schema = final_struc\n",
    "    )"
   ]
  },
  {
   "cell_type": "code",
   "execution_count": 19,
   "id": "f14ce0b1-ae73-49ef-90d5-a0f84f97c014",
   "metadata": {},
   "outputs": [
    {
     "name": "stdout",
     "output_type": "stream",
     "text": [
      "root\n",
      " |-- _c0: integer (nullable = true)\n",
      " |-- symbol: string (nullable = true)\n",
      " |-- data: date (nullable = true)\n",
      " |-- open: double (nullable = true)\n",
      " |-- high: double (nullable = true)\n",
      " |-- low: double (nullable = true)\n",
      " |-- close: double (nullable = true)\n",
      " |-- volume: integer (nullable = true)\n",
      " |-- adjusted: double (nullable = true)\n",
      " |-- sector: string (nullable = true)\n",
      " |-- industry: string (nullable = true)\n",
      " |-- exchange: string (nullable = true)\n",
      "\n"
     ]
    }
   ],
   "source": [
    "data.printSchema()"
   ]
  },
  {
   "cell_type": "markdown",
   "id": "5c4e2577-02e9-40a9-93f1-eabe3c049f8f",
   "metadata": {},
   "source": [
    "**Eliminar o renombrar la variable market.cap**"
   ]
  },
  {
   "cell_type": "code",
   "execution_count": null,
   "id": "2207e841-29ca-4098-8ba0-fe20955b3cd8",
   "metadata": {},
   "outputs": [],
   "source": [
    "data = data.drop('market.cap')"
   ]
  },
  {
   "cell_type": "markdown",
   "id": "edc3bcb1-8160-4a03-901c-6aea03167008",
   "metadata": {},
   "source": [
    "**Filtrar los datos donde el valor de “open” es nulo y eliminar esas filas**"
   ]
  },
  {
   "cell_type": "code",
   "execution_count": 26,
   "id": "7a7b5225-5bd8-44e5-9e5d-32b68a43a364",
   "metadata": {},
   "outputs": [
    {
     "name": "stdout",
     "output_type": "stream",
     "text": [
      "+----+------+----------+----+----+----+-----+------+--------+-------------+--------------------+--------+\n",
      "| _c0|symbol|      data|open|high| low|close|volume|adjusted|       sector|            industry|exchange|\n",
      "+----+------+----------+----+----+----+-----+------+--------+-------------+--------------------+--------+\n",
      "|4378|  KRKR|2020-05-11|NULL|NULL|NULL| NULL|  NULL|    NULL|Miscellaneous|   Business Services|  NASDAQ|\n",
      "|5747|  NMTR|2020-01-23|NULL|NULL|NULL| NULL|  NULL|    NULL|  Health Care|Major Pharmaceuti...|  NASDAQ|\n",
      "|5748|  NMTR|2020-01-24|NULL|NULL|NULL| NULL|  NULL|    NULL|  Health Care|Major Pharmaceuti...|  NASDAQ|\n",
      "|5749|  NMTR|2020-01-27|NULL|NULL|NULL| NULL|  NULL|    NULL|  Health Care|Major Pharmaceuti...|  NASDAQ|\n",
      "|5750|  NMTR|2020-01-28|NULL|NULL|NULL| NULL|  NULL|    NULL|  Health Care|Major Pharmaceuti...|  NASDAQ|\n",
      "|5751|  NMTR|2020-01-29|NULL|NULL|NULL| NULL|  NULL|    NULL|  Health Care|Major Pharmaceuti...|  NASDAQ|\n",
      "|5752|  NMTR|2020-01-30|NULL|NULL|NULL| NULL|  NULL|    NULL|  Health Care|Major Pharmaceuti...|  NASDAQ|\n",
      "|5753|  NMTR|2020-01-31|NULL|NULL|NULL| NULL|  NULL|    NULL|  Health Care|Major Pharmaceuti...|  NASDAQ|\n",
      "|5754|  NMTR|2020-02-03|NULL|NULL|NULL| NULL|  NULL|    NULL|  Health Care|Major Pharmaceuti...|  NASDAQ|\n",
      "|5755|  NMTR|2020-02-04|NULL|NULL|NULL| NULL|  NULL|    NULL|  Health Care|Major Pharmaceuti...|  NASDAQ|\n",
      "|5756|  NMTR|2020-02-05|NULL|NULL|NULL| NULL|  NULL|    NULL|  Health Care|Major Pharmaceuti...|  NASDAQ|\n",
      "|5757|  NMTR|2020-02-06|NULL|NULL|NULL| NULL|  NULL|    NULL|  Health Care|Major Pharmaceuti...|  NASDAQ|\n",
      "|5758|  NMTR|2020-02-07|NULL|NULL|NULL| NULL|  NULL|    NULL|  Health Care|Major Pharmaceuti...|  NASDAQ|\n",
      "|5759|  NMTR|2020-02-10|NULL|NULL|NULL| NULL|  NULL|    NULL|  Health Care|Major Pharmaceuti...|  NASDAQ|\n",
      "|5760|  NMTR|2020-02-11|NULL|NULL|NULL| NULL|  NULL|    NULL|  Health Care|Major Pharmaceuti...|  NASDAQ|\n",
      "|5761|  NMTR|2020-02-12|NULL|NULL|NULL| NULL|  NULL|    NULL|  Health Care|Major Pharmaceuti...|  NASDAQ|\n",
      "|5762|  NMTR|2020-02-13|NULL|NULL|NULL| NULL|  NULL|    NULL|  Health Care|Major Pharmaceuti...|  NASDAQ|\n",
      "|5763|  NMTR|2020-02-14|NULL|NULL|NULL| NULL|  NULL|    NULL|  Health Care|Major Pharmaceuti...|  NASDAQ|\n",
      "|5764|  NMTR|2020-02-18|NULL|NULL|NULL| NULL|  NULL|    NULL|  Health Care|Major Pharmaceuti...|  NASDAQ|\n",
      "|5765|  NMTR|2020-02-19|NULL|NULL|NULL| NULL|  NULL|    NULL|  Health Care|Major Pharmaceuti...|  NASDAQ|\n",
      "+----+------+----------+----+----+----+-----+------+--------+-------------+--------------------+--------+\n",
      "only showing top 20 rows\n",
      "\n"
     ]
    }
   ],
   "source": [
    "data.filter(\"open is null\").show()"
   ]
  },
  {
   "cell_type": "code",
   "execution_count": null,
   "id": "67cccee1-c858-40d9-9e40-d247e06ead73",
   "metadata": {},
   "outputs": [],
   "source": [
    "#Notas para tratamiento datos perdidos o incompletos ====\n",
    "#data.na.drop(): Elimina filas con cualquier valor nulo\n",
    "#data.na.drop(how='all'): Elimina solo filas donde TODOS los valores son nulos\n",
    "#data.na.drop(subset=['columna']): Elimina filas con nulos solo en esa columna específica\n",
    "\n",
    "data.na.drop()"
   ]
  },
  {
   "cell_type": "code",
   "execution_count": 20,
   "id": "ec17477d-f507-41d4-aede-eb61b2dc133f",
   "metadata": {},
   "outputs": [
    {
     "name": "stdout",
     "output_type": "stream",
     "text": [
      "+---+------+----------+---------+---------+---------+---------+-------+---------+-------------+--------------------+--------+\n",
      "|_c0|symbol|      data|     open|     high|      low|    close| volume| adjusted|       sector|            industry|exchange|\n",
      "+---+------+----------+---------+---------+---------+---------+-------+---------+-------------+--------------------+--------+\n",
      "|  1|   TXG|2019-09-12|     54.0|     58.0|     51.0|    52.75|7326300|    52.75|Capital Goods|Biotechnology: La...|  NASDAQ|\n",
      "|  2|   TXG|2019-09-13|    52.75|   54.355|49.150002|    52.27|1025200|    52.27|Capital Goods|Biotechnology: La...|  NASDAQ|\n",
      "|  3|   TXG|2019-09-16|52.450001|     56.0|52.009998|55.200001| 269900|55.200001|Capital Goods|Biotechnology: La...|  NASDAQ|\n",
      "|  4|   TXG|2019-09-17|56.209999|60.900002|   55.423|56.779999| 602800|56.779999|Capital Goods|Biotechnology: La...|  NASDAQ|\n",
      "|  5|   TXG|2019-09-18|56.849998|    62.27|55.650002|     62.0|1589600|     62.0|Capital Goods|Biotechnology: La...|  NASDAQ|\n",
      "|  6|   TXG|2019-09-19|62.810001|   63.375|61.029999|61.119999| 425200|61.119999|Capital Goods|Biotechnology: La...|  NASDAQ|\n",
      "|  7|   TXG|2019-09-20|61.709999|62.419998|    59.82|     60.5| 392000|     60.5|Capital Goods|Biotechnology: La...|  NASDAQ|\n",
      "|  8|   TXG|2019-09-23|60.220001|61.485001|59.939999|60.330002| 137200|60.330002|Capital Goods|Biotechnology: La...|  NASDAQ|\n",
      "|  9|   TXG|2019-09-24|     61.0|     61.0|     54.0|54.299999| 713800|54.299999|Capital Goods|Biotechnology: La...|  NASDAQ|\n",
      "| 10|   TXG|2019-09-25|54.459999|55.880001|   52.563|52.759998| 261200|52.759998|Capital Goods|Biotechnology: La...|  NASDAQ|\n",
      "+---+------+----------+---------+---------+---------+---------+-------+---------+-------------+--------------------+--------+\n",
      "only showing top 10 rows\n",
      "\n"
     ]
    }
   ],
   "source": [
    "data.show(10)"
   ]
  },
  {
   "cell_type": "markdown",
   "id": "857ed093-c95f-46c7-a389-acee03fc0a6a",
   "metadata": {},
   "source": [
    "**Calcular el mínimo y máximo de data, open, close y adjusted**"
   ]
  },
  {
   "cell_type": "code",
   "execution_count": null,
   "id": "e6f1c9dd-5e2f-4201-8c74-a0a430390ca3",
   "metadata": {},
   "outputs": [],
   "source": [
    "from pyspark.sql.functions import col, min, max, avg, lit\n",
    "\n",
    "data_transf = data.groupBy(\"sector\") \\\n",
    "    .agg(min(\"data\").alias(\"From\"), \n",
    "         max(\"data\").alias(\"To\"), \n",
    "         \n",
    "         min(\"open\").alias(\"Minimum Opening\"),\n",
    "         max(\"open\").alias(\"Maximum Opening\"), \n",
    "\n",
    "         min(\"close\").alias(\"Minimum Closing\"), \n",
    "         max(\"close\").alias(\"Maximum Closing\"),  \n",
    "\n",
    "         min(\"adjusted\").alias(\"Minimum Adjusted Closing\"), \n",
    "         max(\"adjusted\").alias(\"Maximum Adjusted Closing\"), \n",
    "\n",
    "      )"
   ]
  },
  {
   "cell_type": "markdown",
   "id": "3251fdb0-c361-42a0-ba04-cb42245b8a02",
   "metadata": {},
   "source": [
    "**Convertir un DataFrame de Spark en un DataFrame de pandas**"
   ]
  },
  {
   "cell_type": "code",
   "execution_count": 21,
   "id": "31202d27-c8c3-4300-9efd-bb350c8b749e",
   "metadata": {},
   "outputs": [
    {
     "data": {
      "text/html": [
       "<div>\n",
       "<style scoped>\n",
       "    .dataframe tbody tr th:only-of-type {\n",
       "        vertical-align: middle;\n",
       "    }\n",
       "\n",
       "    .dataframe tbody tr th {\n",
       "        vertical-align: top;\n",
       "    }\n",
       "\n",
       "    .dataframe thead th {\n",
       "        text-align: right;\n",
       "    }\n",
       "</style>\n",
       "<table border=\"1\" class=\"dataframe\">\n",
       "  <thead>\n",
       "    <tr style=\"text-align: right;\">\n",
       "      <th></th>\n",
       "      <th>sector</th>\n",
       "      <th>From</th>\n",
       "      <th>To</th>\n",
       "      <th>Minimum Opening</th>\n",
       "      <th>Maximum Opening</th>\n",
       "      <th>Minimum Closing</th>\n",
       "      <th>Maximum Closing</th>\n",
       "      <th>Minimum Adjusted Closing</th>\n",
       "      <th>Maximum Adjusted Closing</th>\n",
       "    </tr>\n",
       "  </thead>\n",
       "  <tbody>\n",
       "    <tr>\n",
       "      <th>0</th>\n",
       "      <td>Miscellaneous</td>\n",
       "      <td>2019-01-02</td>\n",
       "      <td>2020-07-22</td>\n",
       "      <td>0.147</td>\n",
       "      <td>1.059990e+03</td>\n",
       "      <td>0.1361</td>\n",
       "      <td>1.035830e+03</td>\n",
       "      <td>0.136100</td>\n",
       "      <td>1.035830e+03</td>\n",
       "    </tr>\n",
       "    <tr>\n",
       "      <th>1</th>\n",
       "      <td>Health Care</td>\n",
       "      <td>2019-01-02</td>\n",
       "      <td>2020-07-22</td>\n",
       "      <td>0.072</td>\n",
       "      <td>1.860000e+05</td>\n",
       "      <td>0.0710</td>\n",
       "      <td>1.870000e+05</td>\n",
       "      <td>0.071000</td>\n",
       "      <td>1.870000e+05</td>\n",
       "    </tr>\n",
       "    <tr>\n",
       "      <th>2</th>\n",
       "      <td>Public Utilities</td>\n",
       "      <td>2019-01-02</td>\n",
       "      <td>2020-07-22</td>\n",
       "      <td>0.331</td>\n",
       "      <td>2.800000e+02</td>\n",
       "      <td>0.3250</td>\n",
       "      <td>2.822200e+02</td>\n",
       "      <td>0.325000</td>\n",
       "      <td>2.806739e+02</td>\n",
       "    </tr>\n",
       "    <tr>\n",
       "      <th>3</th>\n",
       "      <td>Energy</td>\n",
       "      <td>2019-01-02</td>\n",
       "      <td>2020-07-22</td>\n",
       "      <td>0.100</td>\n",
       "      <td>9.050000e+02</td>\n",
       "      <td>0.0900</td>\n",
       "      <td>9.010400e+02</td>\n",
       "      <td>0.090000</td>\n",
       "      <td>8.790570e+02</td>\n",
       "    </tr>\n",
       "    <tr>\n",
       "      <th>4</th>\n",
       "      <td>Consumer Non-Durables</td>\n",
       "      <td>2019-01-02</td>\n",
       "      <td>2020-07-22</td>\n",
       "      <td>0.120</td>\n",
       "      <td>6.550000e+02</td>\n",
       "      <td>0.1200</td>\n",
       "      <td>6.641300e+02</td>\n",
       "      <td>0.120000</td>\n",
       "      <td>6.641300e+02</td>\n",
       "    </tr>\n",
       "    <tr>\n",
       "      <th>5</th>\n",
       "      <td>Finance</td>\n",
       "      <td>2019-01-02</td>\n",
       "      <td>2020-07-22</td>\n",
       "      <td>0.250</td>\n",
       "      <td>1.336930e+03</td>\n",
       "      <td>0.2700</td>\n",
       "      <td>1.341080e+03</td>\n",
       "      <td>0.270000</td>\n",
       "      <td>1.341080e+03</td>\n",
       "    </tr>\n",
       "    <tr>\n",
       "      <th>6</th>\n",
       "      <td>Basic Industries</td>\n",
       "      <td>2019-01-02</td>\n",
       "      <td>2020-07-22</td>\n",
       "      <td>0.230</td>\n",
       "      <td>1.601682e+08</td>\n",
       "      <td>0.2300</td>\n",
       "      <td>1.583766e+08</td>\n",
       "      <td>0.230000</td>\n",
       "      <td>1.572494e+08</td>\n",
       "    </tr>\n",
       "    <tr>\n",
       "      <th>7</th>\n",
       "      <td>Capital Goods</td>\n",
       "      <td>2019-01-02</td>\n",
       "      <td>2020-07-22</td>\n",
       "      <td>0.130</td>\n",
       "      <td>4.025000e+03</td>\n",
       "      <td>0.1200</td>\n",
       "      <td>4.037770e+03</td>\n",
       "      <td>-1.230099</td>\n",
       "      <td>4.037770e+03</td>\n",
       "    </tr>\n",
       "    <tr>\n",
       "      <th>8</th>\n",
       "      <td>Technology</td>\n",
       "      <td>2019-01-02</td>\n",
       "      <td>2020-07-22</td>\n",
       "      <td>0.140</td>\n",
       "      <td>2.704000e+03</td>\n",
       "      <td>0.1300</td>\n",
       "      <td>2.736000e+03</td>\n",
       "      <td>0.130000</td>\n",
       "      <td>2.736000e+03</td>\n",
       "    </tr>\n",
       "    <tr>\n",
       "      <th>9</th>\n",
       "      <td>Consumer Services</td>\n",
       "      <td>2019-01-02</td>\n",
       "      <td>2020-07-22</td>\n",
       "      <td>0.100</td>\n",
       "      <td>1.543750e+04</td>\n",
       "      <td>0.1340</td>\n",
       "      <td>1.984375e+04</td>\n",
       "      <td>0.134000</td>\n",
       "      <td>1.984375e+04</td>\n",
       "    </tr>\n",
       "    <tr>\n",
       "      <th>10</th>\n",
       "      <td>Consumer Durables</td>\n",
       "      <td>2019-01-02</td>\n",
       "      <td>2020-07-22</td>\n",
       "      <td>0.320</td>\n",
       "      <td>1.117188e+05</td>\n",
       "      <td>0.3100</td>\n",
       "      <td>1.187500e+05</td>\n",
       "      <td>0.310000</td>\n",
       "      <td>1.187500e+05</td>\n",
       "    </tr>\n",
       "    <tr>\n",
       "      <th>11</th>\n",
       "      <td>Transportation</td>\n",
       "      <td>2019-01-02</td>\n",
       "      <td>2020-07-22</td>\n",
       "      <td>0.080</td>\n",
       "      <td>2.744100e+02</td>\n",
       "      <td>0.0800</td>\n",
       "      <td>2.740400e+02</td>\n",
       "      <td>0.080000</td>\n",
       "      <td>2.740400e+02</td>\n",
       "    </tr>\n",
       "  </tbody>\n",
       "</table>\n",
       "</div>"
      ],
      "text/plain": [
       "                   sector        From          To  Minimum Opening  \\\n",
       "0           Miscellaneous  2019-01-02  2020-07-22            0.147   \n",
       "1             Health Care  2019-01-02  2020-07-22            0.072   \n",
       "2        Public Utilities  2019-01-02  2020-07-22            0.331   \n",
       "3                  Energy  2019-01-02  2020-07-22            0.100   \n",
       "4   Consumer Non-Durables  2019-01-02  2020-07-22            0.120   \n",
       "5                 Finance  2019-01-02  2020-07-22            0.250   \n",
       "6        Basic Industries  2019-01-02  2020-07-22            0.230   \n",
       "7           Capital Goods  2019-01-02  2020-07-22            0.130   \n",
       "8              Technology  2019-01-02  2020-07-22            0.140   \n",
       "9       Consumer Services  2019-01-02  2020-07-22            0.100   \n",
       "10      Consumer Durables  2019-01-02  2020-07-22            0.320   \n",
       "11         Transportation  2019-01-02  2020-07-22            0.080   \n",
       "\n",
       "    Maximum Opening  Minimum Closing  Maximum Closing  \\\n",
       "0      1.059990e+03           0.1361     1.035830e+03   \n",
       "1      1.860000e+05           0.0710     1.870000e+05   \n",
       "2      2.800000e+02           0.3250     2.822200e+02   \n",
       "3      9.050000e+02           0.0900     9.010400e+02   \n",
       "4      6.550000e+02           0.1200     6.641300e+02   \n",
       "5      1.336930e+03           0.2700     1.341080e+03   \n",
       "6      1.601682e+08           0.2300     1.583766e+08   \n",
       "7      4.025000e+03           0.1200     4.037770e+03   \n",
       "8      2.704000e+03           0.1300     2.736000e+03   \n",
       "9      1.543750e+04           0.1340     1.984375e+04   \n",
       "10     1.117188e+05           0.3100     1.187500e+05   \n",
       "11     2.744100e+02           0.0800     2.740400e+02   \n",
       "\n",
       "    Minimum Adjusted Closing  Maximum Adjusted Closing  \n",
       "0                   0.136100              1.035830e+03  \n",
       "1                   0.071000              1.870000e+05  \n",
       "2                   0.325000              2.806739e+02  \n",
       "3                   0.090000              8.790570e+02  \n",
       "4                   0.120000              6.641300e+02  \n",
       "5                   0.270000              1.341080e+03  \n",
       "6                   0.230000              1.572494e+08  \n",
       "7                  -1.230099              4.037770e+03  \n",
       "8                   0.130000              2.736000e+03  \n",
       "9                   0.134000              1.984375e+04  \n",
       "10                  0.310000              1.187500e+05  \n",
       "11                  0.080000              2.740400e+02  "
      ]
     },
     "execution_count": 21,
     "metadata": {},
     "output_type": "execute_result"
    }
   ],
   "source": [
    "data_transf.toPandas()"
   ]
  },
  {
   "cell_type": "markdown",
   "id": "e5759737-f17d-4374-8e79-0aa458217721",
   "metadata": {},
   "source": [
    "**Calcular la media de las variables open, close y adjusted por industria**"
   ]
  },
  {
   "cell_type": "code",
   "execution_count": 22,
   "id": "d5147d56-efd4-42e5-bf3c-e7dd73ab71b8",
   "metadata": {},
   "outputs": [
    {
     "data": {
      "text/html": [
       "<div>\n",
       "<style scoped>\n",
       "    .dataframe tbody tr th:only-of-type {\n",
       "        vertical-align: middle;\n",
       "    }\n",
       "\n",
       "    .dataframe tbody tr th {\n",
       "        vertical-align: top;\n",
       "    }\n",
       "\n",
       "    .dataframe thead th {\n",
       "        text-align: right;\n",
       "    }\n",
       "</style>\n",
       "<table border=\"1\" class=\"dataframe\">\n",
       "  <thead>\n",
       "    <tr style=\"text-align: right;\">\n",
       "      <th></th>\n",
       "      <th>industry</th>\n",
       "      <th>avg(open)</th>\n",
       "      <th>avg(close)</th>\n",
       "      <th>avg(adjusted)</th>\n",
       "    </tr>\n",
       "  </thead>\n",
       "  <tbody>\n",
       "    <tr>\n",
       "      <th>0</th>\n",
       "      <td>Finance/Investors Services</td>\n",
       "      <td>5.134402</td>\n",
       "      <td>5.136631</td>\n",
       "      <td>4.991354</td>\n",
       "    </tr>\n",
       "    <tr>\n",
       "      <th>1</th>\n",
       "      <td>Miscellaneous</td>\n",
       "      <td>16.385883</td>\n",
       "      <td>16.359879</td>\n",
       "      <td>16.148959</td>\n",
       "    </tr>\n",
       "    <tr>\n",
       "      <th>2</th>\n",
       "      <td>Investment Bankers/Brokers/Service</td>\n",
       "      <td>58.950581</td>\n",
       "      <td>58.983086</td>\n",
       "      <td>58.157837</td>\n",
       "    </tr>\n",
       "    <tr>\n",
       "      <th>3</th>\n",
       "      <td>Food Distributors</td>\n",
       "      <td>43.274509</td>\n",
       "      <td>43.273178</td>\n",
       "      <td>42.910476</td>\n",
       "    </tr>\n",
       "    <tr>\n",
       "      <th>4</th>\n",
       "      <td>Broadcasting</td>\n",
       "      <td>24.916787</td>\n",
       "      <td>24.917388</td>\n",
       "      <td>24.699102</td>\n",
       "    </tr>\n",
       "    <tr>\n",
       "      <th>...</th>\n",
       "      <td>...</td>\n",
       "      <td>...</td>\n",
       "      <td>...</td>\n",
       "      <td>...</td>\n",
       "    </tr>\n",
       "    <tr>\n",
       "      <th>130</th>\n",
       "      <td>Wholesale Distributors</td>\n",
       "      <td>16.608839</td>\n",
       "      <td>16.602717</td>\n",
       "      <td>16.602717</td>\n",
       "    </tr>\n",
       "    <tr>\n",
       "      <th>131</th>\n",
       "      <td>Electronics Distribution</td>\n",
       "      <td>6.428699</td>\n",
       "      <td>6.430408</td>\n",
       "      <td>6.377569</td>\n",
       "    </tr>\n",
       "    <tr>\n",
       "      <th>132</th>\n",
       "      <td>Tools/Hardware</td>\n",
       "      <td>70.412755</td>\n",
       "      <td>70.475944</td>\n",
       "      <td>69.670351</td>\n",
       "    </tr>\n",
       "    <tr>\n",
       "      <th>133</th>\n",
       "      <td>Tobacco</td>\n",
       "      <td>32.467832</td>\n",
       "      <td>32.455689</td>\n",
       "      <td>32.213047</td>\n",
       "    </tr>\n",
       "    <tr>\n",
       "      <th>134</th>\n",
       "      <td>General Bldg Contractors - Nonresidential Bldgs</td>\n",
       "      <td>13.528546</td>\n",
       "      <td>13.509209</td>\n",
       "      <td>13.509209</td>\n",
       "    </tr>\n",
       "  </tbody>\n",
       "</table>\n",
       "<p>135 rows × 4 columns</p>\n",
       "</div>"
      ],
      "text/plain": [
       "                                            industry  avg(open)  avg(close)  \\\n",
       "0                         Finance/Investors Services   5.134402    5.136631   \n",
       "1                                      Miscellaneous  16.385883   16.359879   \n",
       "2                 Investment Bankers/Brokers/Service  58.950581   58.983086   \n",
       "3                                  Food Distributors  43.274509   43.273178   \n",
       "4                                       Broadcasting  24.916787   24.917388   \n",
       "..                                               ...        ...         ...   \n",
       "130                           Wholesale Distributors  16.608839   16.602717   \n",
       "131                         Electronics Distribution   6.428699    6.430408   \n",
       "132                                   Tools/Hardware  70.412755   70.475944   \n",
       "133                                          Tobacco  32.467832   32.455689   \n",
       "134  General Bldg Contractors - Nonresidential Bldgs  13.528546   13.509209   \n",
       "\n",
       "     avg(adjusted)  \n",
       "0         4.991354  \n",
       "1        16.148959  \n",
       "2        58.157837  \n",
       "3        42.910476  \n",
       "4        24.699102  \n",
       "..             ...  \n",
       "130      16.602717  \n",
       "131       6.377569  \n",
       "132      69.670351  \n",
       "133      32.213047  \n",
       "134      13.509209  \n",
       "\n",
       "[135 rows x 4 columns]"
      ]
     },
     "execution_count": 22,
     "metadata": {},
     "output_type": "execute_result"
    }
   ],
   "source": [
    "data_df = data.select(['industry', 'open', 'close', 'adjusted']).groupBy('industry').mean().toPandas()\n",
    "data_df"
   ]
  },
  {
   "cell_type": "markdown",
   "id": "34c0163a-ae7a-4aff-a543-f48c88c8ac02",
   "metadata": {},
   "source": [
    "**Generar un gráfico de líneas donde se muestre la media de open por industria**"
   ]
  },
  {
   "cell_type": "code",
   "execution_count": 23,
   "id": "11575ceb-3090-4db3-9add-984c8baf622c",
   "metadata": {
    "scrolled": true
   },
   "outputs": [
    {
     "data": {
      "text/plain": [
       "<Axes: >"
      ]
     },
     "execution_count": 23,
     "metadata": {},
     "output_type": "execute_result"
    }
   ],
   "source": [
    "data_df[['industry', 'avg(open)']].plot()"
   ]
  },
  {
   "cell_type": "code",
   "execution_count": 25,
   "id": "8f015e1b-5a03-4c8b-b072-c7a4a1e90567",
   "metadata": {},
   "outputs": [
    {
     "name": "stdout",
     "output_type": "stream",
     "text": [
      "industry          object\n",
      "avg(open)        float64\n",
      "avg(close)       float64\n",
      "avg(adjusted)    float64\n",
      "dtype: object\n"
     ]
    }
   ],
   "source": [
    "print(data_df.dtypes)"
   ]
  },
  {
   "cell_type": "code",
   "execution_count": 27,
   "id": "894b7788-91a1-4919-b600-ff4c095a2691",
   "metadata": {},
   "outputs": [],
   "source": [
    "corr = data_df.select_dtypes(include=['float64', 'int64']).corr()"
   ]
  },
  {
   "cell_type": "code",
   "execution_count": 28,
   "id": "df69780d-5a3e-4314-8355-d6522d039291",
   "metadata": {},
   "outputs": [
    {
     "data": {
      "image/png": "[encoded data removed]",
      "text/plain": [
       "<Figure size 640x480 with 1 Axes>"
      ]
     },
     "metadata": {},
     "output_type": "display_data"
    },
    {
     "data": {
      "image/png": "[encoded data removed]",
      "text/plain": [
       "<Figure size 640x480 with 1 Axes>"
      ]
     },
     "metadata": {},
     "output_type": "display_data"
    },
    {
     "data": {
      "image/png": "[encoded data removed]",
      "text/plain": [
       "<Figure size 640x480 with 1 Axes>"
      ]
     },
     "metadata": {},
     "output_type": "display_data"
    },
    {
     "data": {
      "image/png": "[encoded data removed]",
      "text/plain": [
       "<Figure size 640x480 with 2 Axes>"
      ]
     },
     "metadata": {},
     "output_type": "display_data"
    }
   ],
   "source": [
    "import seaborn as sb\n",
    "import matplotlib.pyplot as plt\n",
    "\n",
    "sb.heatmap(corr, cmap=\"Blues\", annot=True)\n",
    "plt.show()\n"
   ]
  },
  {
   "cell_type": "code",
   "execution_count": 29,
   "id": "9599736a-1a5b-4656-ab57-c321f7785dc7",
   "metadata": {},
   "outputs": [],
   "source": [
    "# Parquet\n",
    "data.select(['data', 'open', 'close', 'adjusted'])\\\n",
    "    .write.save('dataset.parquet', format='parquet')"
   ]
  },
  {
   "cell_type": "code",
   "execution_count": null,
   "id": "b3627aa8-d2bf-407f-b7f5-446059d52041",
   "metadata": {},
   "outputs": [],
   "source": []
  }
 ],
 "metadata": {
  "kernelspec": {
   "display_name": "Python 3 (ipykernel)",
   "language": "python",
   "name": "python3"
  },
  "language_info": {
   "codemirror_mode": {
    "name": "ipython",
    "version": 3
   },
   "file_extension": ".py",
   "mimetype": "text/x-python",
   "name": "python",
   "nbconvert_exporter": "python",
   "pygments_lexer": "ipython3",
   "version": "3.11.9"
  }
 },
 "nbformat": 4,
 "nbformat_minor": 5
}
